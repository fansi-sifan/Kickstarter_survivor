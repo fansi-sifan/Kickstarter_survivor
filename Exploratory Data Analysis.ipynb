{
 "cells": [
  {
   "cell_type": "markdown",
   "metadata": {},
   "source": [
    "# Kickstarter EDA\n",
    "## Load data"
   ]
  },
  {
   "cell_type": "code",
   "execution_count": 2,
   "metadata": {
    "collapsed": true
   },
   "outputs": [],
   "source": [
    "#Load the Librarys\n",
    "import pandas as pd\n",
    "import numpy as np\n",
    "import seaborn as sns\n",
    "import matplotlib.pyplot as plt"
   ]
  },
  {
   "cell_type": "code",
   "execution_count": 39,
   "metadata": {
    "collapsed": true
   },
   "outputs": [],
   "source": [
    "df = pd.read_pickle(\"master\")"
   ]
  },
  {
   "cell_type": "code",
   "execution_count": 23,
   "metadata": {},
   "outputs": [
    {
     "name": "stdout",
     "output_type": "stream",
     "text": [
      "location_country              203\n",
      "location_state               1236\n",
      "location_localized_name     12403\n",
      "cbsa_name                     878\n",
      "top100                          2\n",
      "backers_count                3580\n",
      "goal                         5908\n",
      "pledged                     49808\n",
      "creator_name               187401\n",
      "gender                          6\n",
      "category_broad                 15\n",
      "category_name                 158\n",
      "launched_at                228934\n",
      "deadline                   212094\n",
      "state_changed_at           215359\n",
      "state                           5\n",
      "life                        65184\n",
      "duration                    78678\n",
      "prep                       213055\n",
      "dtype: int64\n",
      "(253465, 19)\n"
     ]
    }
   ],
   "source": [
    "print(df.nunique())\n",
    "print(df.shape)"
   ]
  },
  {
   "cell_type": "code",
   "execution_count": 25,
   "metadata": {},
   "outputs": [
    {
     "data": {
      "text/plain": [
       "location_country             1019\n",
       "location_state               1069\n",
       "location_localized_name     52324\n",
       "cbsa_name                  106593\n",
       "top100                     106593\n",
       "backers_count                   0\n",
       "goal                            0\n",
       "pledged                         0\n",
       "creator_name                    0\n",
       "gender                          0\n",
       "category_broad                  0\n",
       "category_name                   0\n",
       "launched_at                     0\n",
       "deadline                        0\n",
       "state_changed_at                0\n",
       "state                           0\n",
       "life                            0\n",
       "duration                        0\n",
       "prep                            0\n",
       "dtype: int64"
      ]
     },
     "execution_count": 25,
     "metadata": {},
     "output_type": "execute_result"
    }
   ],
   "source": [
    "df.isnull().sum()"
   ]
  },
  {
   "cell_type": "code",
   "execution_count": 40,
   "metadata": {
    "collapsed": true
   },
   "outputs": [],
   "source": [
    "df[\"launched_year\"] = df['launched_at'].dt.year"
   ]
  },
  {
   "cell_type": "code",
   "execution_count": 41,
   "metadata": {},
   "outputs": [
    {
     "data": {
      "text/plain": [
       "location_state  launched_year\n",
       "CA              2009              101\n",
       "                2010             1085\n",
       "                2011             2739\n",
       "                2012             3557\n",
       "                2013             2895\n",
       "                2014             4455\n",
       "                2015             4814\n",
       "                2016             3152\n",
       "                2017             2480\n",
       "                2018              473\n",
       "Name: duration, dtype: int64"
      ]
     },
     "execution_count": 41,
     "metadata": {},
     "output_type": "execute_result"
    }
   ],
   "source": [
    "df[df['location_state']=='CA'].groupby(['location_state','launched_year'])['duration'].count()"
   ]
  },
  {
   "cell_type": "code",
   "execution_count": 62,
   "metadata": {
    "collapsed": true
   },
   "outputs": [],
   "source": [
    "np.random.seed(0)"
   ]
  },
  {
   "cell_type": "markdown",
   "metadata": {},
   "source": [
    "## Scaling and Randomization"
   ]
  },
  {
   "cell_type": "code",
   "execution_count": 63,
   "metadata": {
    "collapsed": true
   },
   "outputs": [],
   "source": [
    "from scipy import stats\n"
   ]
  },
  {
   "cell_type": "code",
   "execution_count": 42,
   "metadata": {
    "collapsed": true
   },
   "outputs": [],
   "source": [
    "df['pledged_log'] = np.log(df['pledged']+1)\n",
    "df['goal_log'] = np.log(df['goal']+1)"
   ]
  },
  {
   "cell_type": "markdown",
   "metadata": {},
   "source": [
    "## Visualize"
   ]
  },
  {
   "cell_type": "code",
   "execution_count": 43,
   "metadata": {},
   "outputs": [
    {
     "data": {
      "image/png": "[encoded data removed]",
      "text/plain": [
       "<matplotlib.figure.Figure at 0x1a31fb62b0>"
      ]
     },
     "metadata": {},
     "output_type": "display_data"
    }
   ],
   "source": [
    "plt.figure(figsize=(12,6))\n",
    "\n",
    "plt.subplot(121)\n",
    "sns.boxplot(x='state', y=\"goal_log\", data = df)\n",
    "\n",
    "plt.subplot(122)\n",
    "sns.boxplot(x='state', y=\"pledged_log\", data = df)\n",
    "\n",
    "plt.show()"
   ]
  },
  {
   "cell_type": "code",
   "execution_count": 44,
   "metadata": {},
   "outputs": [
    {
     "data": {
      "image/png": "[encoded data removed]",
      "text/plain": [
       "<matplotlib.figure.Figure at 0x1a31f8ce10>"
      ]
     },
     "metadata": {},
     "output_type": "display_data"
    }
   ],
   "source": [
    "sns.countplot(x='launched_year', data = df, hue='state')\n",
    "plt.show()"
   ]
  },
  {
   "cell_type": "code",
   "execution_count": 46,
   "metadata": {},
   "outputs": [
    {
     "data": {
      "text/plain": [
       "successful    105055\n",
       "failed         82220\n",
       "canceled        9764\n",
       "live            4358\n",
       "suspended        678\n",
       "Name: state, dtype: int64"
      ]
     },
     "execution_count": 46,
     "metadata": {},
     "output_type": "execute_result"
    }
   ],
   "source": [
    "df['state'].value_counts()"
   ]
  },
  {
   "cell_type": "code",
   "execution_count": 45,
   "metadata": {},
   "outputs": [
    {
     "data": {
      "text/html": [
       "<style  type=\"text/css\" >\n",
       "    #T_d34997d2_8e28_11e8_a2ec_a8667f010fe3row0_col0 {\n",
       "            background-color:  #e1fde1;\n",
       "        }    #T_d34997d2_8e28_11e8_a2ec_a8667f010fe3row0_col1 {\n",
       "            background-color:  #e3fee3;\n",
       "        }    #T_d34997d2_8e28_11e8_a2ec_a8667f010fe3row0_col2 {\n",
       "            background-color:  #e2fde2;\n",
       "        }    #T_d34997d2_8e28_11e8_a2ec_a8667f010fe3row0_col3 {\n",
       "            background-color:  #e2fde2;\n",
       "        }    #T_d34997d2_8e28_11e8_a2ec_a8667f010fe3row0_col4 {\n",
       "            background-color:  #e2fde2;\n",
       "        }    #T_d34997d2_8e28_11e8_a2ec_a8667f010fe3row0_col5 {\n",
       "            background-color:  #cdf2cd;\n",
       "        }    #T_d34997d2_8e28_11e8_a2ec_a8667f010fe3row0_col6 {\n",
       "            background-color:  #c9efc9;\n",
       "        }    #T_d34997d2_8e28_11e8_a2ec_a8667f010fe3row0_col7 {\n",
       "            background-color:  #c2ecc2;\n",
       "        }    #T_d34997d2_8e28_11e8_a2ec_a8667f010fe3row0_col8 {\n",
       "            background-color:  #caf0ca;\n",
       "        }    #T_d34997d2_8e28_11e8_a2ec_a8667f010fe3row0_col9 {\n",
       "            background-color:  #e1fde1;\n",
       "        }    #T_d34997d2_8e28_11e8_a2ec_a8667f010fe3row1_col0 {\n",
       "            background-color:  #8dce8d;\n",
       "        }    #T_d34997d2_8e28_11e8_a2ec_a8667f010fe3row1_col1 {\n",
       "            background-color:  #9dd79d;\n",
       "        }    #T_d34997d2_8e28_11e8_a2ec_a8667f010fe3row1_col2 {\n",
       "            background-color:  #aadeaa;\n",
       "        }    #T_d34997d2_8e28_11e8_a2ec_a8667f010fe3row1_col3 {\n",
       "            background-color:  #a3daa3;\n",
       "        }    #T_d34997d2_8e28_11e8_a2ec_a8667f010fe3row1_col4 {\n",
       "            background-color:  #a4dba4;\n",
       "        }    #T_d34997d2_8e28_11e8_a2ec_a8667f010fe3row1_col5 {\n",
       "            background-color:  #008000;\n",
       "        }    #T_d34997d2_8e28_11e8_a2ec_a8667f010fe3row1_col6 {\n",
       "            background-color:  #008000;\n",
       "        }    #T_d34997d2_8e28_11e8_a2ec_a8667f010fe3row1_col7 {\n",
       "            background-color:  #008000;\n",
       "        }    #T_d34997d2_8e28_11e8_a2ec_a8667f010fe3row1_col8 {\n",
       "            background-color:  #2b982b;\n",
       "        }    #T_d34997d2_8e28_11e8_a2ec_a8667f010fe3row1_col9 {\n",
       "            background-color:  #d8f8d8;\n",
       "        }    #T_d34997d2_8e28_11e8_a2ec_a8667f010fe3row2_col0 {\n",
       "            background-color:  #e5ffe5;\n",
       "        }    #T_d34997d2_8e28_11e8_a2ec_a8667f010fe3row2_col1 {\n",
       "            background-color:  #e5ffe5;\n",
       "        }    #T_d34997d2_8e28_11e8_a2ec_a8667f010fe3row2_col2 {\n",
       "            background-color:  #e5ffe5;\n",
       "        }    #T_d34997d2_8e28_11e8_a2ec_a8667f010fe3row2_col3 {\n",
       "            background-color:  #e5ffe5;\n",
       "        }    #T_d34997d2_8e28_11e8_a2ec_a8667f010fe3row2_col4 {\n",
       "            background-color:  #e5ffe5;\n",
       "        }    #T_d34997d2_8e28_11e8_a2ec_a8667f010fe3row2_col5 {\n",
       "            background-color:  #e5ffe5;\n",
       "        }    #T_d34997d2_8e28_11e8_a2ec_a8667f010fe3row2_col6 {\n",
       "            background-color:  #e5ffe5;\n",
       "        }    #T_d34997d2_8e28_11e8_a2ec_a8667f010fe3row2_col7 {\n",
       "            background-color:  #e5ffe5;\n",
       "        }    #T_d34997d2_8e28_11e8_a2ec_a8667f010fe3row2_col8 {\n",
       "            background-color:  #e5ffe5;\n",
       "        }    #T_d34997d2_8e28_11e8_a2ec_a8667f010fe3row2_col9 {\n",
       "            background-color:  #008000;\n",
       "        }    #T_d34997d2_8e28_11e8_a2ec_a8667f010fe3row3_col0 {\n",
       "            background-color:  #008000;\n",
       "        }    #T_d34997d2_8e28_11e8_a2ec_a8667f010fe3row3_col1 {\n",
       "            background-color:  #008000;\n",
       "        }    #T_d34997d2_8e28_11e8_a2ec_a8667f010fe3row3_col2 {\n",
       "            background-color:  #008000;\n",
       "        }    #T_d34997d2_8e28_11e8_a2ec_a8667f010fe3row3_col3 {\n",
       "            background-color:  #008000;\n",
       "        }    #T_d34997d2_8e28_11e8_a2ec_a8667f010fe3row3_col4 {\n",
       "            background-color:  #008000;\n",
       "        }    #T_d34997d2_8e28_11e8_a2ec_a8667f010fe3row3_col5 {\n",
       "            background-color:  #329c32;\n",
       "        }    #T_d34997d2_8e28_11e8_a2ec_a8667f010fe3row3_col6 {\n",
       "            background-color:  #58b158;\n",
       "        }    #T_d34997d2_8e28_11e8_a2ec_a8667f010fe3row3_col7 {\n",
       "            background-color:  #188d18;\n",
       "        }    #T_d34997d2_8e28_11e8_a2ec_a8667f010fe3row3_col8 {\n",
       "            background-color:  #008000;\n",
       "        }    #T_d34997d2_8e28_11e8_a2ec_a8667f010fe3row3_col9 {\n",
       "            background-color:  #cdf2cd;\n",
       "        }    #T_d34997d2_8e28_11e8_a2ec_a8667f010fe3row4_col0 {\n",
       "            background-color:  #e5ffe5;\n",
       "        }    #T_d34997d2_8e28_11e8_a2ec_a8667f010fe3row4_col1 {\n",
       "            background-color:  #e5ffe5;\n",
       "        }    #T_d34997d2_8e28_11e8_a2ec_a8667f010fe3row4_col2 {\n",
       "            background-color:  #e5ffe5;\n",
       "        }    #T_d34997d2_8e28_11e8_a2ec_a8667f010fe3row4_col3 {\n",
       "            background-color:  #e5ffe5;\n",
       "        }    #T_d34997d2_8e28_11e8_a2ec_a8667f010fe3row4_col4 {\n",
       "            background-color:  #e5ffe5;\n",
       "        }    #T_d34997d2_8e28_11e8_a2ec_a8667f010fe3row4_col5 {\n",
       "            background-color:  #e5ffe5;\n",
       "        }    #T_d34997d2_8e28_11e8_a2ec_a8667f010fe3row4_col6 {\n",
       "            background-color:  #e3fee3;\n",
       "        }    #T_d34997d2_8e28_11e8_a2ec_a8667f010fe3row4_col7 {\n",
       "            background-color:  #e5ffe5;\n",
       "        }    #T_d34997d2_8e28_11e8_a2ec_a8667f010fe3row4_col8 {\n",
       "            background-color:  #e5ffe5;\n",
       "        }    #T_d34997d2_8e28_11e8_a2ec_a8667f010fe3row4_col9 {\n",
       "            background-color:  #e5ffe5;\n",
       "        }</style>  \n",
       "<table id=\"T_d34997d2_8e28_11e8_a2ec_a8667f010fe3\" > \n",
       "<thead>    <tr> \n",
       "        <th class=\"index_name level0\" >launched_year</th> \n",
       "        <th class=\"col_heading level0 col0\" >2009</th> \n",
       "        <th class=\"col_heading level0 col1\" >2010</th> \n",
       "        <th class=\"col_heading level0 col2\" >2011</th> \n",
       "        <th class=\"col_heading level0 col3\" >2012</th> \n",
       "        <th class=\"col_heading level0 col4\" >2013</th> \n",
       "        <th class=\"col_heading level0 col5\" >2014</th> \n",
       "        <th class=\"col_heading level0 col6\" >2015</th> \n",
       "        <th class=\"col_heading level0 col7\" >2016</th> \n",
       "        <th class=\"col_heading level0 col8\" >2017</th> \n",
       "        <th class=\"col_heading level0 col9\" >2018</th> \n",
       "    </tr>    <tr> \n",
       "        <th class=\"index_name level0\" >state</th> \n",
       "        <th class=\"blank\" ></th> \n",
       "        <th class=\"blank\" ></th> \n",
       "        <th class=\"blank\" ></th> \n",
       "        <th class=\"blank\" ></th> \n",
       "        <th class=\"blank\" ></th> \n",
       "        <th class=\"blank\" ></th> \n",
       "        <th class=\"blank\" ></th> \n",
       "        <th class=\"blank\" ></th> \n",
       "        <th class=\"blank\" ></th> \n",
       "        <th class=\"blank\" ></th> \n",
       "    </tr></thead> \n",
       "<tbody>    <tr> \n",
       "        <th id=\"T_d34997d2_8e28_11e8_a2ec_a8667f010fe3level0_row0\" class=\"row_heading level0 row0\" >canceled</th> \n",
       "        <td id=\"T_d34997d2_8e28_11e8_a2ec_a8667f010fe3row0_col0\" class=\"data row0 col0\" >15</td> \n",
       "        <td id=\"T_d34997d2_8e28_11e8_a2ec_a8667f010fe3row0_col1\" class=\"data row0 col1\" >78</td> \n",
       "        <td id=\"T_d34997d2_8e28_11e8_a2ec_a8667f010fe3row0_col2\" class=\"data row0 col2\" >212</td> \n",
       "        <td id=\"T_d34997d2_8e28_11e8_a2ec_a8667f010fe3row0_col3\" class=\"data row0 col3\" >269</td> \n",
       "        <td id=\"T_d34997d2_8e28_11e8_a2ec_a8667f010fe3row0_col4\" class=\"data row0 col4\" >285</td> \n",
       "        <td id=\"T_d34997d2_8e28_11e8_a2ec_a8667f010fe3row0_col5\" class=\"data row0 col5\" >2144</td> \n",
       "        <td id=\"T_d34997d2_8e28_11e8_a2ec_a8667f010fe3row0_col6\" class=\"data row0 col6\" >3070</td> \n",
       "        <td id=\"T_d34997d2_8e28_11e8_a2ec_a8667f010fe3row0_col7\" class=\"data row0 col7\" >2095</td> \n",
       "        <td id=\"T_d34997d2_8e28_11e8_a2ec_a8667f010fe3row0_col8\" class=\"data row0 col8\" >1501</td> \n",
       "        <td id=\"T_d34997d2_8e28_11e8_a2ec_a8667f010fe3row0_col9\" class=\"data row0 col9\" >95</td> \n",
       "    </tr>    <tr> \n",
       "        <th id=\"T_d34997d2_8e28_11e8_a2ec_a8667f010fe3level0_row1\" class=\"row_heading level0 row1\" >failed</th> \n",
       "        <td id=\"T_d34997d2_8e28_11e8_a2ec_a8667f010fe3row1_col0\" class=\"data row1 col0\" >250</td> \n",
       "        <td id=\"T_d34997d2_8e28_11e8_a2ec_a8667f010fe3row1_col1\" class=\"data row1 col1\" >1632</td> \n",
       "        <td id=\"T_d34997d2_8e28_11e8_a2ec_a8667f010fe3row1_col2\" class=\"data row1 col2\" >3133</td> \n",
       "        <td id=\"T_d34997d2_8e28_11e8_a2ec_a8667f010fe3row1_col3\" class=\"data row1 col3\" >4839</td> \n",
       "        <td id=\"T_d34997d2_8e28_11e8_a2ec_a8667f010fe3row1_col4\" class=\"data row1 col4\" >4406</td> \n",
       "        <td id=\"T_d34997d2_8e28_11e8_a2ec_a8667f010fe3row1_col5\" class=\"data row1 col5\" >19887</td> \n",
       "        <td id=\"T_d34997d2_8e28_11e8_a2ec_a8667f010fe3row1_col6\" class=\"data row1 col6\" >24369</td> \n",
       "        <td id=\"T_d34997d2_8e28_11e8_a2ec_a8667f010fe3row1_col7\" class=\"data row1 col7\" >13644</td> \n",
       "        <td id=\"T_d34997d2_8e28_11e8_a2ec_a8667f010fe3row1_col8\" class=\"data row1 col8\" >9802</td> \n",
       "        <td id=\"T_d34997d2_8e28_11e8_a2ec_a8667f010fe3row1_col9\" class=\"data row1 col9\" >258</td> \n",
       "    </tr>    <tr> \n",
       "        <th id=\"T_d34997d2_8e28_11e8_a2ec_a8667f010fe3level0_row2\" class=\"row_heading level0 row2\" >live</th> \n",
       "        <td id=\"T_d34997d2_8e28_11e8_a2ec_a8667f010fe3row2_col0\" class=\"data row2 col0\" >0</td> \n",
       "        <td id=\"T_d34997d2_8e28_11e8_a2ec_a8667f010fe3row2_col1\" class=\"data row2 col1\" >0</td> \n",
       "        <td id=\"T_d34997d2_8e28_11e8_a2ec_a8667f010fe3row2_col2\" class=\"data row2 col2\" >0</td> \n",
       "        <td id=\"T_d34997d2_8e28_11e8_a2ec_a8667f010fe3row2_col3\" class=\"data row2 col3\" >0</td> \n",
       "        <td id=\"T_d34997d2_8e28_11e8_a2ec_a8667f010fe3row2_col4\" class=\"data row2 col4\" >0</td> \n",
       "        <td id=\"T_d34997d2_8e28_11e8_a2ec_a8667f010fe3row2_col5\" class=\"data row2 col5\" >0</td> \n",
       "        <td id=\"T_d34997d2_8e28_11e8_a2ec_a8667f010fe3row2_col6\" class=\"data row2 col6\" >0</td> \n",
       "        <td id=\"T_d34997d2_8e28_11e8_a2ec_a8667f010fe3row2_col7\" class=\"data row2 col7\" >0</td> \n",
       "        <td id=\"T_d34997d2_8e28_11e8_a2ec_a8667f010fe3row2_col8\" class=\"data row2 col8\" >120</td> \n",
       "        <td id=\"T_d34997d2_8e28_11e8_a2ec_a8667f010fe3row2_col9\" class=\"data row2 col9\" >4238</td> \n",
       "    </tr>    <tr> \n",
       "        <th id=\"T_d34997d2_8e28_11e8_a2ec_a8667f010fe3level0_row3\" class=\"row_heading level0 row3\" >successful</th> \n",
       "        <td id=\"T_d34997d2_8e28_11e8_a2ec_a8667f010fe3row3_col0\" class=\"data row3 col0\" >649</td> \n",
       "        <td id=\"T_d34997d2_8e28_11e8_a2ec_a8667f010fe3row3_col1\" class=\"data row3 col1\" >5123</td> \n",
       "        <td id=\"T_d34997d2_8e28_11e8_a2ec_a8667f010fe3row3_col2\" class=\"data row3 col2\" >12093</td> \n",
       "        <td id=\"T_d34997d2_8e28_11e8_a2ec_a8667f010fe3row3_col3\" class=\"data row3 col3\" >16644</td> \n",
       "        <td id=\"T_d34997d2_8e28_11e8_a2ec_a8667f010fe3row3_col4\" class=\"data row3 col4\" >15332</td> \n",
       "        <td id=\"T_d34997d2_8e28_11e8_a2ec_a8667f010fe3row3_col5\" class=\"data row3 col5\" >15489</td> \n",
       "        <td id=\"T_d34997d2_8e28_11e8_a2ec_a8667f010fe3row3_col6\" class=\"data row3 col6\" >15037</td> \n",
       "        <td id=\"T_d34997d2_8e28_11e8_a2ec_a8667f010fe3row3_col7\" class=\"data row3 col7\" >12169</td> \n",
       "        <td id=\"T_d34997d2_8e28_11e8_a2ec_a8667f010fe3row3_col8\" class=\"data row3 col8\" >12049</td> \n",
       "        <td id=\"T_d34997d2_8e28_11e8_a2ec_a8667f010fe3row3_col9\" class=\"data row3 col9\" >470</td> \n",
       "    </tr>    <tr> \n",
       "        <th id=\"T_d34997d2_8e28_11e8_a2ec_a8667f010fe3level0_row4\" class=\"row_heading level0 row4\" >suspended</th> \n",
       "        <td id=\"T_d34997d2_8e28_11e8_a2ec_a8667f010fe3row4_col0\" class=\"data row4 col0\" >0</td> \n",
       "        <td id=\"T_d34997d2_8e28_11e8_a2ec_a8667f010fe3row4_col1\" class=\"data row4 col1\" >0</td> \n",
       "        <td id=\"T_d34997d2_8e28_11e8_a2ec_a8667f010fe3row4_col2\" class=\"data row4 col2\" >5</td> \n",
       "        <td id=\"T_d34997d2_8e28_11e8_a2ec_a8667f010fe3row4_col3\" class=\"data row4 col3\" >5</td> \n",
       "        <td id=\"T_d34997d2_8e28_11e8_a2ec_a8667f010fe3row4_col4\" class=\"data row4 col4\" >1</td> \n",
       "        <td id=\"T_d34997d2_8e28_11e8_a2ec_a8667f010fe3row4_col5\" class=\"data row4 col5\" >110</td> \n",
       "        <td id=\"T_d34997d2_8e28_11e8_a2ec_a8667f010fe3row4_col6\" class=\"data row4 col6\" >368</td> \n",
       "        <td id=\"T_d34997d2_8e28_11e8_a2ec_a8667f010fe3row4_col7\" class=\"data row4 col7\" >103</td> \n",
       "        <td id=\"T_d34997d2_8e28_11e8_a2ec_a8667f010fe3row4_col8\" class=\"data row4 col8\" >78</td> \n",
       "        <td id=\"T_d34997d2_8e28_11e8_a2ec_a8667f010fe3row4_col9\" class=\"data row4 col9\" >8</td> \n",
       "    </tr></tbody> \n",
       "</table> "
      ],
      "text/plain": [
       "<pandas.io.formats.style.Styler at 0x1a310ad5f8>"
      ]
     },
     "execution_count": 45,
     "metadata": {},
     "output_type": "execute_result"
    }
   ],
   "source": [
    "row_col = ['state', 'launched_year']\n",
    "\n",
    "cm = sns.light_palette(\"green\", as_cmap=True)\n",
    "pd.crosstab(df[row_col[0]], df[row_col[1]]).style.background_gradient(cmap = cm)\n",
    "# pd.crosstab(df[df['top100']==1][row_col[0]], df[df['top100']==1][row_col[1]]).style.background_gradient(cmap = cm)"
   ]
  },
  {
   "cell_type": "code",
   "execution_count": 47,
   "metadata": {
    "collapsed": true
   },
   "outputs": [],
   "source": [
    "df_USA = df[df.location_country == \"US\"]\n",
    "\n",
    "df_USA.to_csv('kickstarter.csv')"
   ]
  },
  {
   "cell_type": "code",
   "execution_count": null,
   "metadata": {
    "collapsed": true
   },
   "outputs": [],
   "source": []
  }
 ],
 "metadata": {
  "kernelspec": {
   "display_name": "Python 3",
   "language": "python",
   "name": "python3"
  },
  "language_info": {
   "codemirror_mode": {
    "name": "ipython",
    "version": 3
   },
   "file_extension": ".py",
   "mimetype": "text/x-python",
   "name": "python",
   "nbconvert_exporter": "python",
   "pygments_lexer": "ipython3",
   "version": "3.6.1"
  }
 },
 "nbformat": 4,
 "nbformat_minor": 2
}
