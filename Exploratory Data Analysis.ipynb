{
 "cells": [
  {
   "cell_type": "markdown",
   "metadata": {},
   "source": [
    "# Kickstarter EDA\n",
    "## Load data"
   ]
  },
  {
   "cell_type": "code",
   "execution_count": 1,
   "metadata": {},
   "outputs": [],
   "source": [
    "#Load the Librarys\n",
    "import pandas as pd\n",
    "import numpy as np\n",
    "import seaborn as sns\n",
    "import matplotlib.pyplot as plt"
   ]
  },
  {
   "cell_type": "code",
   "execution_count": 2,
   "metadata": {},
   "outputs": [],
   "source": [
    "df = pd.read_pickle(\"sample\")"
   ]
  },
  {
   "cell_type": "code",
   "execution_count": 3,
   "metadata": {},
   "outputs": [
    {
     "name": "stdout",
     "output_type": "stream",
     "text": [
      "location_country              203\n",
      "location_state               1240\n",
      "location_localized_name     12403\n",
      "location_name               14256\n",
      "backers_count                3586\n",
      "goal                         5978\n",
      "pledged                     50144\n",
      "creator_name               191092\n",
      "gender                          6\n",
      "category_broad                 15\n",
      "category_name                 158\n",
      "launched_at                233692\n",
      "deadline                   216416\n",
      "state_changed_at           219759\n",
      "state                           5\n",
      "life                        66290\n",
      "duration                    79775\n",
      "prep                       217248\n",
      "slug                       233923\n",
      "blurb                      231840\n",
      "dtype: int64\n",
      "(321706, 20)\n"
     ]
    }
   ],
   "source": [
    "print(df.nunique())\n",
    "print(df.shape)"
   ]
  },
  {
   "cell_type": "code",
   "execution_count": 4,
   "metadata": {},
   "outputs": [
    {
     "data": {
      "text/plain": [
       "location_country            1031\n",
       "location_state              1081\n",
       "location_localized_name    76464\n",
       "location_name               1031\n",
       "backers_count                  0\n",
       "goal                           0\n",
       "pledged                        0\n",
       "creator_name                   0\n",
       "gender                         0\n",
       "category_broad                 0\n",
       "category_name                  0\n",
       "launched_at                    0\n",
       "deadline                       0\n",
       "state_changed_at               0\n",
       "state                          0\n",
       "life                           0\n",
       "duration                       0\n",
       "prep                           0\n",
       "slug                           0\n",
       "blurb                         25\n",
       "dtype: int64"
      ]
     },
     "execution_count": 4,
     "metadata": {},
     "output_type": "execute_result"
    }
   ],
   "source": [
    "df.isnull().sum()"
   ]
  },
  {
   "cell_type": "markdown",
   "metadata": {},
   "source": [
    "## Processing"
   ]
  },
  {
   "cell_type": "code",
   "execution_count": 11,
   "metadata": {},
   "outputs": [],
   "source": [
    "df[\"launched_year\"] = df['launched_at'].dt.year\n",
    "df['pledged_log'] = np.log(df['pledged']+1)\n",
    "df['goal_log'] = np.log(df['goal']+1)"
   ]
  },
  {
   "cell_type": "markdown",
   "metadata": {},
   "source": [
    "## Visualize"
   ]
  },
  {
   "cell_type": "code",
   "execution_count": 12,
   "metadata": {},
   "outputs": [
    {
     "data": {
      "image/png": "[encoded data removed]",
      "text/plain": [
       "<Figure size 864x432 with 2 Axes>"
      ]
     },
     "metadata": {},
     "output_type": "display_data"
    }
   ],
   "source": [
    "# Do successful projects set a more realistic goal?\n",
    "\n",
    "plt.figure(figsize=(12,6))\n",
    "\n",
    "plt.subplot(121)\n",
    "sns.boxplot(x='state', y=\"goal_log\", data = df)\n",
    "\n",
    "plt.subplot(122)\n",
    "sns.boxplot(x='state', y=\"pledged_log\", data = df)\n",
    "\n",
    "plt.savefig('plots/goal_status.png')"
   ]
  },
  {
   "cell_type": "markdown",
   "metadata": {},
   "source": [
    "Successful projects on average asked for a smaller goal than cancelled or failed projects. The final pledged amount concentrated between 1000 - 20000"
   ]
  },
  {
   "cell_type": "code",
   "execution_count": 13,
   "metadata": {},
   "outputs": [
    {
     "data": {
      "text/plain": [
       "<matplotlib.lines.Line2D at 0x10dcf26d8>"
      ]
     },
     "execution_count": 13,
     "metadata": {},
     "output_type": "execute_result"
    },
    {
     "data": {
      "image/png": "[encoded data removed]",
      "text/plain": [
       "<Figure size 432x288 with 1 Axes>"
      ]
     },
     "metadata": {},
     "output_type": "display_data"
    }
   ],
   "source": [
    "# How much under/over perform?\n",
    "\n",
    "df['diff'] = df['pledged']/df['goal'] - 1\n",
    "sns.boxplot(x = 'state', y = 'diff', data = df, showfliers=False)\n",
    "plt.axhline(0, color=\"gray\")"
   ]
  },
  {
   "cell_type": "code",
   "execution_count": 14,
   "metadata": {},
   "outputs": [
    {
     "data": {
      "text/plain": [
       "<matplotlib.axes._subplots.AxesSubplot at 0x1185dc978>"
      ]
     },
     "execution_count": 14,
     "metadata": {},
     "output_type": "execute_result"
    },
    {
     "data": {
      "image/png": "[encoded data removed]",
      "text/plain": [
       "<Figure size 432x288 with 1 Axes>"
      ]
     },
     "metadata": {},
     "output_type": "display_data"
    }
   ],
   "source": [
    "# How much time you need to raise money? 30 or 60 days to choose from. \n",
    "sns.distplot(df[\"life\"].dt.days, kde = False)"
   ]
  },
  {
   "cell_type": "code",
   "execution_count": 15,
   "metadata": {},
   "outputs": [
    {
     "data": {
      "text/plain": [
       "<matplotlib.axes._subplots.AxesSubplot at 0x1a1db32cc0>"
      ]
     },
     "execution_count": 15,
     "metadata": {},
     "output_type": "execute_result"
    },
    {
     "data": {
      "image/png": "[encoded data removed]",
      "text/plain": [
       "<Figure size 432x288 with 1 Axes>"
      ]
     },
     "metadata": {},
     "output_type": "display_data"
    }
   ],
   "source": [
    "# Duration between the campaign is created and the campaign went live\n",
    "\n",
    "sns.distplot(df[df['prep'].dt.days <= 100][\"prep\"].dt.days, kde = False)"
   ]
  },
  {
   "cell_type": "code",
   "execution_count": 16,
   "metadata": {},
   "outputs": [
    {
     "data": {
      "image/png": "[encoded data removed]",
      "text/plain": [
       "<Figure size 432x288 with 1 Axes>"
      ]
     },
     "metadata": {},
     "output_type": "display_data"
    }
   ],
   "source": [
    "sns.countplot(x='launched_year', data = df, hue='state')\n",
    "plt.savefig(\"plots/state_year.png\")"
   ]
  },
  {
   "cell_type": "code",
   "execution_count": 44,
   "metadata": {},
   "outputs": [],
   "source": [
    "import imgkit\n",
    "def percentable(df,row,col,name):\n",
    "    table = pd.crosstab(df[row],df[col]).apply(lambda r:r/r.sum(), axis = 1).round(2)\n",
    "    styled_table = table.sort_values('successful', ascending=False).style.background_gradient(cmap='Greens')\n",
    "    html = styled_table.render()\n",
    "    output = imgkit.from_string(html, 'plots/'+name+'_table.png')\n",
    "    return(output)"
   ]
  },
  {
   "cell_type": "code",
   "execution_count": 45,
   "metadata": {},
   "outputs": [
    {
     "name": "stdout",
     "output_type": "stream",
     "text": [
      "Loading page (1/2)\n",
      "[>                                                           ] 0%\r",
      "[======>                                                     ] 10%\r",
      "[==============================>                             ] 50%\r",
      "[============================================================] 100%\r",
      "Rendering (2/2)                                                    \n",
      "[>                                                           ] 0%\r",
      "[===============>                                            ] 25%\r",
      "[============================================================] 100%\r",
      "Done                                                               \n"
     ]
    },
    {
     "data": {
      "text/plain": [
       "True"
      ]
     },
     "execution_count": 45,
     "metadata": {},
     "output_type": "execute_result"
    }
   ],
   "source": [
    "# do successful rates change over time? (due to popularity of the platform?)\n",
    "percentable(df,'launched_year','state', name = \"year\")"
   ]
  },
  {
   "cell_type": "code",
   "execution_count": 39,
   "metadata": {},
   "outputs": [
    {
     "name": "stdout",
     "output_type": "stream",
     "text": [
      "Loading page (1/2)\n",
      "[>                                                           ] 0%\r",
      "[======>                                                     ] 10%\r",
      "[==============================>                             ] 50%\r",
      "[============================================================] 100%\r",
      "Rendering (2/2)                                                    \n",
      "[>                                                           ] 0%\r",
      "[===============>                                            ] 25%\r",
      "[============================================================] 100%\r",
      "Done                                                               \n"
     ]
    },
    {
     "data": {
      "text/plain": [
       "True"
      ]
     },
     "execution_count": 39,
     "metadata": {},
     "output_type": "execute_result"
    }
   ],
   "source": [
    "# which category are more likely to succeed?\n",
    "percentable(df,'category_broad','state', name = \"cat\")"
   ]
  },
  {
   "cell_type": "code",
   "execution_count": 41,
   "metadata": {},
   "outputs": [
    {
     "name": "stdout",
     "output_type": "stream",
     "text": [
      "Loading page (1/2)\n",
      "[>                                                           ] 0%\r",
      "[======>                                                     ] 10%\r",
      "[==============================>                             ] 50%\r",
      "[============================================================] 100%\r",
      "Rendering (2/2)                                                    \n",
      "[>                                                           ] 0%\r",
      "[===============>                                            ] 25%\r",
      "[============================================================] 100%\r",
      "Done                                                               \n"
     ]
    },
    {
     "data": {
      "text/plain": [
       "True"
      ]
     },
     "execution_count": 41,
     "metadata": {},
     "output_type": "execute_result"
    }
   ],
   "source": [
    "# Do success rates vary by perception of gender?\n",
    "percentable(df,'gender','state', name = \"gender\")"
   ]
  },
  {
   "cell_type": "code",
   "execution_count": 47,
   "metadata": {},
   "outputs": [],
   "source": [
    "# which MSA has the highest rate of success?\n",
    "# percentable(df[df.top100 ==1],'cbsa_name','state', name = \"cbsa\")"
   ]
  },
  {
   "cell_type": "code",
   "execution_count": 41,
   "metadata": {},
   "outputs": [],
   "source": [
    "# df_USA = df[df.location_country == \"US\"]\n",
    "# df_USA.to_csv('kickstarter.csv')"
   ]
  }
 ],
 "metadata": {
  "kernelspec": {
   "display_name": "Python 3",
   "language": "python",
   "name": "python3"
  },
  "language_info": {
   "codemirror_mode": {
    "name": "ipython",
    "version": 3
   },
   "file_extension": ".py",
   "mimetype": "text/x-python",
   "name": "python",
   "nbconvert_exporter": "python",
   "pygments_lexer": "ipython3",
   "version": "3.5.5"
  }
 },
 "nbformat": 4,
 "nbformat_minor": 2
}
