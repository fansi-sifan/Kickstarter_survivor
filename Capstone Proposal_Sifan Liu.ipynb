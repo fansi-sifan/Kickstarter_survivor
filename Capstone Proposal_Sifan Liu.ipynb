{
 "cells": [
  {
   "cell_type": "markdown",
   "metadata": {},
   "source": [
    "# Machine Learning Engineer Nanodegree\n",
    "## Capstone Proposal\n",
    "Sifan Liu  \n",
    "July, 2018\n",
    "\n",
    "## Proposal\n",
    "\n",
    "### Domain Background\n",
    "\n",
    "Kickstarter is one of the leading crowd-sourcing platform focusing on early-stage funding for creative entrepreneurship. Research has shown 90% of successful projects remianed ongoing ventures <cite data-cite=\"6184930/7NHXWVIC\"></cite> . However, 1 in 2 of the launched projects would fail. What are the key factors that determine the success of a campaign?\n",
    "Business dynamism has been declining across U.S., as a policy analyst, I am personlly interested to see if the analysis could shed some linght on potential policy intervention.\n",
    "\n",
    "### Problem Statement\n",
    "\n",
    "This project aims to explore what factors could best explain a successful fundraising campaign on Kickstarter. According to Kickstarter (https://www.kickstarter.com/help/stats), success rates vary across 20% - 60% for different categories. Within each category, there are significant variations in terms of the initial amount seeked, the way the project was presented/described, charateristics of the launcher (gender, city, etc. ), or even the day the project went live. \n",
    "\n",
    "\n",
    "### Datasets and Inputs\n",
    "\n",
    "Webrobots started to web-scrap kickstarter data every month since 2014 and they've made all datasets publicly available in json and csv files (https://webrobots.io/kickstarter-datasets/). Although Kickstarter limits the amount of historic projects you can get in a single run, the active and latest projects are always included. \n",
    "The datasets include the following fields:\n",
    "\n",
    "1. Photo: the feature of the project\n",
    "2. Blurb: the short description of the project\n",
    "3. Goal: amount of USD asked\n",
    "4. Pledged: amount of USD raised\n",
    "5. Status: failed/canceled/successful/suspended/live\n",
    "6. Slurg: Headline of the project\n",
    "7. Currency\n",
    "8. Deadline: the project ended\n",
    "9. Created time: the project was created\n",
    "10. Launched time: the project went live\n",
    "11. Number of backers\n",
    "12. USD pledged: converted pledged amount\n",
    "13. Creater profile: a link to html page including Name, Bio, Profile picture\n",
    "14. Creater location: town, state, country\n",
    "15. Category and sub-category\n",
    "\n",
    "The raw dataset includes various types of inputs including natural language (description and headline), images (feature photo, profile picture), and both discrete and continuous data. \n",
    "\n",
    "\n",
    "\n",
    "### Solution Statement\n",
    "\n",
    "This aims to build a supervised classification model,in which the goal is to classify a Kickstarter project into failue or success, using inputs from the the individual campaign, as well as geographic-spefic fixed effects including median household income, unemployment rate, etc. \n",
    "\n",
    "\n",
    "### Benchmark Model\n",
    "\n",
    "The benchmark model used data on all projects that finished between: 6/18/2012 and 11/9/2012 (Greenberg et al. 2013). The attributes are summarized in the table below:\n",
    "\n",
    "1. Goal in dollars of the project\n",
    "2. Project category (eg. Music, or Dance, or Video Game)\n",
    "3. Number of rewards available\n",
    "4. Length of project in Days\n",
    "5. Connected to twitter Boolean\n",
    "6. Video present Boolean\n",
    "7. Connected to Facebook Boolean\n",
    "8. Number of facebook friends\n",
    "9. Number of twitter followers\n",
    "10. Sentiment (pos, neg, or neutral)\n",
    "11. Number of sentences in project description\n",
    "12. Outcome variable Boolean\n",
    "\n",
    "The authors evaluated the performance of radial basis, polynomial and sigmoid kernel functions with varying costs for support vector machines. The also tested decision tree models with AdaBoosting. The best performing model were able to predict the success of a crowdfunding project with 68% accuracy. \n",
    "\n",
    "### Evaluation Metrics\n",
    " \n",
    "The data will be split into training and testing set. I will evaluate the models by comparing their performance on the testing set. The key evaluation metrics is accuracy score, measures out of all projects, how many could the model correctly classify as success. \n",
    "\n",
    "\n",
    "### Project Design\n",
    "\n",
    "#### Data cleaning and wrangling\n",
    "A significant part of the analysis will be data cleaning. Key steps would include:\n",
    "- check for duplicated projects\n",
    "- parsing dates\n",
    "- crosswalk location to Metropolitan Statistical Areas and merge with census data.\n",
    "- train an algorithm to determin the gender of campaign owner based on the names (and potentially, profile pictures)\n",
    "- using natural language processing to classify campagin title and description\n",
    "- check for missing values\n",
    "- scale and normalizae data\n",
    "\n",
    "#### Explotary Data Analysis\n",
    "In this step, I will run some basic summary statistics to understand the data better\n",
    "- distribution of each variables\n",
    "- correlatio matrix among variables\n",
    "- summarise baseline successful rates by key variables of interest: category/gender/location\n",
    "\n",
    "#### Feature selection\n",
    "I will use Lasso and PCA to select a subset of the variables before fitting the model.\n",
    "\n",
    "#### Modeling: \n",
    "I will use following models to fit the dataset. It's important to understand what factors are contributing the most to the final result, so the interpretbility of the final model is of interest.\n",
    "- Logistic model\n",
    "- Classification tree\n",
    "\n",
    "#### Evaluation\n",
    "The models will be evaluated using the evaluation matrix discused above\n",
    "\n",
    "#### Discussion\n",
    "Based on the results of the evaluation metrics, I will select the one with best predicing power, and look into and discuss how that knowledge could be used to encourage entrepreneurship\n"
   ]
  }
 ],
 "metadata": {
  "cite2c": {
   "citations": {
    "6184930/7NHXWVIC": {
     "author": [
      {
       "family": "Mollick",
       "given": "Ethan R."
      },
      {
       "family": "Kuppuswamy",
       "given": "Venkat"
      }
     ],
     "id": "6184930/7NHXWVIC",
     "issued": {
      "year": 2014
     },
     "shortTitle": "After the campaign",
     "title": "After the campaign: Outcomes of crowdfunding",
     "title-short": "After the campaign",
     "type": "article-journal"
    }
   }
  },
  "kernelspec": {
   "display_name": "Python 3",
   "language": "python",
   "name": "python3"
  },
  "language_info": {
   "codemirror_mode": {
    "name": "ipython",
    "version": 3
   },
   "file_extension": ".py",
   "mimetype": "text/x-python",
   "name": "python",
   "nbconvert_exporter": "python",
   "pygments_lexer": "ipython3",
   "version": "3.6.1"
  }
 },
 "nbformat": 4,
 "nbformat_minor": 2
}
