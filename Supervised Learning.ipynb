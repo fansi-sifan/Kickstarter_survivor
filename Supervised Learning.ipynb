{
 "cells": [
  {
   "cell_type": "markdown",
   "metadata": {},
   "source": [
    "# Machine Learning"
   ]
  },
  {
   "cell_type": "markdown",
   "metadata": {},
   "source": [
    "## Set up"
   ]
  },
  {
   "cell_type": "code",
   "execution_count": 2,
   "metadata": {},
   "outputs": [],
   "source": [
    "import pandas as pd\n",
    "import numpy as np\n",
    "import seaborn as sns\n",
    "import matplotlib.pyplot as plt\n",
    "%matplotlib inline"
   ]
  },
  {
   "cell_type": "code",
   "execution_count": 3,
   "metadata": {},
   "outputs": [
    {
     "data": {
      "text/html": [
       "<div>\n",
       "<style scoped>\n",
       "    .dataframe tbody tr th:only-of-type {\n",
       "        vertical-align: middle;\n",
       "    }\n",
       "\n",
       "    .dataframe tbody tr th {\n",
       "        vertical-align: top;\n",
       "    }\n",
       "\n",
       "    .dataframe thead th {\n",
       "        text-align: right;\n",
       "    }\n",
       "</style>\n",
       "<table border=\"1\" class=\"dataframe\">\n",
       "  <thead>\n",
       "    <tr style=\"text-align: right;\">\n",
       "      <th></th>\n",
       "      <th>backers_count</th>\n",
       "      <th>goal</th>\n",
       "      <th>pledged</th>\n",
       "      <th>life</th>\n",
       "      <th>duration</th>\n",
       "      <th>prep</th>\n",
       "    </tr>\n",
       "  </thead>\n",
       "  <tbody>\n",
       "    <tr>\n",
       "      <th>count</th>\n",
       "      <td>231381.000000</td>\n",
       "      <td>2.313810e+05</td>\n",
       "      <td>2.313810e+05</td>\n",
       "      <td>231381</td>\n",
       "      <td>231381</td>\n",
       "      <td>231381</td>\n",
       "    </tr>\n",
       "    <tr>\n",
       "      <th>mean</th>\n",
       "      <td>134.295772</td>\n",
       "      <td>4.729175e+04</td>\n",
       "      <td>1.227821e+04</td>\n",
       "      <td>33 days 20:09:57.300962</td>\n",
       "      <td>31 days 10:05:47.950847</td>\n",
       "      <td>42 days 21:29:37.516438</td>\n",
       "    </tr>\n",
       "    <tr>\n",
       "      <th>std</th>\n",
       "      <td>1095.131066</td>\n",
       "      <td>1.172776e+06</td>\n",
       "      <td>1.320999e+05</td>\n",
       "      <td>12 days 13:00:42.671194</td>\n",
       "      <td>14 days 07:00:24.493691</td>\n",
       "      <td>110 days 13:02:43.664584</td>\n",
       "    </tr>\n",
       "    <tr>\n",
       "      <th>min</th>\n",
       "      <td>0.000000</td>\n",
       "      <td>1.000000e-02</td>\n",
       "      <td>0.000000e+00</td>\n",
       "      <td>1 days 00:00:00</td>\n",
       "      <td>0 days 00:00:00</td>\n",
       "      <td>0 days 00:01:41</td>\n",
       "    </tr>\n",
       "    <tr>\n",
       "      <th>25%</th>\n",
       "      <td>2.000000</td>\n",
       "      <td>2.000000e+03</td>\n",
       "      <td>5.000000e+01</td>\n",
       "      <td>30 days 00:00:00</td>\n",
       "      <td>28 days 13:07:40</td>\n",
       "      <td>2 days 17:09:51</td>\n",
       "    </tr>\n",
       "    <tr>\n",
       "      <th>50%</th>\n",
       "      <td>19.000000</td>\n",
       "      <td>5.000000e+03</td>\n",
       "      <td>1.035000e+03</td>\n",
       "      <td>30 days 00:00:00</td>\n",
       "      <td>30 days 00:00:01</td>\n",
       "      <td>10 days 01:52:47</td>\n",
       "    </tr>\n",
       "    <tr>\n",
       "      <th>75%</th>\n",
       "      <td>74.000000</td>\n",
       "      <td>1.500000e+04</td>\n",
       "      <td>5.405420e+03</td>\n",
       "      <td>35 days 22:27:34</td>\n",
       "      <td>34 days 18:48:37</td>\n",
       "      <td>34 days 10:33:15</td>\n",
       "    </tr>\n",
       "    <tr>\n",
       "      <th>max</th>\n",
       "      <td>219382.000000</td>\n",
       "      <td>1.000000e+08</td>\n",
       "      <td>2.902191e+07</td>\n",
       "      <td>91 days 23:00:00</td>\n",
       "      <td>354 days 19:06:23</td>\n",
       "      <td>2313 days 16:40:37</td>\n",
       "    </tr>\n",
       "  </tbody>\n",
       "</table>\n",
       "</div>"
      ],
      "text/plain": [
       "       backers_count          goal       pledged                     life  \\\n",
       "count  231381.000000  2.313810e+05  2.313810e+05                   231381   \n",
       "mean      134.295772  4.729175e+04  1.227821e+04  33 days 20:09:57.300962   \n",
       "std      1095.131066  1.172776e+06  1.320999e+05  12 days 13:00:42.671194   \n",
       "min         0.000000  1.000000e-02  0.000000e+00          1 days 00:00:00   \n",
       "25%         2.000000  2.000000e+03  5.000000e+01         30 days 00:00:00   \n",
       "50%        19.000000  5.000000e+03  1.035000e+03         30 days 00:00:00   \n",
       "75%        74.000000  1.500000e+04  5.405420e+03         35 days 22:27:34   \n",
       "max    219382.000000  1.000000e+08  2.902191e+07         91 days 23:00:00   \n",
       "\n",
       "                      duration                      prep  \n",
       "count                   231381                    231381  \n",
       "mean   31 days 10:05:47.950847   42 days 21:29:37.516438  \n",
       "std    14 days 07:00:24.493691  110 days 13:02:43.664584  \n",
       "min            0 days 00:00:00           0 days 00:01:41  \n",
       "25%           28 days 13:07:40           2 days 17:09:51  \n",
       "50%           30 days 00:00:01          10 days 01:52:47  \n",
       "75%           34 days 18:48:37          34 days 10:33:15  \n",
       "max          354 days 19:06:23        2313 days 16:40:37  "
      ]
     },
     "execution_count": 3,
     "metadata": {},
     "output_type": "execute_result"
    }
   ],
   "source": [
    "# load data\n",
    "df = pd.read_pickle(\"sample\")\n",
    "# show numerical values\n",
    "df.describe()"
   ]
  },
  {
   "cell_type": "code",
   "execution_count": 4,
   "metadata": {},
   "outputs": [],
   "source": [
    "# convert duration data to seconds\n",
    "df['life_days'] = df['life'].dt.days\n",
    "df['prep_days'] = df['prep'].dt.days\n",
    "df['top100'] = df['top100'].fillna(99).astype(int)"
   ]
  },
  {
   "cell_type": "code",
   "execution_count": 5,
   "metadata": {},
   "outputs": [
    {
     "name": "stdout",
     "output_type": "stream",
     "text": [
      "<class 'pandas.core.frame.DataFrame'>\n",
      "RangeIndex: 159925 entries, 0 to 159924\n",
      "Data columns (total 9 columns):\n",
      "top100            159925 non-null int64\n",
      "goal              159925 non-null float64\n",
      "gender            159925 non-null object\n",
      "category_broad    159925 non-null category\n",
      "state             159925 non-null category\n",
      "slug              159925 non-null object\n",
      "blurb             159922 non-null object\n",
      "life_days         159925 non-null int64\n",
      "prep_days         159925 non-null int64\n",
      "dtypes: category(2), float64(1), int64(3), object(3)\n",
      "memory usage: 8.8+ MB\n"
     ]
    }
   ],
   "source": [
    "# keep only successful / fail projects\n",
    "# keep only US projects\n",
    "data = df[(df.location_country ==\"US\") & ((df.state == \"successful\")|(df.state == \"failed\"))].reset_index(drop = True)\n",
    "\n",
    "# keep only numerical/categorical variables\n",
    "DropCol = ['location_country','location_state','location_localized_name','location_name','cbsa','cbsa_name','creator_name',\n",
    "      'category_name','launched_at','deadline','state_changed_at','life','duration','prep','pledged','backers_count']\n",
    "\n",
    "data = data.drop(DropCol,axis=1)\n",
    "data.info()"
   ]
  },
  {
   "cell_type": "markdown",
   "metadata": {},
   "source": [
    "## Text Analysis \n",
    "### Structure analysis of headline\n",
    "Reference: http://nbviewer.jupyter.org/github/AYLIEN/headline_analysis/blob/06f1223012d285412a650c201a19a1c95859dca1/main-chunks.ipynb#A-primer-on-parse-trees"
   ]
  },
  {
   "cell_type": "markdown",
   "metadata": {},
   "source": [
    "### Sentiment analysis"
   ]
  },
  {
   "cell_type": "code",
   "execution_count": 7,
   "metadata": {},
   "outputs": [
    {
     "name": "stdout",
     "output_type": "stream",
     "text": [
      "85323         the-gypsy-circus-a-series-of-seven-paintings\n",
      "91293                                     ridgewood-arcane\n",
      "52360                                      garlic-go-bragh\n",
      "45684          after-school-program-to-teach-kids-bagpipes\n",
      "20334    the-future-mind-of-business-project-profession...\n",
      "Name: slug, dtype: object\n",
      "I have 31 short writings and poems I would like to publish.\n"
     ]
    }
   ],
   "source": [
    "print(data.slug.sample(5))\n",
    "print(data.blurb[5])"
   ]
  },
  {
   "cell_type": "code",
   "execution_count": 8,
   "metadata": {},
   "outputs": [
    {
     "data": {
      "text/plain": [
       "Sentiment(polarity=0.0, subjectivity=0.3)"
      ]
     },
     "execution_count": 8,
     "metadata": {},
     "output_type": "execute_result"
    }
   ],
   "source": [
    "from textblob import TextBlob\n",
    "\n",
    "def sentiment_calc(text):\n",
    "    try:\n",
    "        return TextBlob(text).sentiment\n",
    "    except:\n",
    "        return None\n",
    "\n",
    "# test\n",
    "sentiment_calc(data['blurb'][5])"
   ]
  },
  {
   "cell_type": "code",
   "execution_count": 9,
   "metadata": {},
   "outputs": [
    {
     "data": {
      "text/plain": [
       "147571                                                  cat\n",
       "129870    calling all civil war buffs and romantic ficit...\n",
       "22799                                 the last five years 0\n",
       "156411               flash of brilliance animal flash cards\n",
       "125821                                   kinfolk collective\n",
       "Name: slug, dtype: object"
      ]
     },
     "execution_count": 9,
     "metadata": {},
     "output_type": "execute_result"
    }
   ],
   "source": [
    "data['slug'] = data['slug'].str.replace('-',' ')\n",
    "data.slug.sample(5)"
   ]
  },
  {
   "cell_type": "code",
   "execution_count": 10,
   "metadata": {},
   "outputs": [],
   "source": [
    "data['slug_senti'] =  data['slug'].apply(sentiment_calc)\n",
    "data[['slug_plor','slug_subj']] = data['slug_senti'].apply(pd.Series)\n",
    "\n",
    "data['blurb_senti'] =  data['blurb'].apply(sentiment_calc)\n",
    "data[['blurb_plor','blurb_subj']] = data['blurb_senti'].apply(pd.Series)"
   ]
  },
  {
   "cell_type": "code",
   "execution_count": 11,
   "metadata": {},
   "outputs": [
    {
     "data": {
      "text/html": [
       "<div>\n",
       "<style scoped>\n",
       "    .dataframe tbody tr th:only-of-type {\n",
       "        vertical-align: middle;\n",
       "    }\n",
       "\n",
       "    .dataframe tbody tr th {\n",
       "        vertical-align: top;\n",
       "    }\n",
       "\n",
       "    .dataframe thead th {\n",
       "        text-align: right;\n",
       "    }\n",
       "</style>\n",
       "<table border=\"1\" class=\"dataframe\">\n",
       "  <thead>\n",
       "    <tr style=\"text-align: right;\">\n",
       "      <th></th>\n",
       "      <th>top100</th>\n",
       "      <th>goal</th>\n",
       "      <th>gender</th>\n",
       "      <th>category_broad</th>\n",
       "      <th>state</th>\n",
       "      <th>slug</th>\n",
       "      <th>blurb</th>\n",
       "      <th>life_days</th>\n",
       "      <th>prep_days</th>\n",
       "      <th>slug_senti</th>\n",
       "      <th>slug_plor</th>\n",
       "      <th>slug_subj</th>\n",
       "      <th>blurb_senti</th>\n",
       "      <th>blurb_plor</th>\n",
       "      <th>blurb_subj</th>\n",
       "    </tr>\n",
       "  </thead>\n",
       "  <tbody>\n",
       "    <tr>\n",
       "      <th>130109</th>\n",
       "      <td>1</td>\n",
       "      <td>750.0</td>\n",
       "      <td>male</td>\n",
       "      <td>publishing</td>\n",
       "      <td>failed</td>\n",
       "      <td>the trouble with tradition</td>\n",
       "      <td>A young boy working in his father's tavern is ...</td>\n",
       "      <td>32</td>\n",
       "      <td>13</td>\n",
       "      <td>(-0.2, 0.2)</td>\n",
       "      <td>-0.2</td>\n",
       "      <td>0.2</td>\n",
       "      <td>(0.1, 0.4)</td>\n",
       "      <td>0.100000</td>\n",
       "      <td>0.400000</td>\n",
       "    </tr>\n",
       "    <tr>\n",
       "      <th>136754</th>\n",
       "      <td>0</td>\n",
       "      <td>65000.0</td>\n",
       "      <td>male</td>\n",
       "      <td>publishing</td>\n",
       "      <td>failed</td>\n",
       "      <td>3d map book for k 12 students</td>\n",
       "      <td>A book for K-12 students, and map lovers, that...</td>\n",
       "      <td>40</td>\n",
       "      <td>123</td>\n",
       "      <td>(0.0, 0.0)</td>\n",
       "      <td>0.0</td>\n",
       "      <td>0.0</td>\n",
       "      <td>(0.0, 0.0)</td>\n",
       "      <td>0.000000</td>\n",
       "      <td>0.000000</td>\n",
       "    </tr>\n",
       "    <tr>\n",
       "      <th>148009</th>\n",
       "      <td>1</td>\n",
       "      <td>20000.0</td>\n",
       "      <td>unknown</td>\n",
       "      <td>film &amp; video</td>\n",
       "      <td>failed</td>\n",
       "      <td>hellcat the movie</td>\n",
       "      <td>We're making a movie based on J. Alan Hostette...</td>\n",
       "      <td>60</td>\n",
       "      <td>9</td>\n",
       "      <td>(0.0, 0.0)</td>\n",
       "      <td>0.0</td>\n",
       "      <td>0.0</td>\n",
       "      <td>(0.0, 0.0)</td>\n",
       "      <td>0.000000</td>\n",
       "      <td>0.000000</td>\n",
       "    </tr>\n",
       "    <tr>\n",
       "      <th>100565</th>\n",
       "      <td>0</td>\n",
       "      <td>30000.0</td>\n",
       "      <td>male</td>\n",
       "      <td>art</td>\n",
       "      <td>failed</td>\n",
       "      <td>digindustrial art</td>\n",
       "      <td>A not-so-conventional approach to abstract</td>\n",
       "      <td>20</td>\n",
       "      <td>2</td>\n",
       "      <td>(0.0, 0.0)</td>\n",
       "      <td>0.0</td>\n",
       "      <td>0.0</td>\n",
       "      <td>(0.0, 0.0)</td>\n",
       "      <td>0.000000</td>\n",
       "      <td>0.000000</td>\n",
       "    </tr>\n",
       "    <tr>\n",
       "      <th>4192</th>\n",
       "      <td>0</td>\n",
       "      <td>500.0</td>\n",
       "      <td>female</td>\n",
       "      <td>art</td>\n",
       "      <td>successful</td>\n",
       "      <td>foodie friends digital illustration commissions</td>\n",
       "      <td>Digitally illustrated commissions featuring yo...</td>\n",
       "      <td>15</td>\n",
       "      <td>21</td>\n",
       "      <td>(0.0, 0.0)</td>\n",
       "      <td>0.0</td>\n",
       "      <td>0.0</td>\n",
       "      <td>(0.45606060606060606, 0.6257575757575757)</td>\n",
       "      <td>0.456061</td>\n",
       "      <td>0.625758</td>\n",
       "    </tr>\n",
       "  </tbody>\n",
       "</table>\n",
       "</div>"
      ],
      "text/plain": [
       "        top100     goal   gender category_broad       state  \\\n",
       "130109       1    750.0     male     publishing      failed   \n",
       "136754       0  65000.0     male     publishing      failed   \n",
       "148009       1  20000.0  unknown   film & video      failed   \n",
       "100565       0  30000.0     male            art      failed   \n",
       "4192         0    500.0   female            art  successful   \n",
       "\n",
       "                                                   slug  \\\n",
       "130109                       the trouble with tradition   \n",
       "136754                    3d map book for k 12 students   \n",
       "148009                                hellcat the movie   \n",
       "100565                                digindustrial art   \n",
       "4192    foodie friends digital illustration commissions   \n",
       "\n",
       "                                                    blurb  life_days  \\\n",
       "130109  A young boy working in his father's tavern is ...         32   \n",
       "136754  A book for K-12 students, and map lovers, that...         40   \n",
       "148009  We're making a movie based on J. Alan Hostette...         60   \n",
       "100565         A not-so-conventional approach to abstract         20   \n",
       "4192    Digitally illustrated commissions featuring yo...         15   \n",
       "\n",
       "        prep_days   slug_senti  slug_plor  slug_subj  \\\n",
       "130109         13  (-0.2, 0.2)       -0.2        0.2   \n",
       "136754        123   (0.0, 0.0)        0.0        0.0   \n",
       "148009          9   (0.0, 0.0)        0.0        0.0   \n",
       "100565          2   (0.0, 0.0)        0.0        0.0   \n",
       "4192           21   (0.0, 0.0)        0.0        0.0   \n",
       "\n",
       "                                      blurb_senti  blurb_plor  blurb_subj  \n",
       "130109                                 (0.1, 0.4)    0.100000    0.400000  \n",
       "136754                                 (0.0, 0.0)    0.000000    0.000000  \n",
       "148009                                 (0.0, 0.0)    0.000000    0.000000  \n",
       "100565                                 (0.0, 0.0)    0.000000    0.000000  \n",
       "4192    (0.45606060606060606, 0.6257575757575757)    0.456061    0.625758  "
      ]
     },
     "execution_count": 11,
     "metadata": {},
     "output_type": "execute_result"
    }
   ],
   "source": [
    "data[['blurb_plor','blurb_subj']] = data[['blurb_plor','blurb_subj']].fillna(value=0)\n",
    "data.sample(5)"
   ]
  },
  {
   "cell_type": "markdown",
   "metadata": {},
   "source": [
    "## Remove Outliers"
   ]
  },
  {
   "cell_type": "code",
   "execution_count": 12,
   "metadata": {},
   "outputs": [
    {
     "data": {
      "text/html": [
       "<div>\n",
       "<style scoped>\n",
       "    .dataframe tbody tr th:only-of-type {\n",
       "        vertical-align: middle;\n",
       "    }\n",
       "\n",
       "    .dataframe tbody tr th {\n",
       "        vertical-align: top;\n",
       "    }\n",
       "\n",
       "    .dataframe thead th {\n",
       "        text-align: right;\n",
       "    }\n",
       "</style>\n",
       "<table border=\"1\" class=\"dataframe\">\n",
       "  <thead>\n",
       "    <tr style=\"text-align: right;\">\n",
       "      <th></th>\n",
       "      <th>top100</th>\n",
       "      <th>goal</th>\n",
       "      <th>life_days</th>\n",
       "      <th>prep_days</th>\n",
       "      <th>slug_plor</th>\n",
       "      <th>slug_subj</th>\n",
       "      <th>blurb_plor</th>\n",
       "      <th>blurb_subj</th>\n",
       "    </tr>\n",
       "  </thead>\n",
       "  <tbody>\n",
       "    <tr>\n",
       "      <th>count</th>\n",
       "      <td>159925.000000</td>\n",
       "      <td>1.599250e+05</td>\n",
       "      <td>159925.000000</td>\n",
       "      <td>159925.000000</td>\n",
       "      <td>159925.000000</td>\n",
       "      <td>159925.000000</td>\n",
       "      <td>159925.000000</td>\n",
       "      <td>159925.000000</td>\n",
       "    </tr>\n",
       "    <tr>\n",
       "      <th>mean</th>\n",
       "      <td>2.729504</td>\n",
       "      <td>3.806577e+04</td>\n",
       "      <td>33.441301</td>\n",
       "      <td>44.274504</td>\n",
       "      <td>0.044258</td>\n",
       "      <td>0.169718</td>\n",
       "      <td>0.146377</td>\n",
       "      <td>0.399139</td>\n",
       "    </tr>\n",
       "    <tr>\n",
       "      <th>std</th>\n",
       "      <td>13.587452</td>\n",
       "      <td>1.023592e+06</td>\n",
       "      <td>12.559958</td>\n",
       "      <td>115.370794</td>\n",
       "      <td>0.192936</td>\n",
       "      <td>0.276219</td>\n",
       "      <td>0.257703</td>\n",
       "      <td>0.286324</td>\n",
       "    </tr>\n",
       "    <tr>\n",
       "      <th>min</th>\n",
       "      <td>0.000000</td>\n",
       "      <td>1.000000e-02</td>\n",
       "      <td>1.000000</td>\n",
       "      <td>0.000000</td>\n",
       "      <td>-1.000000</td>\n",
       "      <td>0.000000</td>\n",
       "      <td>-1.000000</td>\n",
       "      <td>0.000000</td>\n",
       "    </tr>\n",
       "    <tr>\n",
       "      <th>25%</th>\n",
       "      <td>1.000000</td>\n",
       "      <td>2.000000e+03</td>\n",
       "      <td>30.000000</td>\n",
       "      <td>2.000000</td>\n",
       "      <td>0.000000</td>\n",
       "      <td>0.000000</td>\n",
       "      <td>0.000000</td>\n",
       "      <td>0.166667</td>\n",
       "    </tr>\n",
       "    <tr>\n",
       "      <th>50%</th>\n",
       "      <td>1.000000</td>\n",
       "      <td>5.000000e+03</td>\n",
       "      <td>30.000000</td>\n",
       "      <td>10.000000</td>\n",
       "      <td>0.000000</td>\n",
       "      <td>0.000000</td>\n",
       "      <td>0.100000</td>\n",
       "      <td>0.400000</td>\n",
       "    </tr>\n",
       "    <tr>\n",
       "      <th>75%</th>\n",
       "      <td>1.000000</td>\n",
       "      <td>1.300000e+04</td>\n",
       "      <td>35.000000</td>\n",
       "      <td>35.000000</td>\n",
       "      <td>0.000000</td>\n",
       "      <td>0.333333</td>\n",
       "      <td>0.300000</td>\n",
       "      <td>0.600000</td>\n",
       "    </tr>\n",
       "    <tr>\n",
       "      <th>max</th>\n",
       "      <td>99.000000</td>\n",
       "      <td>1.000000e+08</td>\n",
       "      <td>91.000000</td>\n",
       "      <td>2313.000000</td>\n",
       "      <td>1.000000</td>\n",
       "      <td>1.000000</td>\n",
       "      <td>1.000000</td>\n",
       "      <td>1.000000</td>\n",
       "    </tr>\n",
       "  </tbody>\n",
       "</table>\n",
       "</div>"
      ],
      "text/plain": [
       "              top100          goal      life_days      prep_days  \\\n",
       "count  159925.000000  1.599250e+05  159925.000000  159925.000000   \n",
       "mean        2.729504  3.806577e+04      33.441301      44.274504   \n",
       "std        13.587452  1.023592e+06      12.559958     115.370794   \n",
       "min         0.000000  1.000000e-02       1.000000       0.000000   \n",
       "25%         1.000000  2.000000e+03      30.000000       2.000000   \n",
       "50%         1.000000  5.000000e+03      30.000000      10.000000   \n",
       "75%         1.000000  1.300000e+04      35.000000      35.000000   \n",
       "max        99.000000  1.000000e+08      91.000000    2313.000000   \n",
       "\n",
       "           slug_plor      slug_subj     blurb_plor     blurb_subj  \n",
       "count  159925.000000  159925.000000  159925.000000  159925.000000  \n",
       "mean        0.044258       0.169718       0.146377       0.399139  \n",
       "std         0.192936       0.276219       0.257703       0.286324  \n",
       "min        -1.000000       0.000000      -1.000000       0.000000  \n",
       "25%         0.000000       0.000000       0.000000       0.166667  \n",
       "50%         0.000000       0.000000       0.100000       0.400000  \n",
       "75%         0.000000       0.333333       0.300000       0.600000  \n",
       "max         1.000000       1.000000       1.000000       1.000000  "
      ]
     },
     "execution_count": 12,
     "metadata": {},
     "output_type": "execute_result"
    }
   ],
   "source": [
    "CatCol = ['gender','top100','category_broad']\n",
    "NumCol = ['goal','life_days','prep_days','slug_plor','slug_subj','blurb_plor','blurb_subj']\n",
    "\n",
    "data.describe()"
   ]
  },
  {
   "cell_type": "code",
   "execution_count": 14,
   "metadata": {},
   "outputs": [],
   "source": [
    "import collections\n",
    "c = collections.Counter()\n",
    "\n",
    "for feature in NumCol:\n",
    "    \n",
    "    Q1 = np.percentile(data[feature], 25)\n",
    "    Q3 = np.percentile(data[feature], 75)\n",
    "    \n",
    "    step = 1.5 * (Q3 - Q1)\n",
    "    \n",
    "    outlier = data[(~(data[feature] >= Q1 - step) & (data[feature] <= Q3 + step))]\n",
    "    \n",
    "    c.update(outlier.index)"
   ]
  },
  {
   "cell_type": "code",
   "execution_count": 15,
   "metadata": {},
   "outputs": [
    {
     "data": {
      "text/plain": [
       "0.014175394716273253"
      ]
     },
     "execution_count": 15,
     "metadata": {},
     "output_type": "execute_result"
    }
   ],
   "source": [
    "# remove projects that have at least 2 outlier features\n",
    "outliers = []\n",
    "\n",
    "for ind,num in c.items(): \n",
    "    if num >= 2:\n",
    "        outliers.append(ind)\n",
    "        \n",
    "len(outliers)/len(data)"
   ]
  },
  {
   "cell_type": "code",
   "execution_count": 16,
   "metadata": {},
   "outputs": [
    {
     "data": {
      "text/html": [
       "<div>\n",
       "<style scoped>\n",
       "    .dataframe tbody tr th:only-of-type {\n",
       "        vertical-align: middle;\n",
       "    }\n",
       "\n",
       "    .dataframe tbody tr th {\n",
       "        vertical-align: top;\n",
       "    }\n",
       "\n",
       "    .dataframe thead th {\n",
       "        text-align: right;\n",
       "    }\n",
       "</style>\n",
       "<table border=\"1\" class=\"dataframe\">\n",
       "  <thead>\n",
       "    <tr style=\"text-align: right;\">\n",
       "      <th></th>\n",
       "      <th>top100</th>\n",
       "      <th>goal</th>\n",
       "      <th>life_days</th>\n",
       "      <th>prep_days</th>\n",
       "      <th>slug_plor</th>\n",
       "      <th>slug_subj</th>\n",
       "      <th>blurb_plor</th>\n",
       "      <th>blurb_subj</th>\n",
       "    </tr>\n",
       "  </thead>\n",
       "  <tbody>\n",
       "    <tr>\n",
       "      <th>count</th>\n",
       "      <td>157658.000000</td>\n",
       "      <td>1.576580e+05</td>\n",
       "      <td>157658.000000</td>\n",
       "      <td>157658.000000</td>\n",
       "      <td>157658.000000</td>\n",
       "      <td>157658.000000</td>\n",
       "      <td>157658.000000</td>\n",
       "      <td>157658.000000</td>\n",
       "    </tr>\n",
       "    <tr>\n",
       "      <th>mean</th>\n",
       "      <td>2.726490</td>\n",
       "      <td>3.849370e+04</td>\n",
       "      <td>33.636961</td>\n",
       "      <td>44.430793</td>\n",
       "      <td>0.048856</td>\n",
       "      <td>0.165422</td>\n",
       "      <td>0.150644</td>\n",
       "      <td>0.397319</td>\n",
       "    </tr>\n",
       "    <tr>\n",
       "      <th>std</th>\n",
       "      <td>13.577167</td>\n",
       "      <td>1.030911e+06</td>\n",
       "      <td>12.487155</td>\n",
       "      <td>115.610808</td>\n",
       "      <td>0.188267</td>\n",
       "      <td>0.273682</td>\n",
       "      <td>0.252876</td>\n",
       "      <td>0.285793</td>\n",
       "    </tr>\n",
       "    <tr>\n",
       "      <th>min</th>\n",
       "      <td>0.000000</td>\n",
       "      <td>1.000000e-02</td>\n",
       "      <td>1.000000</td>\n",
       "      <td>0.000000</td>\n",
       "      <td>-1.000000</td>\n",
       "      <td>0.000000</td>\n",
       "      <td>-1.000000</td>\n",
       "      <td>0.000000</td>\n",
       "    </tr>\n",
       "    <tr>\n",
       "      <th>25%</th>\n",
       "      <td>1.000000</td>\n",
       "      <td>2.000000e+03</td>\n",
       "      <td>30.000000</td>\n",
       "      <td>2.000000</td>\n",
       "      <td>0.000000</td>\n",
       "      <td>0.000000</td>\n",
       "      <td>0.000000</td>\n",
       "      <td>0.155556</td>\n",
       "    </tr>\n",
       "    <tr>\n",
       "      <th>50%</th>\n",
       "      <td>1.000000</td>\n",
       "      <td>5.000000e+03</td>\n",
       "      <td>30.000000</td>\n",
       "      <td>10.000000</td>\n",
       "      <td>0.000000</td>\n",
       "      <td>0.000000</td>\n",
       "      <td>0.100000</td>\n",
       "      <td>0.400000</td>\n",
       "    </tr>\n",
       "    <tr>\n",
       "      <th>75%</th>\n",
       "      <td>1.000000</td>\n",
       "      <td>1.300000e+04</td>\n",
       "      <td>35.000000</td>\n",
       "      <td>35.000000</td>\n",
       "      <td>0.000000</td>\n",
       "      <td>0.333333</td>\n",
       "      <td>0.300000</td>\n",
       "      <td>0.591667</td>\n",
       "    </tr>\n",
       "    <tr>\n",
       "      <th>max</th>\n",
       "      <td>99.000000</td>\n",
       "      <td>1.000000e+08</td>\n",
       "      <td>91.000000</td>\n",
       "      <td>2313.000000</td>\n",
       "      <td>1.000000</td>\n",
       "      <td>1.000000</td>\n",
       "      <td>1.000000</td>\n",
       "      <td>1.000000</td>\n",
       "    </tr>\n",
       "  </tbody>\n",
       "</table>\n",
       "</div>"
      ],
      "text/plain": [
       "              top100          goal      life_days      prep_days  \\\n",
       "count  157658.000000  1.576580e+05  157658.000000  157658.000000   \n",
       "mean        2.726490  3.849370e+04      33.636961      44.430793   \n",
       "std        13.577167  1.030911e+06      12.487155     115.610808   \n",
       "min         0.000000  1.000000e-02       1.000000       0.000000   \n",
       "25%         1.000000  2.000000e+03      30.000000       2.000000   \n",
       "50%         1.000000  5.000000e+03      30.000000      10.000000   \n",
       "75%         1.000000  1.300000e+04      35.000000      35.000000   \n",
       "max        99.000000  1.000000e+08      91.000000    2313.000000   \n",
       "\n",
       "           slug_plor      slug_subj     blurb_plor     blurb_subj  \n",
       "count  157658.000000  157658.000000  157658.000000  157658.000000  \n",
       "mean        0.048856       0.165422       0.150644       0.397319  \n",
       "std         0.188267       0.273682       0.252876       0.285793  \n",
       "min        -1.000000       0.000000      -1.000000       0.000000  \n",
       "25%         0.000000       0.000000       0.000000       0.155556  \n",
       "50%         0.000000       0.000000       0.100000       0.400000  \n",
       "75%         0.000000       0.333333       0.300000       0.591667  \n",
       "max         1.000000       1.000000       1.000000       1.000000  "
      ]
     },
     "execution_count": 16,
     "metadata": {},
     "output_type": "execute_result"
    }
   ],
   "source": [
    "good_data = data.drop(data.index[outliers]).reset_index(drop = True)\n",
    "good_data.describe()"
   ]
  },
  {
   "cell_type": "markdown",
   "metadata": {},
   "source": [
    "## Scaling and normalization"
   ]
  },
  {
   "cell_type": "code",
   "execution_count": 17,
   "metadata": {},
   "outputs": [
    {
     "name": "stdout",
     "output_type": "stream",
     "text": [
      "   top100    goal   gender category_broad  life_days  prep_days  slug_plor  \\\n",
      "0       1  1000.0     male     publishing         30          6        0.0   \n",
      "1       1  1100.0  unknown     publishing         33          1        0.0   \n",
      "2       1   900.0     male     publishing         30        160        0.0   \n",
      "3       1  7900.0  unknown     publishing         31          3        0.0   \n",
      "4       1  7968.0  unknown     publishing         29        336        0.0   \n",
      "\n",
      "   slug_subj  blurb_plor  blurb_subj  \n",
      "0      0.000    0.116667    0.377778  \n",
      "1      0.000    0.000000    1.000000  \n",
      "2      0.000    0.233333    0.508333  \n",
      "3      0.125   -0.100000    0.500000  \n",
      "4      0.125    0.000000    0.000000  \n",
      "0    1\n",
      "1    1\n",
      "2    1\n",
      "3    0\n",
      "4    0\n",
      "Name: state, dtype: int64\n"
     ]
    }
   ],
   "source": [
    "# split into features and target\n",
    "target = good_data['state'].apply(lambda x: 1 if x == \"successful\" else 0)\n",
    "feature = good_data.drop(['state','slug','blurb','slug_senti','blurb_senti'], axis = 1)\n",
    "\n",
    "print(feature.head())\n",
    "print(target.head())"
   ]
  },
  {
   "cell_type": "code",
   "execution_count": 18,
   "metadata": {},
   "outputs": [],
   "source": [
    "# log data\n",
    "feature[NumCol] = np.log(feature[NumCol]+1.00001)"
   ]
  },
  {
   "cell_type": "code",
   "execution_count": 19,
   "metadata": {},
   "outputs": [],
   "source": [
    "# MinMax Scale\n",
    "from sklearn.preprocessing import MinMaxScaler\n",
    "\n",
    "scaler = MinMaxScaler()\n",
    "feature[NumCol] = scaler.fit_transform(feature[NumCol])\n"
   ]
  },
  {
   "cell_type": "code",
   "execution_count": 20,
   "metadata": {},
   "outputs": [],
   "source": [
    "# pd.plotting.scatter_matrix(feature, alpha = 0.3, figsize = (14,8), diagonal = 'kde');\n",
    "# feature.corr()"
   ]
  },
  {
   "cell_type": "markdown",
   "metadata": {},
   "source": [
    "## One-hot-encoding categorical variables"
   ]
  },
  {
   "cell_type": "code",
   "execution_count": 46,
   "metadata": {},
   "outputs": [
    {
     "name": "stdout",
     "output_type": "stream",
     "text": [
      "<class 'pandas.core.frame.DataFrame'>\n",
      "RangeIndex: 157658 entries, 0 to 157657\n",
      "Data columns (total 28 columns):\n",
      "goal                           157658 non-null float64\n",
      "life_days                      157658 non-null float64\n",
      "prep_days                      157658 non-null float64\n",
      "slug_plor                      157658 non-null float64\n",
      "slug_subj                      157658 non-null float64\n",
      "blurb_plor                     157658 non-null float64\n",
      "blurb_subj                     157658 non-null float64\n",
      "gender_female                  157658 non-null uint8\n",
      "gender_male                    157658 non-null uint8\n",
      "gender_mostly_female           157658 non-null uint8\n",
      "gender_mostly_male             157658 non-null uint8\n",
      "gender_unknown                 157658 non-null uint8\n",
      "top100_1                       157658 non-null uint8\n",
      "top100_99                      157658 non-null uint8\n",
      "category_broad_comics          157658 non-null uint8\n",
      "category_broad_crafts          157658 non-null uint8\n",
      "category_broad_dance           157658 non-null uint8\n",
      "category_broad_design          157658 non-null uint8\n",
      "category_broad_fashion         157658 non-null uint8\n",
      "category_broad_film & video    157658 non-null uint8\n",
      "category_broad_food            157658 non-null uint8\n",
      "category_broad_games           157658 non-null uint8\n",
      "category_broad_journalism      157658 non-null uint8\n",
      "category_broad_music           157658 non-null uint8\n",
      "category_broad_photography     157658 non-null uint8\n",
      "category_broad_publishing      157658 non-null uint8\n",
      "category_broad_technology      157658 non-null uint8\n",
      "category_broad_theater         157658 non-null uint8\n",
      "dtypes: float64(7), uint8(21)\n",
      "memory usage: 11.6 MB\n"
     ]
    }
   ],
   "source": [
    "feature_final = pd.get_dummies(feature, columns = CatCol,drop_first=True)\n",
    "# feature_final = feature.drop(CatCol, axis = 1)\n",
    "feature_final.info()"
   ]
  },
  {
   "cell_type": "code",
   "execution_count": 47,
   "metadata": {},
   "outputs": [],
   "source": [
    "feature_final.to_pickle('feature_final')\n",
    "target.to_pickle('target')"
   ]
  },
  {
   "cell_type": "markdown",
   "metadata": {},
   "source": [
    "## Pipeline"
   ]
  },
  {
   "cell_type": "code",
   "execution_count": 48,
   "metadata": {},
   "outputs": [
    {
     "name": "stdout",
     "output_type": "stream",
     "text": [
      "(126126, 28)\n",
      "(31532, 28)\n"
     ]
    }
   ],
   "source": [
    "# split train-test\n",
    "from sklearn.model_selection import train_test_split\n",
    "\n",
    "# feature_final = feature_final.drop(['category_broad'],axis = 1)\n",
    "\n",
    "\n",
    "X_train, X_test, y_train, y_test = train_test_split(feature_final,\n",
    "                                                   target, \n",
    "                                                   test_size = 0.2,\n",
    "                                                   random_state = 23)\n",
    "print(X_train.shape)\n",
    "print(X_test.shape)"
   ]
  },
  {
   "cell_type": "code",
   "execution_count": 49,
   "metadata": {},
   "outputs": [],
   "source": [
    "from sklearn.metrics import fbeta_score, accuracy_score\n",
    "from time import time\n",
    "\n",
    "def train_predict(learner, sample_size, X_train, y_train, X_test, y_test):\n",
    "    results = {}\n",
    "    \n",
    "    # training\n",
    "    start = time()\n",
    "    learner = learner.fit(X_train[:sample_size], y_train[:sample_size])\n",
    "    end = time()\n",
    "    \n",
    "    results['train_time'] = end - start\n",
    "    \n",
    "    # prediction\n",
    "    \n",
    "    start = time()\n",
    "    predictions_test = learner.predict(X_test)\n",
    "    predictions_train = learner.predict(X_train[:300])\n",
    "    end = time()\n",
    "    \n",
    "    results['pred_time'] = end - start\n",
    "    \n",
    "    results['acc_train'] = accuracy_score(y_train[:300],predictions_train)\n",
    "    results['acc_test'] = accuracy_score(y_test, predictions_test)\n",
    "    \n",
    "    results['f_train'] = fbeta_score(y_train[:300], predictions_train,0.5)\n",
    "    results['f_test'] = fbeta_score(y_test, predictions_test, 0.5)\n",
    "    \n",
    "    print(\"{} trained on {} samples. \".format(learner.__class__.__name__, sample_size))\n",
    "\n",
    "    return results"
   ]
  },
  {
   "cell_type": "code",
   "execution_count": 50,
   "metadata": {},
   "outputs": [
    {
     "name": "stdout",
     "output_type": "stream",
     "text": [
      "Naive Predictor: accuracy: 0.5259, F:0.5810\n"
     ]
    }
   ],
   "source": [
    "# naive score\n",
    "precision = accuracy = np.sum(target)/len(target)\n",
    "\n",
    "recall = 1\n",
    "fscore = (1+0.25)*precision*recall/(0.25*precision+recall)\n",
    "\n",
    "print(\"Naive Predictor: accuracy: {:.4f}, F:{:.4f}\".format(accuracy, fscore))"
   ]
  },
  {
   "cell_type": "markdown",
   "metadata": {},
   "source": [
    "### Training!"
   ]
  },
  {
   "cell_type": "code",
   "execution_count": 54,
   "metadata": {},
   "outputs": [
    {
     "name": "stdout",
     "output_type": "stream",
     "text": [
      "LogisticRegression trained on 1261 samples. \n",
      "LogisticRegression trained on 12612 samples. \n",
      "LogisticRegression trained on 126126 samples. \n",
      "RandomForestClassifier trained on 1261 samples. \n",
      "RandomForestClassifier trained on 12612 samples. \n",
      "RandomForestClassifier trained on 126126 samples. \n",
      "LinearDiscriminantAnalysis trained on 1261 samples. \n",
      "LinearDiscriminantAnalysis trained on 12612 samples. \n",
      "LinearDiscriminantAnalysis trained on 126126 samples. \n"
     ]
    }
   ],
   "source": [
    "# from sklearn.svm import SVC\n",
    "from sklearn.linear_model import LogisticRegression\n",
    "from sklearn.ensemble import RandomForestClassifier\n",
    "from sklearn.discriminant_analysis import LinearDiscriminantAnalysis\n",
    "\n",
    "\n",
    "import visuals as vs\n",
    "\n",
    "# clf_S = SVC(random_state = 2)\n",
    "clf_Logit = LogisticRegression(random_state = 25)\n",
    "clf_RF = RandomForestClassifier(random_state = 23)\n",
    "clf_LDA = LinearDiscriminantAnalysis(n_components = 5)\n",
    "\n",
    "samples_100 = len(y_train)\n",
    "samples_10 = int(0.1*samples_100)\n",
    "samples_1 = int(0.01*samples_100)\n",
    "\n",
    "results = {}\n",
    "for clf in [clf_Logit, clf_RF, clf_LDA]:\n",
    "    clf_name = clf.__class__.__name__\n",
    "    results[clf_name] = {}\n",
    "    for i, samples in enumerate([samples_1,samples_10, samples_100]):\n",
    "        results[clf_name][i] = train_predict(clf, samples, X_train, y_train, X_test, y_test)\n"
   ]
  },
  {
   "cell_type": "code",
   "execution_count": 116,
   "metadata": {},
   "outputs": [
    {
     "data": {
      "image/png": "[encoded data removed]",
      "text/plain": [
       "<Figure size 792x504 with 6 Axes>"
      ]
     },
     "metadata": {},
     "output_type": "display_data"
    },
    {
     "data": {
      "text/plain": [
       "{'LinearDiscriminantAnalysis': {0: {'acc_test': 0.6662121019916275,\n",
       "   'acc_train': 0.67666666666666664,\n",
       "   'f_test': 0.68178627418864224,\n",
       "   'f_train': 0.66622691292875991,\n",
       "   'pred_time': 0.0066869258880615234,\n",
       "   'train_time': 0.010145902633666992},\n",
       "  1: {'acc_test': 0.67769250285424332,\n",
       "   'acc_train': 0.64333333333333331,\n",
       "   'f_test': 0.69045075352897045,\n",
       "   'f_train': 0.6328320802005013,\n",
       "   'pred_time': 0.011171102523803711,\n",
       "   'train_time': 0.052696943283081055},\n",
       "  2: {'acc_test': 0.67664594697450209,\n",
       "   'acc_train': 0.65000000000000002,\n",
       "   'f_test': 0.68996497813995017,\n",
       "   'f_train': 0.63938618925831192,\n",
       "   'pred_time': 0.008389949798583984,\n",
       "   'train_time': 0.599189043045044}},\n",
       " 'LogisticRegression': {0: {'acc_test': 0.66294557909425345,\n",
       "   'acc_train': 0.64333333333333331,\n",
       "   'f_test': 0.67890231030843207,\n",
       "   'f_train': 0.63324538258575191,\n",
       "   'pred_time': 0.008949995040893555,\n",
       "   'train_time': 0.014976024627685547},\n",
       "  1: {'acc_test': 0.67677280223265257,\n",
       "   'acc_train': 0.65000000000000002,\n",
       "   'f_test': 0.68985378316111223,\n",
       "   'f_train': 0.63938618925831192,\n",
       "   'pred_time': 0.009946823120117188,\n",
       "   'train_time': 0.14006519317626953},\n",
       "  2: {'acc_test': 0.67642395027273883,\n",
       "   'acc_train': 0.65333333333333332,\n",
       "   'f_test': 0.69003562808872543,\n",
       "   'f_train': 0.64267352185089965,\n",
       "   'pred_time': 0.015488147735595703,\n",
       "   'train_time': 2.693983793258667}},\n",
       " 'RandomForestClassifier': {0: {'acc_test': 0.61378916656095395,\n",
       "   'acc_train': 0.98999999999999999,\n",
       "   'f_test': 0.63472375765092892,\n",
       "   'f_train': 0.99582172701949856,\n",
       "   'pred_time': 0.09592890739440918,\n",
       "   'train_time': 0.06058216094970703},\n",
       "  1: {'acc_test': 0.64299758975009513,\n",
       "   'acc_train': 0.96666666666666667,\n",
       "   'f_test': 0.66380483047149719,\n",
       "   'f_train': 0.97733711048158634,\n",
       "   'pred_time': 0.09240603446960449,\n",
       "   'train_time': 0.2726171016693115},\n",
       "  2: {'acc_test': 0.65606368133959148,\n",
       "   'acc_train': 0.9966666666666667,\n",
       "   'f_test': 0.67635879893576589,\n",
       "   'f_train': 0.99862258953168048,\n",
       "   'pred_time': 0.2153639793395996,\n",
       "   'train_time': 3.0425188541412354}}}"
      ]
     },
     "execution_count": 116,
     "metadata": {},
     "output_type": "execute_result"
    }
   ],
   "source": [
    "vs.evaluate(results, accuracy, fscore)\n",
    "# print(\"Logit: accuracy score is {:.4f}\".format(results['LogisticRegression']['acc_test']))\n",
    "# print(\"Random Forest : accuracy score is {:.4f}\".format(results['RandomForestClassifier']['acc_test']))\n",
    "# print(\"LDA : accuracy score is {:.4f}\".format(results['LinearDiscriminantAnalysis']['acc_test']))\n",
    "results"
   ]
  },
  {
   "cell_type": "markdown",
   "metadata": {},
   "source": [
    "### Tuning"
   ]
  },
  {
   "cell_type": "code",
   "execution_count": 115,
   "metadata": {},
   "outputs": [
    {
     "name": "stdout",
     "output_type": "stream",
     "text": [
      "untuned accuracy:0.6764\n",
      "optimized accuracy:0.6761\n",
      "untuned accuracy:0.6900\n",
      "optimized accuracy:0.6896\n"
     ]
    }
   ],
   "source": [
    "# Logistic Regression\n",
    "from sklearn.model_selection  import GridSearchCV\n",
    "from sklearn.metrics import make_scorer\n",
    "\n",
    "clf = LogisticRegression(random_state = 5)\n",
    "parameters = {'C':[0.001,0.01,0.1,1,100,10000],\n",
    "             'tol':[0.00001,0.0001,0.001,0.01,0.1]}\n",
    "\n",
    "scorer = make_scorer(fbeta_score, beta = 0.5)\n",
    "grid_obj = GridSearchCV(clf, parameters, scorer)\n",
    "\n",
    "grid_fit = grid_obj.fit(X_train, y_train)\n",
    "best_clf = grid_fit.best_estimator_\n",
    "\n",
    "predictions = (clf.fit(X_train, y_train)).predict(X_test)\n",
    "best_predictions = best_clf.predict(X_test)\n",
    "\n",
    "print(\"untuned accuracy:{:.4f}\".format(accuracy_score(y_test, predictions)))\n",
    "print(\"optimized accuracy:{:.4f}\".format(accuracy_score(y_test, best_predictions)))\n",
    "\n",
    "print(\"untuned f:{:.4f}\".format(fbeta_score(y_test, predictions, beta = 0.5)))\n",
    "print(\"optimized f:{:.4f}\".format(fbeta_score(y_test, best_predictions, beta = 0.5)))\n"
   ]
  },
  {
   "cell_type": "code",
   "execution_count": 117,
   "metadata": {},
   "outputs": [
    {
     "data": {
      "image/png": "[encoded data removed]",
      "text/plain": [
       "<Figure size 1152x864 with 1 Axes>"
      ]
     },
     "metadata": {},
     "output_type": "display_data"
    }
   ],
   "source": [
    "importances = best_clf.coef_\n",
    "indices = np.argsort(importances)[0][::-1]\n",
    "columns = X_train.columns.values[indices]\n",
    "values = importances[0][indices]\n",
    "\n",
    "fig = plt.figure(figsize = (16,12))\n",
    "plt.barh(np.arange(28), values, align=\"center\")\n",
    "plt.yticks(np.arange(28), columns)\n",
    "plt.tight_layout()\n",
    "plt.show()  "
   ]
  },
  {
   "cell_type": "code",
   "execution_count": 61,
   "metadata": {},
   "outputs": [
    {
     "name": "stdout",
     "output_type": "stream",
     "text": [
      "Optimization terminated successfully.\n",
      "         Current function value: 0.604170\n",
      "         Iterations 6\n",
      "                           Logit Regression Results                           \n",
      "==============================================================================\n",
      "Dep. Variable:                  state   No. Observations:               126126\n",
      "Model:                          Logit   Df Residuals:                   126098\n",
      "Method:                           MLE   Df Model:                           27\n",
      "Date:                Thu, 02 Aug 2018   Pseudo R-squ.:                  0.1267\n",
      "Time:                        21:42:53   Log-Likelihood:                -76201.\n",
      "converged:                       True   LL-Null:                       -87259.\n",
      "                                        LLR p-value:                     0.000\n",
      "===============================================================================================\n",
      "                                  coef    std err          z      P>|z|      [0.025      0.975]\n",
      "-----------------------------------------------------------------------------------------------\n",
      "goal                           -6.4261      0.084    -76.454      0.000      -6.591      -6.261\n",
      "life_days                      -1.3747      0.066    -20.733      0.000      -1.505      -1.245\n",
      "prep_days                       1.9401      0.032     61.477      0.000       1.878       2.002\n",
      "slug_plor                       1.9003      0.154     12.358      0.000       1.599       2.202\n",
      "slug_subj                       0.2733      0.021     12.919      0.000       0.232       0.315\n",
      "blurb_plor                      1.0915      0.147      7.425      0.000       0.803       1.380\n",
      "blurb_subj                     -0.0252      0.021     -1.194      0.232      -0.067       0.016\n",
      "gender_female                   0.1881      0.062      3.017      0.003       0.066       0.310\n",
      "gender_male                    -0.2286      0.061     -3.734      0.000      -0.349      -0.109\n",
      "gender_mostly_female            0.3201      0.068      4.741      0.000       0.188       0.452\n",
      "gender_mostly_male             -0.2049      0.067     -3.057      0.002      -0.336      -0.074\n",
      "gender_unknown                  0.1923      0.062      3.115      0.002       0.071       0.313\n",
      "top100_1                        0.3039      0.016     18.986      0.000       0.273       0.335\n",
      "top100_99                       0.0346      0.046      0.747      0.455      -0.056       0.125\n",
      "category_broad_comics           1.3338      0.041     32.175      0.000       1.253       1.415\n",
      "category_broad_crafts          -0.4019      0.044     -9.166      0.000      -0.488      -0.316\n",
      "category_broad_dance            1.5770      0.064     24.514      0.000       1.451       1.703\n",
      "category_broad_design           1.6239      0.041     39.233      0.000       1.543       1.705\n",
      "category_broad_fashion         -0.6717      0.036    -18.772      0.000      -0.742      -0.602\n",
      "category_broad_film & video     0.8386      0.026     32.740      0.000       0.788       0.889\n",
      "category_broad_food            -0.0540      0.031     -1.749      0.080      -0.115       0.007\n",
      "category_broad_games            0.7317      0.031     23.752      0.000       0.671       0.792\n",
      "category_broad_journalism      -0.7913      0.056    -14.249      0.000      -0.900      -0.682\n",
      "category_broad_music            0.5397      0.025     21.640      0.000       0.491       0.589\n",
      "category_broad_photography      0.3677      0.043      8.567      0.000       0.284       0.452\n",
      "category_broad_publishing      -0.1287      0.026     -4.947      0.000      -0.180      -0.078\n",
      "category_broad_technology      -0.3426      0.031    -11.156      0.000      -0.403      -0.282\n",
      "category_broad_theater          1.4340      0.047     30.788      0.000       1.343       1.525\n",
      "===============================================================================================\n"
     ]
    }
   ],
   "source": [
    "# run statistic model to get result summary\n",
    "import statsmodels.discrete.discrete_model as sm\n",
    "logit = sm.Logit(y_train, X_train)\n",
    "print (logit.fit().summary())"
   ]
  },
  {
   "cell_type": "markdown",
   "metadata": {},
   "source": [
    "## CNN"
   ]
  },
  {
   "cell_type": "code",
   "execution_count": 118,
   "metadata": {},
   "outputs": [
    {
     "name": "stderr",
     "output_type": "stream",
     "text": [
      "Using TensorFlow backend.\n"
     ]
    },
    {
     "name": "stdout",
     "output_type": "stream",
     "text": [
      "[[ 0.54950108  0.71587766  0.          0.93163285  0.51326042  0.93474698\n",
      "   0.52788863  0.          1.          0.          0.          0.          0.\n",
      "   0.          0.          0.          0.          0.          0.          0.\n",
      "   0.          1.          0.          0.          0.          0.          0.\n",
      "   0.        ]\n",
      " [ 0.71221575  0.71587766  0.30953556  0.96149454  0.41503689  0.95286281\n",
      "   0.16992462  0.          0.          0.          1.          0.          1.\n",
      "   0.          0.          0.          0.          0.          0.          1.\n",
      "   0.          0.          0.          0.          0.          0.          0.\n",
      "   0.        ]\n",
      " [ 0.46209125  0.76905557  0.          0.94321336  0.          0.96626827\n",
      "   0.70781876  1.          0.          0.          0.          0.          1.\n",
      "   0.          0.          0.          0.          0.          0.          0.\n",
      "   0.          0.          0.          1.          0.          0.          0.\n",
      "   0.        ]\n",
      " [ 0.40351551  0.71587766  0.33110002  0.94321336  0.          0.96678191\n",
      "   0.64769771  0.          0.          0.          0.          1.          1.\n",
      "   0.          0.          0.          0.          0.          0.          1.\n",
      "   0.          0.          0.          0.          0.          0.          0.\n",
      "   0.        ]\n",
      " [ 0.46209125  0.89267337  0.08947554  0.94321336  0.          0.94321336\n",
      "   0.          0.          0.          0.          0.          1.          1.\n",
      "   0.          0.          0.          0.          0.          0.          1.\n",
      "   0.          0.          0.          0.          0.          0.          0.\n",
      "   0.        ]\n",
      " [ 0.49973493  0.89267337  0.29723228  0.94321336  0.          0.96549171\n",
      "   0.41503689  0.          0.          1.          0.          0.          1.\n",
      "   0.          0.          0.          0.          0.          0.          0.\n",
      "   0.          0.          0.          1.          0.          0.          0.\n",
      "   0.        ]\n",
      " [ 0.52139314  0.7073133   0.67663929  0.94321336  0.          0.94321336\n",
      "   0.          0.          0.          0.          0.          1.          1.\n",
      "   0.          0.          0.          0.          0.          0.          0.\n",
      "   0.          0.          1.          0.          0.          0.          0.\n",
      "   0.        ]\n",
      " [ 0.58142644  0.71587766  0.26842741  0.94321336  0.          0.94321336\n",
      "   0.          0.          0.          0.          0.          1.          0.\n",
      "   0.          0.          0.          0.          0.          0.          0.\n",
      "   0.          1.          0.          0.          0.          0.          0.\n",
      "   0.        ]\n",
      " [ 0.48036404  0.71587766  0.59575006  0.95368619  0.54056777  0.95368619\n",
      "   0.54056777  0.          0.          0.          0.          0.          1.\n",
      "   0.          0.          0.          0.          0.          0.          0.\n",
      "   0.          0.          0.          0.          0.          0.          0.\n",
      "   0.        ]\n",
      " [ 0.64825025  0.88835609  0.17895139  0.9013638   0.48542621  0.97540085\n",
      "   0.65535129  0.          1.          0.          0.          0.          0.\n",
      "   0.          0.          0.          0.          0.          0.          0.\n",
      "   0.          1.          0.          0.          0.          0.          0.\n",
      "   0.        ]]\n",
      "[[1 0]\n",
      " [1 0]\n",
      " [1 0]\n",
      " [1 0]\n",
      " [0 1]\n",
      " [0 1]\n",
      " [1 0]\n",
      " [1 0]\n",
      " [1 0]\n",
      " [1 0]]\n"
     ]
    }
   ],
   "source": [
    "import keras\n",
    "\n",
    "# Separate data and one-hot encode the output\n",
    "# Note: We're also turning the data into numpy arrays, in order to train the model in Keras\n",
    "features = np.array(X_train)\n",
    "targets = np.array(pd.get_dummies(y_train))\n",
    "features_test = np.array(X_test)\n",
    "targets_test = np.array(pd.get_dummies(y_test))\n",
    "\n",
    "print(features[:10])\n",
    "print(targets[:10])"
   ]
  },
  {
   "cell_type": "code",
   "execution_count": 119,
   "metadata": {},
   "outputs": [
    {
     "name": "stdout",
     "output_type": "stream",
     "text": [
      "_________________________________________________________________\n",
      "Layer (type)                 Output Shape              Param #   \n",
      "=================================================================\n",
      "dense_1 (Dense)              (None, 128)               3712      \n",
      "_________________________________________________________________\n",
      "dropout_1 (Dropout)          (None, 128)               0         \n",
      "_________________________________________________________________\n",
      "dense_2 (Dense)              (None, 64)                8256      \n",
      "_________________________________________________________________\n",
      "dropout_2 (Dropout)          (None, 64)                0         \n",
      "_________________________________________________________________\n",
      "dense_3 (Dense)              (None, 2)                 130       \n",
      "=================================================================\n",
      "Total params: 12,098\n",
      "Trainable params: 12,098\n",
      "Non-trainable params: 0\n",
      "_________________________________________________________________\n"
     ]
    }
   ],
   "source": [
    "# Imports\n",
    "\n",
    "from keras.models import Sequential\n",
    "from keras.layers.core import Dense, Dropout, Activation\n",
    "from keras.optimizers import SGD\n",
    "from keras.utils import np_utils\n",
    "\n",
    "# Building the model\n",
    "model = Sequential()\n",
    "model.add(Dense(128, activation='relu', input_shape=(28,)))\n",
    "model.add(Dropout(.2))\n",
    "model.add(Dense(64, activation='sigmoid'))\n",
    "model.add(Dropout(.1))\n",
    "model.add(Dense(2, activation='sigmoid'))\n",
    "\n",
    "# Compiling the model\n",
    "model.compile(loss = 'categorical_crossentropy', optimizer='rmsprop', metrics=['accuracy'])\n",
    "model.summary()"
   ]
  },
  {
   "cell_type": "code",
   "execution_count": 127,
   "metadata": {},
   "outputs": [
    {
     "data": {
      "text/plain": [
       "<keras.callbacks.History at 0x1a18faceb8>"
      ]
     },
     "execution_count": 127,
     "metadata": {},
     "output_type": "execute_result"
    }
   ],
   "source": [
    "# Training the model\n",
    "model.fit(features, targets, epochs=200, batch_size=2000, verbose=0)"
   ]
  },
  {
   "cell_type": "code",
   "execution_count": 128,
   "metadata": {},
   "outputs": [
    {
     "name": "stdout",
     "output_type": "stream",
     "text": [
      "126126/126126 [==============================] - 10s 78us/step\n",
      "\n",
      " Training Accuracy: 0.694004408292\n",
      "31532/31532 [==============================] - 3s 81us/step\n",
      "\n",
      " Testing Accuracy: 0.690695166822\n"
     ]
    }
   ],
   "source": [
    "# Evaluating the model on the training and testing set\n",
    "score = model.evaluate(features, targets)\n",
    "print(\"\\n Training Accuracy:\", score[1])\n",
    "score = model.evaluate(features_test, targets_test)\n",
    "print(\"\\n Testing Accuracy:\", score[1])"
   ]
  },
  {
   "cell_type": "markdown",
   "metadata": {},
   "source": [
    "## SANDBOX"
   ]
  },
  {
   "cell_type": "markdown",
   "metadata": {},
   "source": [
    "### LDA Regression"
   ]
  },
  {
   "cell_type": "code",
   "execution_count": 125,
   "metadata": {},
   "outputs": [
    {
     "name": "stdout",
     "output_type": "stream",
     "text": [
      "untuned accuracy:0.6766\n",
      "optimized accuracy:0.6766\n",
      "untuned accuracy:0.6900\n",
      "optimized accuracy:0.6900\n"
     ]
    }
   ],
   "source": [
    "# LDA Regression\n",
    "from sklearn.model_selection  import GridSearchCV\n",
    "from sklearn.metrics import make_scorer\n",
    "\n",
    "clf = LinearDiscriminantAnalysis()\n",
    "\n",
    "parameters = {'n_components':[2,5,10,15,20,25],\n",
    "             'solver':['svd','lsqr','eigen']}\n",
    "\n",
    "scorer = make_scorer(fbeta_score, beta = 0.5)\n",
    "grid_obj = GridSearchCV(clf, parameters, scorer)\n",
    "\n",
    "grid_fit = grid_obj.fit(X_train, y_train)\n",
    "\n",
    "best_clf = grid_fit.best_estimator_\n",
    "\n",
    "predictions = (clf.fit(X_train, y_train)).predict(X_test)\n",
    "best_predictions = best_clf.predict(X_test)\n",
    "\n",
    "print(\"untuned accuracy:{:.4f}\".format(accuracy_score(y_test, predictions)))\n",
    "print(\"optimized accuracy:{:.4f}\".format(accuracy_score(y_test, best_predictions)))\n",
    "\n",
    "print(\"untuned accuracy:{:.4f}\".format(fbeta_score(y_test, predictions, beta = 0.5)))\n",
    "print(\"optimized accuracy:{:.4f}\".format(fbeta_score(y_test, best_predictions, beta = 0.5)))\n"
   ]
  },
  {
   "cell_type": "code",
   "execution_count": 126,
   "metadata": {},
   "outputs": [
    {
     "data": {
      "text/plain": [
       "array([[-6.25971837, -1.45492172,  1.92071934,  0.76411841,  0.28376298,\n",
       "         0.3314164 , -0.0161366 ,  0.10241837, -0.32302196,  0.22919516,\n",
       "        -0.29781926,  0.0974614 ,  0.29793325,  0.02297696,  1.29525514,\n",
       "        -0.42619425,  1.48884427,  1.55514827, -0.71588503,  0.84891553,\n",
       "        -0.08413024,  0.72978401, -0.78569546,  0.56887739,  0.36317533,\n",
       "        -0.16710109, -0.37789836,  1.39968973]])"
      ]
     },
     "execution_count": 126,
     "metadata": {},
     "output_type": "execute_result"
    }
   ],
   "source": [
    "best_clf.coef_"
   ]
  },
  {
   "cell_type": "markdown",
   "metadata": {},
   "source": [
    "## Feature Importance"
   ]
  },
  {
   "cell_type": "code",
   "execution_count": 129,
   "metadata": {},
   "outputs": [
    {
     "data": {
      "image/png": "[encoded data removed]",
      "text/plain": [
       "<Figure size 648x360 with 1 Axes>"
      ]
     },
     "metadata": {},
     "output_type": "display_data"
    }
   ],
   "source": [
    "model = RandomForestClassifier(random_state = 40).fit(X_train, y_train)\n",
    "importances = model.feature_importances_\n",
    "\n",
    "vs.feature_plot(importances, X_train, y_train)\n",
    "# importances"
   ]
  },
  {
   "cell_type": "markdown",
   "metadata": {},
   "source": [
    "### Sentence structure analysis"
   ]
  },
  {
   "cell_type": "code",
   "execution_count": 3,
   "metadata": {},
   "outputs": [],
   "source": [
    "# SpaCy for structure analysis\n",
    "import spacy \n",
    "from spacy import displacy\n",
    "import difflib\n",
    "\n",
    "EN = spacy.load(\"en\")\n",
    "nlp = spacy.load('en_core_web_sm')"
   ]
  },
  {
   "cell_type": "code",
   "execution_count": 35,
   "metadata": {},
   "outputs": [
    {
     "data": {
      "text/plain": [
       "699                                        hotel-chicamauga\n",
       "72401                          hearts-and-daggers-new-album\n",
       "153857    help-kickstart-welcome-to-limericks-debut-ep-a...\n",
       "149150    got-emissions-275-inch-x-9-inch-vinyl-bumper-s...\n",
       "76986                                     the-warped-vinyls\n",
       "Name: slug, dtype: object"
      ]
     },
     "execution_count": 35,
     "metadata": {},
     "output_type": "execute_result"
    }
   ],
   "source": [
    "# test tokens\n",
    "data.slug.sample(5)"
   ]
  },
  {
   "cell_type": "code",
   "execution_count": 39,
   "metadata": {},
   "outputs": [
    {
     "data": {
      "text/plain": [
       "'chasing-gold-lined-storms'"
      ]
     },
     "execution_count": 39,
     "metadata": {},
     "output_type": "execute_result"
    }
   ],
   "source": [
    "slugs = [slug for slug in data['slug']]\n",
    "slugs[1]"
   ]
  },
  {
   "cell_type": "code",
   "execution_count": 90,
   "metadata": {},
   "outputs": [],
   "source": [
    "def tokenize_text(docs, logging=False):\n",
    "    texts = []\n",
    "    counter = 1\n",
    "    for doc in docs:\n",
    "        if counter % 1000 == 0 and logging:\n",
    "            print(\"Processed %d out of %d slugs.\" % (counter, len(docs)))\n",
    "        counter += 1\n",
    "        doc = nlp(doc, disable=['parser', 'ner'])\n",
    "        tokens = [tok.pos_ for tok in doc]\n",
    "        tokens = ' '.join(tokens)\n",
    "        texts.append(tokens)\n",
    "    return pd.Series(texts)"
   ]
  },
  {
   "cell_type": "code",
   "execution_count": 96,
   "metadata": {},
   "outputs": [],
   "source": [
    "# tokenize all slugs.\n",
    "\n",
    "slugs_tokenize = tokenize_text(slugs, True)"
   ]
  },
  {
   "cell_type": "code",
   "execution_count": 40,
   "metadata": {},
   "outputs": [
    {
     "data": {
      "text/plain": [
       "'VERB PUNCT NOUN PUNCT VERB PUNCT NOUN'"
      ]
     },
     "execution_count": 40,
     "metadata": {},
     "output_type": "execute_result"
    }
   ],
   "source": [
    "# slugs_tokenize.to_pickle(\"slugs_tokenize\")\n",
    "slugs_tokenize = pd.read_pickle(\"slugs_tokenize\")\n",
    "slugs_tokenize[1]\n"
   ]
  },
  {
   "cell_type": "code",
   "execution_count": 4,
   "metadata": {},
   "outputs": [
    {
     "data": {
      "text/plain": [
       "0.6216216216216216"
      ]
     },
     "execution_count": 4,
     "metadata": {},
     "output_type": "execute_result"
    }
   ],
   "source": [
    "# difference in length and structure sequence\n",
    "difflib.SequenceMatcher(None,slugs_tokenize[10],slugs_tokenize[2]).ratio()\n"
   ]
  },
  {
   "cell_type": "markdown",
   "metadata": {},
   "source": [
    "Select a random sample randomly to train the classifier， calculate Pair-wise similarity matrix for the headlines"
   ]
  },
  {
   "cell_type": "code",
   "execution_count": 23,
   "metadata": {},
   "outputs": [],
   "source": [
    "# 1000 training set\n",
    "np.random.seed(10)\n",
    "sample_size = 1000\n",
    "sample_index = np.random.randint(0, len(slugs_tokenize), sample_size)\n",
    "m = np.zeros((sample_size,sample_size))\n",
    "\n",
    "for i, slug_x in enumerate(slugs_tokenize[sample_index]):\n",
    "    for j, slug_y in enumerate(slug_x):\n",
    "        m[i][j] = difflib.SequenceMatcher(None,slug_x,slug_y).ratio()"
   ]
  },
  {
   "cell_type": "code",
   "execution_count": 24,
   "metadata": {},
   "outputs": [
    {
     "data": {
      "text/plain": [
       "(1000, 1000)"
      ]
     },
     "execution_count": 24,
     "metadata": {},
     "output_type": "execute_result"
    }
   ],
   "source": [
    "m.shape"
   ]
  },
  {
   "cell_type": "markdown",
   "metadata": {},
   "source": [
    "use tSNE to reduce the dimensionality of similarity matrix from 1000 down to 2:"
   ]
  },
  {
   "cell_type": "code",
   "execution_count": 25,
   "metadata": {},
   "outputs": [],
   "source": [
    "from sklearn.manifold import TSNE\n",
    "tsne_model = TSNE(n_components=2, verbose=1, random_state=0)"
   ]
  },
  {
   "cell_type": "code",
   "execution_count": 26,
   "metadata": {},
   "outputs": [
    {
     "name": "stdout",
     "output_type": "stream",
     "text": [
      "[t-SNE] Computing 91 nearest neighbors...\n",
      "[t-SNE] Indexed 1000 samples in 0.028s...\n",
      "[t-SNE] Computed neighbors for 1000 samples in 0.653s...\n",
      "[t-SNE] Computed conditional probabilities for sample 1000 / 1000\n",
      "[t-SNE] Mean sigma: 0.000000\n",
      "[t-SNE] KL divergence after 250 iterations with early exaggeration: 40.082664\n",
      "[t-SNE] Error after 1000 iterations: 0.087015\n"
     ]
    }
   ],
   "source": [
    "tsne = tsne_model.fit_transform(m)"
   ]
  },
  {
   "cell_type": "code",
   "execution_count": 27,
   "metadata": {},
   "outputs": [],
   "source": [
    "from sklearn.cluster import MiniBatchKMeans\n",
    "\n",
    "kmeans_model = MiniBatchKMeans(n_clusters=5, init='k-means++', n_init=1, \n",
    "                         init_size=1000, batch_size=1000, verbose=False, max_iter=1000)\n",
    "kmeans = kmeans_model.fit(m)\n",
    "kmeans_clusters = kmeans.predict(m)\n",
    "kmeans_distances = kmeans.transform(m)"
   ]
  },
  {
   "cell_type": "code",
   "execution_count": 28,
   "metadata": {
    "scrolled": true
   },
   "outputs": [
    {
     "data": {
      "text/plain": [
       "<matplotlib.collections.PathCollection at 0x1a24393160>"
      ]
     },
     "execution_count": 28,
     "metadata": {},
     "output_type": "execute_result"
    },
    {
     "data": {
      "image/png": "[encoded data removed]",
      "text/plain": [
       "<matplotlib.figure.Figure at 0x1a1cc06e48>"
      ]
     },
     "metadata": {},
     "output_type": "display_data"
    }
   ],
   "source": [
    "plt.figure(figsize=(12,10))\n",
    "\n",
    "plt.scatter(tsne[:, 0], tsne[:, 1], c=kmeans_clusters, s=50, cmap='viridis' ,alpha =0.5)\n",
    "centers = kmeans.cluster_centers_\n",
    "plt.scatter(centers[:, 0], centers[:, 1], c='red', s=200,  alpha=0.5)\n"
   ]
  }
 ],
 "metadata": {
  "kernelspec": {
   "display_name": "Python 3",
   "language": "python",
   "name": "python3"
  },
  "language_info": {
   "codemirror_mode": {
    "name": "ipython",
    "version": 3
   },
   "file_extension": ".py",
   "mimetype": "text/x-python",
   "name": "python",
   "nbconvert_exporter": "python",
   "pygments_lexer": "ipython3",
   "version": "3.5.5"
  }
 },
 "nbformat": 4,
 "nbformat_minor": 2
}
