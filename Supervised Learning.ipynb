{
 "cells": [
  {
   "cell_type": "markdown",
   "metadata": {},
   "source": [
    "# Machine Learning"
   ]
  },
  {
   "cell_type": "markdown",
   "metadata": {},
   "source": [
    "## Set up"
   ]
  },
  {
   "cell_type": "code",
   "execution_count": 1,
   "metadata": {},
   "outputs": [],
   "source": [
    "import pandas as pd\n",
    "import numpy as np\n",
    "import seaborn as sns\n",
    "import matplotlib.pyplot as plt\n",
    "%matplotlib inline"
   ]
  },
  {
   "cell_type": "code",
   "execution_count": 2,
   "metadata": {},
   "outputs": [
    {
     "data": {
      "text/html": [
       "<div>\n",
       "<style scoped>\n",
       "    .dataframe tbody tr th:only-of-type {\n",
       "        vertical-align: middle;\n",
       "    }\n",
       "\n",
       "    .dataframe tbody tr th {\n",
       "        vertical-align: top;\n",
       "    }\n",
       "\n",
       "    .dataframe thead th {\n",
       "        text-align: right;\n",
       "    }\n",
       "</style>\n",
       "<table border=\"1\" class=\"dataframe\">\n",
       "  <thead>\n",
       "    <tr style=\"text-align: right;\">\n",
       "      <th></th>\n",
       "      <th>backers_count</th>\n",
       "      <th>goal</th>\n",
       "      <th>pledged</th>\n",
       "      <th>life</th>\n",
       "      <th>duration</th>\n",
       "      <th>prep</th>\n",
       "    </tr>\n",
       "  </thead>\n",
       "  <tbody>\n",
       "    <tr>\n",
       "      <th>count</th>\n",
       "      <td>231381.000000</td>\n",
       "      <td>2.313810e+05</td>\n",
       "      <td>2.313810e+05</td>\n",
       "      <td>231381</td>\n",
       "      <td>231381</td>\n",
       "      <td>231381</td>\n",
       "    </tr>\n",
       "    <tr>\n",
       "      <th>mean</th>\n",
       "      <td>134.295772</td>\n",
       "      <td>4.729175e+04</td>\n",
       "      <td>1.227821e+04</td>\n",
       "      <td>33 days 20:09:57.300962</td>\n",
       "      <td>31 days 10:05:47.950847</td>\n",
       "      <td>42 days 21:29:37.516438</td>\n",
       "    </tr>\n",
       "    <tr>\n",
       "      <th>std</th>\n",
       "      <td>1095.131066</td>\n",
       "      <td>1.172776e+06</td>\n",
       "      <td>1.320999e+05</td>\n",
       "      <td>12 days 13:00:42.671194</td>\n",
       "      <td>14 days 07:00:24.493691</td>\n",
       "      <td>110 days 13:02:43.664584</td>\n",
       "    </tr>\n",
       "    <tr>\n",
       "      <th>min</th>\n",
       "      <td>0.000000</td>\n",
       "      <td>1.000000e-02</td>\n",
       "      <td>0.000000e+00</td>\n",
       "      <td>1 days 00:00:00</td>\n",
       "      <td>0 days 00:00:00</td>\n",
       "      <td>0 days 00:01:41</td>\n",
       "    </tr>\n",
       "    <tr>\n",
       "      <th>25%</th>\n",
       "      <td>2.000000</td>\n",
       "      <td>2.000000e+03</td>\n",
       "      <td>5.000000e+01</td>\n",
       "      <td>30 days 00:00:00</td>\n",
       "      <td>28 days 13:07:40</td>\n",
       "      <td>2 days 17:09:51</td>\n",
       "    </tr>\n",
       "    <tr>\n",
       "      <th>50%</th>\n",
       "      <td>19.000000</td>\n",
       "      <td>5.000000e+03</td>\n",
       "      <td>1.035000e+03</td>\n",
       "      <td>30 days 00:00:00</td>\n",
       "      <td>30 days 00:00:01</td>\n",
       "      <td>10 days 01:52:47</td>\n",
       "    </tr>\n",
       "    <tr>\n",
       "      <th>75%</th>\n",
       "      <td>74.000000</td>\n",
       "      <td>1.500000e+04</td>\n",
       "      <td>5.405420e+03</td>\n",
       "      <td>35 days 22:27:34</td>\n",
       "      <td>34 days 18:48:37</td>\n",
       "      <td>34 days 10:33:15</td>\n",
       "    </tr>\n",
       "    <tr>\n",
       "      <th>max</th>\n",
       "      <td>219382.000000</td>\n",
       "      <td>1.000000e+08</td>\n",
       "      <td>2.902191e+07</td>\n",
       "      <td>91 days 23:00:00</td>\n",
       "      <td>354 days 19:06:23</td>\n",
       "      <td>2313 days 16:40:37</td>\n",
       "    </tr>\n",
       "  </tbody>\n",
       "</table>\n",
       "</div>"
      ],
      "text/plain": [
       "       backers_count          goal       pledged                     life  \\\n",
       "count  231381.000000  2.313810e+05  2.313810e+05                   231381   \n",
       "mean      134.295772  4.729175e+04  1.227821e+04  33 days 20:09:57.300962   \n",
       "std      1095.131066  1.172776e+06  1.320999e+05  12 days 13:00:42.671194   \n",
       "min         0.000000  1.000000e-02  0.000000e+00          1 days 00:00:00   \n",
       "25%         2.000000  2.000000e+03  5.000000e+01         30 days 00:00:00   \n",
       "50%        19.000000  5.000000e+03  1.035000e+03         30 days 00:00:00   \n",
       "75%        74.000000  1.500000e+04  5.405420e+03         35 days 22:27:34   \n",
       "max    219382.000000  1.000000e+08  2.902191e+07         91 days 23:00:00   \n",
       "\n",
       "                      duration                      prep  \n",
       "count                   231381                    231381  \n",
       "mean   31 days 10:05:47.950847   42 days 21:29:37.516438  \n",
       "std    14 days 07:00:24.493691  110 days 13:02:43.664584  \n",
       "min            0 days 00:00:00           0 days 00:01:41  \n",
       "25%           28 days 13:07:40           2 days 17:09:51  \n",
       "50%           30 days 00:00:01          10 days 01:52:47  \n",
       "75%           34 days 18:48:37          34 days 10:33:15  \n",
       "max          354 days 19:06:23        2313 days 16:40:37  "
      ]
     },
     "execution_count": 2,
     "metadata": {},
     "output_type": "execute_result"
    }
   ],
   "source": [
    "# load data\n",
    "df = pd.read_pickle(\"sample\")\n",
    "# show numerical values\n",
    "df.describe()"
   ]
  },
  {
   "cell_type": "code",
   "execution_count": 3,
   "metadata": {},
   "outputs": [],
   "source": [
    "# convert duration data to seconds\n",
    "df['life_days'] = df['life'].dt.days\n",
    "df['prep_days'] = df['prep'].dt.days\n",
    "df['top100'] = df['top100'].fillna(99).astype(int)"
   ]
  },
  {
   "cell_type": "code",
   "execution_count": 30,
   "metadata": {},
   "outputs": [
    {
     "name": "stdout",
     "output_type": "stream",
     "text": [
      "<class 'pandas.core.frame.DataFrame'>\n",
      "RangeIndex: 159925 entries, 0 to 159924\n",
      "Data columns (total 9 columns):\n",
      "top100            159925 non-null int64\n",
      "goal              159925 non-null float64\n",
      "gender            159925 non-null object\n",
      "category_broad    159925 non-null category\n",
      "state             159925 non-null category\n",
      "slug              159925 non-null object\n",
      "blurb             159922 non-null object\n",
      "life_days         159925 non-null int64\n",
      "prep_days         159925 non-null int64\n",
      "dtypes: category(2), float64(1), int64(3), object(3)\n",
      "memory usage: 8.8+ MB\n"
     ]
    }
   ],
   "source": [
    "# keep only successful / fail projects\n",
    "# keep only US projects\n",
    "data = df[(df.location_country ==\"US\") & ((df.state == \"successful\")|(df.state == \"failed\"))].reset_index(drop = True)\n",
    "\n",
    "# keep only numerical/categorical variables\n",
    "DropCol = ['location_country','location_state','location_localized_name','location_name','cbsa','cbsa_name','creator_name',\n",
    "      'category_name','launched_at','deadline','state_changed_at','life','duration','prep','pledged','backers_count']\n",
    "\n",
    "data = data.drop(DropCol,axis=1)\n",
    "data.info()"
   ]
  },
  {
   "cell_type": "markdown",
   "metadata": {},
   "source": [
    "## Text Analysis \n",
    "### Structure analysis of headline\n",
    "Reference: http://nbviewer.jupyter.org/github/AYLIEN/headline_analysis/blob/06f1223012d285412a650c201a19a1c95859dca1/main-chunks.ipynb#A-primer-on-parse-trees"
   ]
  },
  {
   "cell_type": "markdown",
   "metadata": {},
   "source": [
    "### Sentiment analysis"
   ]
  },
  {
   "cell_type": "code",
   "execution_count": 5,
   "metadata": {},
   "outputs": [
    {
     "name": "stdout",
     "output_type": "stream",
     "text": [
      "78605                              the-bachata-project-fund\n",
      "145356               the-colossus-of-destiny-a-melvins-tale\n",
      "62593                 dungeon-ravenstein-by-darkraven-games\n",
      "131528    ravean-wallet-worlds-most-functional-minimalis...\n",
      "50792     happy-animal-productions-mini-farm-organic-health\n",
      "Name: slug, dtype: object\n",
      "137795    The \"Optical\" series is my serving of everythi...\n",
      "156320    REDEEM is the sequel to FALL, an urban fantasy...\n",
      "105732    this is a documentary about the aftermath and ...\n",
      "51153     Re-Inventing the Tequila industry, Providing h...\n",
      "52538     How about a home cooked meal instead of a burger?\n",
      "Name: blurb, dtype: object\n"
     ]
    }
   ],
   "source": [
    "print(data.slug.sample(5))\n",
    "print(data.blurb.sample(5))"
   ]
  },
  {
   "cell_type": "code",
   "execution_count": 6,
   "metadata": {},
   "outputs": [
    {
     "data": {
      "text/plain": [
       "Sentiment(polarity=0.11666666666666665, subjectivity=0.37777777777777777)"
      ]
     },
     "execution_count": 6,
     "metadata": {},
     "output_type": "execute_result"
    }
   ],
   "source": [
    "from textblob import TextBlob\n",
    "\n",
    "def sentiment_calc(text):\n",
    "    try:\n",
    "        return TextBlob(text).sentiment\n",
    "    except:\n",
    "        return None\n",
    "\n",
    "# test\n",
    "sentiment_calc(data['blurb'][0])"
   ]
  },
  {
   "cell_type": "code",
   "execution_count": 7,
   "metadata": {},
   "outputs": [
    {
     "data": {
      "text/plain": [
       "44006     blocks for tots making wood blocks sets from s...\n",
       "141496                                           red folder\n",
       "119431           eggchtropolis help us serve you for bm2010\n",
       "2331                                    frye family band ep\n",
       "131124    cook strain eat and store your food all in one...\n",
       "Name: slug, dtype: object"
      ]
     },
     "execution_count": 7,
     "metadata": {},
     "output_type": "execute_result"
    }
   ],
   "source": [
    "data['slug'] = data['slug'].str.replace('-',' ')\n",
    "data.slug.sample(5)"
   ]
  },
  {
   "cell_type": "code",
   "execution_count": 8,
   "metadata": {},
   "outputs": [],
   "source": [
    "data['slug_senti'] =  data['slug'].apply(sentiment_calc)\n",
    "data[['slug_plor','slug_subj']] = data['slug_senti'].apply(pd.Series)\n",
    "\n",
    "data['blurb_senti'] =  data['blurb'].apply(sentiment_calc)\n",
    "data[['blurb_plor','blurb_subj']] = data['blurb_senti'].apply(pd.Series)"
   ]
  },
  {
   "cell_type": "code",
   "execution_count": 17,
   "metadata": {},
   "outputs": [
    {
     "data": {
      "text/html": [
       "<div>\n",
       "<style scoped>\n",
       "    .dataframe tbody tr th:only-of-type {\n",
       "        vertical-align: middle;\n",
       "    }\n",
       "\n",
       "    .dataframe tbody tr th {\n",
       "        vertical-align: top;\n",
       "    }\n",
       "\n",
       "    .dataframe thead th {\n",
       "        text-align: right;\n",
       "    }\n",
       "</style>\n",
       "<table border=\"1\" class=\"dataframe\">\n",
       "  <thead>\n",
       "    <tr style=\"text-align: right;\">\n",
       "      <th></th>\n",
       "      <th>cbsa</th>\n",
       "      <th>top100</th>\n",
       "      <th>goal</th>\n",
       "      <th>gender</th>\n",
       "      <th>category_broad</th>\n",
       "      <th>state</th>\n",
       "      <th>slug</th>\n",
       "      <th>blurb</th>\n",
       "      <th>life_days</th>\n",
       "      <th>prep_days</th>\n",
       "      <th>slug_senti</th>\n",
       "      <th>slug_plor</th>\n",
       "      <th>slug_subj</th>\n",
       "      <th>blurb_senti</th>\n",
       "      <th>blurb_plor</th>\n",
       "      <th>blurb_subj</th>\n",
       "    </tr>\n",
       "  </thead>\n",
       "  <tbody>\n",
       "    <tr>\n",
       "      <th>21653</th>\n",
       "      <td>37980</td>\n",
       "      <td>1</td>\n",
       "      <td>4000.0</td>\n",
       "      <td>female</td>\n",
       "      <td>theater</td>\n",
       "      <td>successful</td>\n",
       "      <td>austentatious soundtrack</td>\n",
       "      <td>The creators of fan-favorite, hilarious musica...</td>\n",
       "      <td>30</td>\n",
       "      <td>33</td>\n",
       "      <td>(0.0, 0.0)</td>\n",
       "      <td>0.000000</td>\n",
       "      <td>0.000000</td>\n",
       "      <td>(0.25, 0.5)</td>\n",
       "      <td>0.25</td>\n",
       "      <td>0.50</td>\n",
       "    </tr>\n",
       "    <tr>\n",
       "      <th>79160</th>\n",
       "      <td>19340</td>\n",
       "      <td>0</td>\n",
       "      <td>10000.0</td>\n",
       "      <td>unknown</td>\n",
       "      <td>music</td>\n",
       "      <td>successful</td>\n",
       "      <td>3 years hollow is going on their first ever tour</td>\n",
       "      <td>A regional band reaching to their fans. Reachi...</td>\n",
       "      <td>30</td>\n",
       "      <td>26</td>\n",
       "      <td>(0.075, 0.19166666666666665)</td>\n",
       "      <td>0.075000</td>\n",
       "      <td>0.191667</td>\n",
       "      <td>(0.0, 0.0)</td>\n",
       "      <td>0.00</td>\n",
       "      <td>0.00</td>\n",
       "    </tr>\n",
       "    <tr>\n",
       "      <th>158651</th>\n",
       "      <td>39300</td>\n",
       "      <td>1</td>\n",
       "      <td>18000.0</td>\n",
       "      <td>male</td>\n",
       "      <td>design</td>\n",
       "      <td>successful</td>\n",
       "      <td>kuma a reusable spork for modern life</td>\n",
       "      <td>Kuma™ is a compact spork that fits in your poc...</td>\n",
       "      <td>40</td>\n",
       "      <td>44</td>\n",
       "      <td>(0.2, 0.3)</td>\n",
       "      <td>0.200000</td>\n",
       "      <td>0.300000</td>\n",
       "      <td>(0.30000000000000004, 0.35)</td>\n",
       "      <td>0.30</td>\n",
       "      <td>0.35</td>\n",
       "    </tr>\n",
       "    <tr>\n",
       "      <th>88428</th>\n",
       "      <td>28300</td>\n",
       "      <td>0</td>\n",
       "      <td>1200.0</td>\n",
       "      <td>female</td>\n",
       "      <td>film &amp; video</td>\n",
       "      <td>successful</td>\n",
       "      <td>deep end 0</td>\n",
       "      <td>Deep End is a student made film that encompass...</td>\n",
       "      <td>30</td>\n",
       "      <td>24</td>\n",
       "      <td>(0.0, 0.4)</td>\n",
       "      <td>0.000000</td>\n",
       "      <td>0.400000</td>\n",
       "      <td>(0.0, 0.30000000000000004)</td>\n",
       "      <td>0.00</td>\n",
       "      <td>0.30</td>\n",
       "    </tr>\n",
       "    <tr>\n",
       "      <th>151196</th>\n",
       "      <td>40060</td>\n",
       "      <td>1</td>\n",
       "      <td>80000.0</td>\n",
       "      <td>male</td>\n",
       "      <td>publishing</td>\n",
       "      <td>failed</td>\n",
       "      <td>bioremediation field manual clean up oil conta...</td>\n",
       "      <td>Bioremediation involves creating environments ...</td>\n",
       "      <td>30</td>\n",
       "      <td>3</td>\n",
       "      <td>(0.3666666666666667, 0.7000000000000001)</td>\n",
       "      <td>0.366667</td>\n",
       "      <td>0.700000</td>\n",
       "      <td>(0.0, 0.0)</td>\n",
       "      <td>0.00</td>\n",
       "      <td>0.00</td>\n",
       "    </tr>\n",
       "  </tbody>\n",
       "</table>\n",
       "</div>"
      ],
      "text/plain": [
       "         cbsa  top100     goal   gender category_broad       state  \\\n",
       "21653   37980       1   4000.0   female        theater  successful   \n",
       "79160   19340       0  10000.0  unknown          music  successful   \n",
       "158651  39300       1  18000.0     male         design  successful   \n",
       "88428   28300       0   1200.0   female   film & video  successful   \n",
       "151196  40060       1  80000.0     male     publishing      failed   \n",
       "\n",
       "                                                     slug  \\\n",
       "21653                            austentatious soundtrack   \n",
       "79160    3 years hollow is going on their first ever tour   \n",
       "158651              kuma a reusable spork for modern life   \n",
       "88428                                          deep end 0   \n",
       "151196  bioremediation field manual clean up oil conta...   \n",
       "\n",
       "                                                    blurb  life_days  \\\n",
       "21653   The creators of fan-favorite, hilarious musica...         30   \n",
       "79160   A regional band reaching to their fans. Reachi...         30   \n",
       "158651  Kuma™ is a compact spork that fits in your poc...         40   \n",
       "88428   Deep End is a student made film that encompass...         30   \n",
       "151196  Bioremediation involves creating environments ...         30   \n",
       "\n",
       "        prep_days                                slug_senti  slug_plor  \\\n",
       "21653          33                                (0.0, 0.0)   0.000000   \n",
       "79160          26              (0.075, 0.19166666666666665)   0.075000   \n",
       "158651         44                                (0.2, 0.3)   0.200000   \n",
       "88428          24                                (0.0, 0.4)   0.000000   \n",
       "151196          3  (0.3666666666666667, 0.7000000000000001)   0.366667   \n",
       "\n",
       "        slug_subj                  blurb_senti  blurb_plor  blurb_subj  \n",
       "21653    0.000000                  (0.25, 0.5)        0.25        0.50  \n",
       "79160    0.191667                   (0.0, 0.0)        0.00        0.00  \n",
       "158651   0.300000  (0.30000000000000004, 0.35)        0.30        0.35  \n",
       "88428    0.400000   (0.0, 0.30000000000000004)        0.00        0.30  \n",
       "151196   0.700000                   (0.0, 0.0)        0.00        0.00  "
      ]
     },
     "execution_count": 17,
     "metadata": {},
     "output_type": "execute_result"
    }
   ],
   "source": [
    "data[['blurb_plor','blurb_subj']] = data[['blurb_plor','blurb_subj']].fillna(value=0)\n",
    "data.sample(5)"
   ]
  },
  {
   "cell_type": "markdown",
   "metadata": {},
   "source": [
    "## Remove Outliers"
   ]
  },
  {
   "cell_type": "code",
   "execution_count": 62,
   "metadata": {},
   "outputs": [
    {
     "data": {
      "text/html": [
       "<div>\n",
       "<style scoped>\n",
       "    .dataframe tbody tr th:only-of-type {\n",
       "        vertical-align: middle;\n",
       "    }\n",
       "\n",
       "    .dataframe tbody tr th {\n",
       "        vertical-align: top;\n",
       "    }\n",
       "\n",
       "    .dataframe thead th {\n",
       "        text-align: right;\n",
       "    }\n",
       "</style>\n",
       "<table border=\"1\" class=\"dataframe\">\n",
       "  <thead>\n",
       "    <tr style=\"text-align: right;\">\n",
       "      <th></th>\n",
       "      <th>top100</th>\n",
       "      <th>goal</th>\n",
       "      <th>life_days</th>\n",
       "      <th>prep_days</th>\n",
       "    </tr>\n",
       "  </thead>\n",
       "  <tbody>\n",
       "    <tr>\n",
       "      <th>count</th>\n",
       "      <td>159925.000000</td>\n",
       "      <td>1.599250e+05</td>\n",
       "      <td>159925.000000</td>\n",
       "      <td>159925.000000</td>\n",
       "    </tr>\n",
       "    <tr>\n",
       "      <th>mean</th>\n",
       "      <td>2.729504</td>\n",
       "      <td>3.806577e+04</td>\n",
       "      <td>33.441301</td>\n",
       "      <td>44.274504</td>\n",
       "    </tr>\n",
       "    <tr>\n",
       "      <th>std</th>\n",
       "      <td>13.587452</td>\n",
       "      <td>1.023592e+06</td>\n",
       "      <td>12.559958</td>\n",
       "      <td>115.370794</td>\n",
       "    </tr>\n",
       "    <tr>\n",
       "      <th>min</th>\n",
       "      <td>0.000000</td>\n",
       "      <td>1.000000e-02</td>\n",
       "      <td>1.000000</td>\n",
       "      <td>0.000000</td>\n",
       "    </tr>\n",
       "    <tr>\n",
       "      <th>25%</th>\n",
       "      <td>1.000000</td>\n",
       "      <td>2.000000e+03</td>\n",
       "      <td>30.000000</td>\n",
       "      <td>2.000000</td>\n",
       "    </tr>\n",
       "    <tr>\n",
       "      <th>50%</th>\n",
       "      <td>1.000000</td>\n",
       "      <td>5.000000e+03</td>\n",
       "      <td>30.000000</td>\n",
       "      <td>10.000000</td>\n",
       "    </tr>\n",
       "    <tr>\n",
       "      <th>75%</th>\n",
       "      <td>1.000000</td>\n",
       "      <td>1.300000e+04</td>\n",
       "      <td>35.000000</td>\n",
       "      <td>35.000000</td>\n",
       "    </tr>\n",
       "    <tr>\n",
       "      <th>max</th>\n",
       "      <td>99.000000</td>\n",
       "      <td>1.000000e+08</td>\n",
       "      <td>91.000000</td>\n",
       "      <td>2313.000000</td>\n",
       "    </tr>\n",
       "  </tbody>\n",
       "</table>\n",
       "</div>"
      ],
      "text/plain": [
       "              top100          goal      life_days      prep_days\n",
       "count  159925.000000  1.599250e+05  159925.000000  159925.000000\n",
       "mean        2.729504  3.806577e+04      33.441301      44.274504\n",
       "std        13.587452  1.023592e+06      12.559958     115.370794\n",
       "min         0.000000  1.000000e-02       1.000000       0.000000\n",
       "25%         1.000000  2.000000e+03      30.000000       2.000000\n",
       "50%         1.000000  5.000000e+03      30.000000      10.000000\n",
       "75%         1.000000  1.300000e+04      35.000000      35.000000\n",
       "max        99.000000  1.000000e+08      91.000000    2313.000000"
      ]
     },
     "execution_count": 62,
     "metadata": {},
     "output_type": "execute_result"
    }
   ],
   "source": [
    "CatCol = ['gender','top100','category_broad']\n",
    "NumCol = ['goal','life_days','prep_days','slug_plor','slug_subj','blurb_plor','blurb_subj']\n",
    "\n",
    "data.describe()"
   ]
  },
  {
   "cell_type": "code",
   "execution_count": 19,
   "metadata": {},
   "outputs": [],
   "source": [
    "import collections\n",
    "c = collections.Counter()\n",
    "\n",
    "for feature in NumCol:\n",
    "    \n",
    "    Q1 = np.percentile(data[feature], 25)\n",
    "    Q3 = np.percentile(data[feature], 75)\n",
    "    \n",
    "    step = 1.5 * (Q3 - Q1)\n",
    "    \n",
    "    outlier = data[(~(data[feature] >= Q1 - step) & (data[feature] <= Q3 + step))]\n",
    "    \n",
    "    c.update(outlier.index)"
   ]
  },
  {
   "cell_type": "code",
   "execution_count": 20,
   "metadata": {},
   "outputs": [
    {
     "data": {
      "text/plain": [
       "0.014175394716273253"
      ]
     },
     "execution_count": 20,
     "metadata": {},
     "output_type": "execute_result"
    }
   ],
   "source": [
    "# remove projects that have at least 2 outlier features\n",
    "outliers = []\n",
    "\n",
    "for ind,num in c.items(): \n",
    "    if num >= 2:\n",
    "        outliers.append(ind)\n",
    "        \n",
    "len(outliers)/len(data)"
   ]
  },
  {
   "cell_type": "code",
   "execution_count": 21,
   "metadata": {},
   "outputs": [],
   "source": [
    "good_data = data.drop(data.index[outliers]).reset_index(drop = True)"
   ]
  },
  {
   "cell_type": "code",
   "execution_count": 22,
   "metadata": {},
   "outputs": [
    {
     "data": {
      "text/html": [
       "<div>\n",
       "<style scoped>\n",
       "    .dataframe tbody tr th:only-of-type {\n",
       "        vertical-align: middle;\n",
       "    }\n",
       "\n",
       "    .dataframe tbody tr th {\n",
       "        vertical-align: top;\n",
       "    }\n",
       "\n",
       "    .dataframe thead th {\n",
       "        text-align: right;\n",
       "    }\n",
       "</style>\n",
       "<table border=\"1\" class=\"dataframe\">\n",
       "  <thead>\n",
       "    <tr style=\"text-align: right;\">\n",
       "      <th></th>\n",
       "      <th>top100</th>\n",
       "      <th>goal</th>\n",
       "      <th>life_days</th>\n",
       "      <th>prep_days</th>\n",
       "      <th>slug_plor</th>\n",
       "      <th>slug_subj</th>\n",
       "      <th>blurb_plor</th>\n",
       "      <th>blurb_subj</th>\n",
       "    </tr>\n",
       "  </thead>\n",
       "  <tbody>\n",
       "    <tr>\n",
       "      <th>count</th>\n",
       "      <td>157658.000000</td>\n",
       "      <td>1.576580e+05</td>\n",
       "      <td>157658.000000</td>\n",
       "      <td>157658.000000</td>\n",
       "      <td>157658.000000</td>\n",
       "      <td>157658.000000</td>\n",
       "      <td>157658.000000</td>\n",
       "      <td>157658.000000</td>\n",
       "    </tr>\n",
       "    <tr>\n",
       "      <th>mean</th>\n",
       "      <td>2.726490</td>\n",
       "      <td>3.849370e+04</td>\n",
       "      <td>33.636961</td>\n",
       "      <td>44.430793</td>\n",
       "      <td>0.048856</td>\n",
       "      <td>0.165422</td>\n",
       "      <td>0.150644</td>\n",
       "      <td>0.397319</td>\n",
       "    </tr>\n",
       "    <tr>\n",
       "      <th>std</th>\n",
       "      <td>13.577167</td>\n",
       "      <td>1.030911e+06</td>\n",
       "      <td>12.487155</td>\n",
       "      <td>115.610808</td>\n",
       "      <td>0.188267</td>\n",
       "      <td>0.273682</td>\n",
       "      <td>0.252876</td>\n",
       "      <td>0.285793</td>\n",
       "    </tr>\n",
       "    <tr>\n",
       "      <th>min</th>\n",
       "      <td>0.000000</td>\n",
       "      <td>1.000000e-02</td>\n",
       "      <td>1.000000</td>\n",
       "      <td>0.000000</td>\n",
       "      <td>-1.000000</td>\n",
       "      <td>0.000000</td>\n",
       "      <td>-1.000000</td>\n",
       "      <td>0.000000</td>\n",
       "    </tr>\n",
       "    <tr>\n",
       "      <th>25%</th>\n",
       "      <td>1.000000</td>\n",
       "      <td>2.000000e+03</td>\n",
       "      <td>30.000000</td>\n",
       "      <td>2.000000</td>\n",
       "      <td>0.000000</td>\n",
       "      <td>0.000000</td>\n",
       "      <td>0.000000</td>\n",
       "      <td>0.155556</td>\n",
       "    </tr>\n",
       "    <tr>\n",
       "      <th>50%</th>\n",
       "      <td>1.000000</td>\n",
       "      <td>5.000000e+03</td>\n",
       "      <td>30.000000</td>\n",
       "      <td>10.000000</td>\n",
       "      <td>0.000000</td>\n",
       "      <td>0.000000</td>\n",
       "      <td>0.100000</td>\n",
       "      <td>0.400000</td>\n",
       "    </tr>\n",
       "    <tr>\n",
       "      <th>75%</th>\n",
       "      <td>1.000000</td>\n",
       "      <td>1.300000e+04</td>\n",
       "      <td>35.000000</td>\n",
       "      <td>35.000000</td>\n",
       "      <td>0.000000</td>\n",
       "      <td>0.333333</td>\n",
       "      <td>0.300000</td>\n",
       "      <td>0.591667</td>\n",
       "    </tr>\n",
       "    <tr>\n",
       "      <th>max</th>\n",
       "      <td>99.000000</td>\n",
       "      <td>1.000000e+08</td>\n",
       "      <td>91.000000</td>\n",
       "      <td>2313.000000</td>\n",
       "      <td>1.000000</td>\n",
       "      <td>1.000000</td>\n",
       "      <td>1.000000</td>\n",
       "      <td>1.000000</td>\n",
       "    </tr>\n",
       "  </tbody>\n",
       "</table>\n",
       "</div>"
      ],
      "text/plain": [
       "              top100          goal      life_days      prep_days  \\\n",
       "count  157658.000000  1.576580e+05  157658.000000  157658.000000   \n",
       "mean        2.726490  3.849370e+04      33.636961      44.430793   \n",
       "std        13.577167  1.030911e+06      12.487155     115.610808   \n",
       "min         0.000000  1.000000e-02       1.000000       0.000000   \n",
       "25%         1.000000  2.000000e+03      30.000000       2.000000   \n",
       "50%         1.000000  5.000000e+03      30.000000      10.000000   \n",
       "75%         1.000000  1.300000e+04      35.000000      35.000000   \n",
       "max        99.000000  1.000000e+08      91.000000    2313.000000   \n",
       "\n",
       "           slug_plor      slug_subj     blurb_plor     blurb_subj  \n",
       "count  157658.000000  157658.000000  157658.000000  157658.000000  \n",
       "mean        0.048856       0.165422       0.150644       0.397319  \n",
       "std         0.188267       0.273682       0.252876       0.285793  \n",
       "min        -1.000000       0.000000      -1.000000       0.000000  \n",
       "25%         0.000000       0.000000       0.000000       0.155556  \n",
       "50%         0.000000       0.000000       0.100000       0.400000  \n",
       "75%         0.000000       0.333333       0.300000       0.591667  \n",
       "max         1.000000       1.000000       1.000000       1.000000  "
      ]
     },
     "execution_count": 22,
     "metadata": {},
     "output_type": "execute_result"
    }
   ],
   "source": [
    "good_data.describe()"
   ]
  },
  {
   "cell_type": "markdown",
   "metadata": {},
   "source": [
    "## Scaling and normalization"
   ]
  },
  {
   "cell_type": "code",
   "execution_count": 23,
   "metadata": {},
   "outputs": [
    {
     "name": "stdout",
     "output_type": "stream",
     "text": [
      "    cbsa  top100    goal   gender category_broad  life_days  prep_days  \\\n",
      "0  31080       1  1000.0     male     publishing         30          6   \n",
      "1  31080       1  1100.0  unknown     publishing         33          1   \n",
      "2  31080       1   900.0     male     publishing         30        160   \n",
      "3  31080       1  7900.0  unknown     publishing         31          3   \n",
      "4  31080       1  7968.0  unknown     publishing         29        336   \n",
      "\n",
      "   slug_plor  slug_subj  blurb_plor  blurb_subj  \n",
      "0        0.0      0.000    0.116667    0.377778  \n",
      "1        0.0      0.000    0.000000    1.000000  \n",
      "2        0.0      0.000    0.233333    0.508333  \n",
      "3        0.0      0.125   -0.100000    0.500000  \n",
      "4        0.0      0.125    0.000000    0.000000  \n",
      "0    1\n",
      "1    1\n",
      "2    1\n",
      "3    0\n",
      "4    0\n",
      "Name: state, dtype: int64\n"
     ]
    }
   ],
   "source": [
    "# split into features and target\n",
    "target = good_data['state'].apply(lambda x: 1 if x == \"successful\" else 0)\n",
    "feature = good_data.drop(['state','slug','blurb','slug_senti','blurb_senti'], axis = 1)\n",
    "\n",
    "print(feature.head())\n",
    "print(target.head())"
   ]
  },
  {
   "cell_type": "code",
   "execution_count": 24,
   "metadata": {},
   "outputs": [],
   "source": [
    "# log data\n",
    "feature[NumCol] = np.log(feature[NumCol]+1.00001)"
   ]
  },
  {
   "cell_type": "code",
   "execution_count": 25,
   "metadata": {},
   "outputs": [],
   "source": [
    "# MinMax Scale\n",
    "from sklearn.preprocessing import MinMaxScaler\n",
    "\n",
    "scaler = MinMaxScaler()\n",
    "feature[NumCol] = scaler.fit_transform(feature[NumCol])\n"
   ]
  },
  {
   "cell_type": "code",
   "execution_count": 27,
   "metadata": {},
   "outputs": [],
   "source": [
    "# pd.plotting.scatter_matrix(feature, alpha = 0.3, figsize = (14,8), diagonal = 'kde');\n",
    "# feature.corr()"
   ]
  },
  {
   "cell_type": "markdown",
   "metadata": {},
   "source": [
    "## One-hot-encoding categorical variables"
   ]
  },
  {
   "cell_type": "code",
   "execution_count": 116,
   "metadata": {},
   "outputs": [
    {
     "name": "stdout",
     "output_type": "stream",
     "text": [
      "<class 'pandas.core.frame.DataFrame'>\n",
      "RangeIndex: 157658 entries, 0 to 157657\n",
      "Data columns (total 18 columns):\n",
      "cbsa                    155192 non-null object\n",
      "goal                    157658 non-null float64\n",
      "category_broad          157658 non-null category\n",
      "life_days               157658 non-null float64\n",
      "prep_days               157658 non-null float64\n",
      "slug_plor               157658 non-null float64\n",
      "slug_subj               157658 non-null float64\n",
      "blurb_plor              157658 non-null float64\n",
      "blurb_subj              157658 non-null float64\n",
      "gender_andy             157658 non-null uint8\n",
      "gender_female           157658 non-null uint8\n",
      "gender_male             157658 non-null uint8\n",
      "gender_mostly_female    157658 non-null uint8\n",
      "gender_mostly_male      157658 non-null uint8\n",
      "gender_unknown          157658 non-null uint8\n",
      "top100_0                157658 non-null uint8\n",
      "top100_1                157658 non-null uint8\n",
      "top100_99               157658 non-null uint8\n",
      "dtypes: category(1), float64(7), object(1), uint8(9)\n",
      "memory usage: 11.1+ MB\n"
     ]
    }
   ],
   "source": [
    "feature_final = pd.get_dummies(feature, columns = CatCol)\n",
    "# feature_final = feature.drop(CatCol, axis = 1)\n",
    "feature_final.info()"
   ]
  },
  {
   "cell_type": "markdown",
   "metadata": {},
   "source": [
    "## Pipeline"
   ]
  },
  {
   "cell_type": "code",
   "execution_count": 117,
   "metadata": {},
   "outputs": [
    {
     "name": "stdout",
     "output_type": "stream",
     "text": [
      "(126126, 16)\n",
      "(31532, 16)\n"
     ]
    }
   ],
   "source": [
    "# split train-test\n",
    "from sklearn.model_selection import train_test_split\n",
    "\n",
    "feature_final = feature_final.drop(['cbsa'],axis = 1)\n",
    "feature_final = feature_final.drop(['category_broad'],axis = 1)\n",
    "\n",
    "\n",
    "X_train, X_test, y_train, y_test = train_test_split(feature_final,\n",
    "                                                   target, \n",
    "                                                   test_size = 0.2,\n",
    "                                                   random_state = 23)\n",
    "print(X_train.shape)\n",
    "print(X_test.shape)"
   ]
  },
  {
   "cell_type": "code",
   "execution_count": 90,
   "metadata": {},
   "outputs": [],
   "source": [
    "from sklearn.metrics import fbeta_score, accuracy_score\n",
    "from time import time\n",
    "\n",
    "def train_predict(learner, sample_size, X_train, y_train, X_test, y_test):\n",
    "    results = {}\n",
    "    \n",
    "    # training\n",
    "    start = time()\n",
    "    learner = learner.fit(X_train[:sample_size], y_train[:sample_size])\n",
    "    end = time()\n",
    "    \n",
    "    results['train_time'] = end - start\n",
    "    \n",
    "    # prediction\n",
    "    \n",
    "    start = time()\n",
    "    predictions_test = learner.predict(X_test)\n",
    "    predictions_train = learner.predict(X_train[:300])\n",
    "    end = time()\n",
    "    \n",
    "    results['pred_time'] = end - start\n",
    "    \n",
    "    results['acc_train'] = accuracy_score(y_train[:300],predictions_train)\n",
    "    results['acc_test'] = accuracy_score(y_test, predictions_test)\n",
    "    \n",
    "    results['f_train'] = fbeta_score(y_train[:300], predictions_train,0.5)\n",
    "    results['f_test'] = fbeta_score(y_test, predictions_test, 0.5)\n",
    "    \n",
    "    print(\"{} trained on {} samples. \".format(learner.__class__.__name__, sample_size))\n",
    "\n",
    "    return results"
   ]
  },
  {
   "cell_type": "code",
   "execution_count": 91,
   "metadata": {},
   "outputs": [
    {
     "name": "stdout",
     "output_type": "stream",
     "text": [
      "Naive Predictor: accuracy: 0.5259, F:0.5810\n"
     ]
    }
   ],
   "source": [
    "# naive score\n",
    "precision = accuracy = np.sum(target)/len(target)\n",
    "\n",
    "recall = 1\n",
    "fscore = (1+0.25)*precision*recall/(0.25*precision+recall)\n",
    "\n",
    "print(\"Naive Predictor: accuracy: {:.4f}, F:{:.4f}\".format(accuracy, fscore))"
   ]
  },
  {
   "cell_type": "markdown",
   "metadata": {},
   "source": [
    "### Training!"
   ]
  },
  {
   "cell_type": "code",
   "execution_count": 92,
   "metadata": {},
   "outputs": [
    {
     "name": "stdout",
     "output_type": "stream",
     "text": [
      "LogisticRegression trained on 1261 samples. \n",
      "LogisticRegression trained on 12612 samples. \n",
      "LogisticRegression trained on 126126 samples. \n",
      "RandomForestClassifier trained on 1261 samples. \n",
      "RandomForestClassifier trained on 12612 samples. \n",
      "RandomForestClassifier trained on 126126 samples. \n",
      "LinearDiscriminantAnalysis trained on 1261 samples. \n",
      "LinearDiscriminantAnalysis trained on 12612 samples. \n",
      "LinearDiscriminantAnalysis trained on 126126 samples. \n"
     ]
    }
   ],
   "source": [
    "# from sklearn.svm import SVC\n",
    "from sklearn.linear_model import LogisticRegression\n",
    "from sklearn.ensemble import RandomForestClassifier\n",
    "from sklearn.discriminant_analysis import LinearDiscriminantAnalysis\n",
    "\n",
    "\n",
    "import visuals as vs\n",
    "\n",
    "# clf_S = SVC(random_state = 2)\n",
    "clf_Logit = LogisticRegression(random_state = 25)\n",
    "clf_RF = RandomForestClassifier(random_state = 23)\n",
    "clf_LDA = LinearDiscriminantAnalysis(n_components = 5)\n",
    "\n",
    "samples_100 = len(y_train)\n",
    "samples_10 = int(0.1*samples_100)\n",
    "samples_1 = int(0.01*samples_100)\n",
    "\n",
    "results = {}\n",
    "for clf in [clf_Logit, clf_RF, clf_LDA]:\n",
    "    clf_name = clf.__class__.__name__\n",
    "    results[clf_name] = {}\n",
    "    for i, samples in enumerate([samples_1,samples_10, samples_100]):\n",
    "        results[clf_name][i] = train_predict(clf, samples, X_train, y_train, X_test, y_test)\n"
   ]
  },
  {
   "cell_type": "code",
   "execution_count": 93,
   "metadata": {},
   "outputs": [
    {
     "data": {
      "image/png": "[encoded data removed]",
      "text/plain": [
       "<Figure size 792x504 with 6 Axes>"
      ]
     },
     "metadata": {},
     "output_type": "display_data"
    }
   ],
   "source": [
    "vs.evaluate(results, accuracy, fscore)\n",
    "# results"
   ]
  },
  {
   "cell_type": "markdown",
   "metadata": {},
   "source": [
    "### Tuning"
   ]
  },
  {
   "cell_type": "code",
   "execution_count": 96,
   "metadata": {},
   "outputs": [
    {
     "name": "stdout",
     "output_type": "stream",
     "text": [
      "untuned accuracy:0.6247\n",
      "optimized accuracy:0.6247\n",
      "untuned accuracy:0.6426\n",
      "optimized accuracy:0.6426\n"
     ]
    }
   ],
   "source": [
    "# LDA Regression\n",
    "from sklearn.model_selection  import GridSearchCV\n",
    "from sklearn.metrics import make_scorer\n",
    "\n",
    "clf = LinearDiscriminantAnalysis()\n",
    "\n",
    "parameters = {'n_components':[2,5,10,15,20,25],\n",
    "             'solver':['svd','lsqr','eigen']}\n",
    "\n",
    "scorer = make_scorer(fbeta_score, beta = 0.5)\n",
    "grid_obj = GridSearchCV(clf, parameters, scorer)\n",
    "\n",
    "grid_fit = grid_obj.fit(X_train, y_train)\n",
    "\n",
    "best_clf = grid_fit.best_estimator_\n",
    "\n",
    "predictions = (clf.fit(X_train, y_train)).predict(X_test)\n",
    "best_predictions = best_clf.predict(X_test)\n",
    "\n",
    "print(\"untuned accuracy:{:.4f}\".format(accuracy_score(y_test, predictions)))\n",
    "print(\"optimized accuracy:{:.4f}\".format(accuracy_score(y_test, best_predictions)))\n",
    "\n",
    "print(\"untuned accuracy:{:.4f}\".format(fbeta_score(y_test, predictions, beta = 0.5)))\n",
    "print(\"optimized accuracy:{:.4f}\".format(fbeta_score(y_test, best_predictions, beta = 0.5)))\n"
   ]
  },
  {
   "cell_type": "code",
   "execution_count": 139,
   "metadata": {},
   "outputs": [
    {
     "name": "stdout",
     "output_type": "stream",
     "text": [
      "untuned accuracy:0.6329\n",
      "optimized accuracy:0.6328\n",
      "untuned accuracy:0.6498\n",
      "optimized accuracy:0.6498\n"
     ]
    }
   ],
   "source": [
    "# Logistic Regression\n",
    "from sklearn.model_selection  import GridSearchCV\n",
    "from sklearn.metrics import make_scorer\n",
    "\n",
    "\n",
    "clf = LogisticRegression(random_state=5)\n",
    "\n",
    "parameters = {'C':[1,10,100,1000,100000,1000000],\n",
    "             'tol':[0.0001,0.001,0.01,0.1]}\n",
    "\n",
    "scorer = make_scorer(fbeta_score, beta = 0.5)\n",
    "grid_obj = GridSearchCV(clf, parameters, scorer)\n",
    "\n",
    "grid_fit = grid_obj.fit(X_train, y_train)\n",
    "\n",
    "best_clf = grid_fit.best_estimator_\n",
    "\n",
    "predictions = (clf.fit(X_train, y_train)).predict(X_test)\n",
    "best_predictions = best_clf.predict(X_test)\n",
    "\n",
    "print(\"untuned accuracy:{:.4f}\".format(accuracy_score(y_test, predictions)))\n",
    "print(\"optimized accuracy:{:.4f}\".format(accuracy_score(y_test, best_predictions)))\n",
    "\n",
    "print(\"untuned accuracy:{:.4f}\".format(fbeta_score(y_test, predictions, beta = 0.5)))\n",
    "print(\"optimized accuracy:{:.4f}\".format(fbeta_score(y_test, best_predictions, beta = 0.5)))\n"
   ]
  },
  {
   "cell_type": "code",
   "execution_count": 265,
   "metadata": {},
   "outputs": [],
   "source": [
    "importances = best_clf.coef_"
   ]
  },
  {
   "cell_type": "code",
   "execution_count": 267,
   "metadata": {},
   "outputs": [
    {
     "data": {
      "image/png": "[encoded data removed]",
      "text/plain": [
       "<Figure size 1152x360 with 1 Axes>"
      ]
     },
     "metadata": {},
     "output_type": "display_data"
    }
   ],
   "source": [
    "columns = X_train.columns.values\n",
    "values = importances[0]\n",
    "\n",
    "fig = plt.figure(figsize = (16,5))\n",
    "plt.bar(np.arange(16), values, width = 0.6, align=\"center\")\n",
    "plt.xticks(np.arange(16), columns)\n",
    "plt.tight_layout()\n",
    "plt.show()  "
   ]
  },
  {
   "cell_type": "markdown",
   "metadata": {},
   "source": [
    "## Feature Importance"
   ]
  },
  {
   "cell_type": "code",
   "execution_count": 222,
   "metadata": {},
   "outputs": [
    {
     "data": {
      "image/png": "[encoded data removed]",
      "text/plain": [
       "<Figure size 648x360 with 1 Axes>"
      ]
     },
     "metadata": {},
     "output_type": "display_data"
    }
   ],
   "source": [
    "model = RandomForestClassifier(random_state = 40).fit(X_train, y_train)\n",
    "importances = model.feature_importances_\n",
    "\n",
    "vs.feature_plot(importances, X_train, y_train)\n",
    "# importances"
   ]
  },
  {
   "cell_type": "code",
   "execution_count": 83,
   "metadata": {},
   "outputs": [
    {
     "data": {
      "text/plain": [
       "array([ 0.22036194,  0.12805452,  0.19036846,  0.04632061,  0.05114044,\n",
       "        0.15891518,  0.15627844,  0.00219488,  0.00732208,  0.00823947,\n",
       "        0.0049243 ,  0.00475223,  0.0084347 ,  0.00478947,  0.00535252,\n",
       "        0.00255078])"
      ]
     },
     "execution_count": 83,
     "metadata": {},
     "output_type": "execute_result"
    }
   ],
   "source": [
    "importances"
   ]
  },
  {
   "cell_type": "code",
   "execution_count": null,
   "metadata": {},
   "outputs": [],
   "source": [
    "# TODO\n",
    "# CNN?\n",
    "# categories?\n"
   ]
  },
  {
   "cell_type": "markdown",
   "metadata": {},
   "source": [
    "## CNN"
   ]
  },
  {
   "cell_type": "code",
   "execution_count": 118,
   "metadata": {},
   "outputs": [
    {
     "name": "stdout",
     "output_type": "stream",
     "text": [
      "[[ 0.54950108  0.71587766  0.          0.93163285  0.51326042  0.93474698\n",
      "   0.52788863  0.          0.          1.          0.          0.          0.\n",
      "   1.          0.          0.        ]\n",
      " [ 0.71221575  0.71587766  0.30953556  0.96149454  0.41503689  0.95286281\n",
      "   0.16992462  0.          0.          0.          0.          1.          0.\n",
      "   0.          1.          0.        ]\n",
      " [ 0.46209125  0.76905557  0.          0.94321336  0.          0.96626827\n",
      "   0.70781876  0.          1.          0.          0.          0.          0.\n",
      "   0.          1.          0.        ]\n",
      " [ 0.40351551  0.71587766  0.33110002  0.94321336  0.          0.96678191\n",
      "   0.64769771  0.          0.          0.          0.          0.          1.\n",
      "   0.          1.          0.        ]\n",
      " [ 0.46209125  0.89267337  0.08947554  0.94321336  0.          0.94321336\n",
      "   0.          0.          0.          0.          0.          0.          1.\n",
      "   0.          1.          0.        ]\n",
      " [ 0.49973493  0.89267337  0.29723228  0.94321336  0.          0.96549171\n",
      "   0.41503689  0.          0.          0.          1.          0.          0.\n",
      "   0.          1.          0.        ]\n",
      " [ 0.52139314  0.7073133   0.67663929  0.94321336  0.          0.94321336\n",
      "   0.          0.          0.          0.          0.          0.          1.\n",
      "   0.          1.          0.        ]\n",
      " [ 0.58142644  0.71587766  0.26842741  0.94321336  0.          0.94321336\n",
      "   0.          0.          0.          0.          0.          0.          1.\n",
      "   1.          0.          0.        ]\n",
      " [ 0.48036404  0.71587766  0.59575006  0.95368619  0.54056777  0.95368619\n",
      "   0.54056777  1.          0.          0.          0.          0.          0.\n",
      "   0.          1.          0.        ]\n",
      " [ 0.64825025  0.88835609  0.17895139  0.9013638   0.48542621  0.97540085\n",
      "   0.65535129  0.          0.          1.          0.          0.          0.\n",
      "   1.          0.          0.        ]]\n",
      "[[1 0]\n",
      " [1 0]\n",
      " [1 0]\n",
      " [1 0]\n",
      " [0 1]\n",
      " [0 1]\n",
      " [1 0]\n",
      " [1 0]\n",
      " [1 0]\n",
      " [1 0]]\n"
     ]
    }
   ],
   "source": [
    "import keras\n",
    "\n",
    "# Separate data and one-hot encode the output\n",
    "# Note: We're also turning the data into numpy arrays, in order to train the model in Keras\n",
    "features = np.array(X_train)\n",
    "targets = np.array(pd.get_dummies(y_train))\n",
    "features_test = np.array(X_test)\n",
    "targets_test = np.array(pd.get_dummies(y_test))\n",
    "\n",
    "print(features[:10])\n",
    "print(targets[:10])"
   ]
  },
  {
   "cell_type": "code",
   "execution_count": 136,
   "metadata": {},
   "outputs": [
    {
     "name": "stdout",
     "output_type": "stream",
     "text": [
      "_________________________________________________________________\n",
      "Layer (type)                 Output Shape              Param #   \n",
      "=================================================================\n",
      "dense_37 (Dense)             (None, 128)               2176      \n",
      "_________________________________________________________________\n",
      "dropout_25 (Dropout)         (None, 128)               0         \n",
      "_________________________________________________________________\n",
      "dense_38 (Dense)             (None, 64)                8256      \n",
      "_________________________________________________________________\n",
      "dropout_26 (Dropout)         (None, 64)                0         \n",
      "_________________________________________________________________\n",
      "dense_39 (Dense)             (None, 2)                 130       \n",
      "=================================================================\n",
      "Total params: 10,562\n",
      "Trainable params: 10,562\n",
      "Non-trainable params: 0\n",
      "_________________________________________________________________\n"
     ]
    }
   ],
   "source": [
    "# Imports\n",
    "\n",
    "from keras.models import Sequential\n",
    "from keras.layers.core import Dense, Dropout, Activation\n",
    "from keras.optimizers import SGD\n",
    "from keras.utils import np_utils\n",
    "\n",
    "# Building the model\n",
    "model = Sequential()\n",
    "model.add(Dense(128, activation='relu', input_shape=(16,)))\n",
    "model.add(Dropout(.2))\n",
    "model.add(Dense(64, activation='relu'))\n",
    "model.add(Dropout(.1))\n",
    "model.add(Dense(2, activation='sigmoid'))\n",
    "\n",
    "# Compiling the model\n",
    "model.compile(loss = 'categorical_crossentropy', optimizer='rmsprop', metrics=['accuracy'])\n",
    "model.summary()"
   ]
  },
  {
   "cell_type": "code",
   "execution_count": 134,
   "metadata": {},
   "outputs": [
    {
     "data": {
      "text/plain": [
       "<keras.callbacks.History at 0x1a3a8efe48>"
      ]
     },
     "execution_count": 134,
     "metadata": {},
     "output_type": "execute_result"
    }
   ],
   "source": [
    "# Training the model\n",
    "model.fit(features, targets, epochs=100, batch_size=500, verbose=0)"
   ]
  },
  {
   "cell_type": "code",
   "execution_count": 135,
   "metadata": {},
   "outputs": [
    {
     "name": "stdout",
     "output_type": "stream",
     "text": [
      "126126/126126 [==============================] - 12s 91us/step\n",
      "\n",
      " Training Accuracy: 0.643095000238\n",
      "31532/31532 [==============================] - 3s 84us/step\n",
      "\n",
      " Testing Accuracy: 0.646327540284\n"
     ]
    }
   ],
   "source": [
    "# Evaluating the model on the training and testing set\n",
    "score = model.evaluate(features, targets)\n",
    "print(\"\\n Training Accuracy:\", score[1])\n",
    "score = model.evaluate(features_test, targets_test)\n",
    "print(\"\\n Testing Accuracy:\", score[1])"
   ]
  },
  {
   "cell_type": "markdown",
   "metadata": {},
   "source": [
    "## SANDBOX"
   ]
  },
  {
   "cell_type": "code",
   "execution_count": 3,
   "metadata": {},
   "outputs": [],
   "source": [
    "# SpaCy for structure analysis\n",
    "import spacy \n",
    "from spacy import displacy\n",
    "import difflib\n",
    "\n",
    "EN = spacy.load(\"en\")\n",
    "nlp = spacy.load('en_core_web_sm')"
   ]
  },
  {
   "cell_type": "code",
   "execution_count": 35,
   "metadata": {},
   "outputs": [
    {
     "data": {
      "text/plain": [
       "699                                        hotel-chicamauga\n",
       "72401                          hearts-and-daggers-new-album\n",
       "153857    help-kickstart-welcome-to-limericks-debut-ep-a...\n",
       "149150    got-emissions-275-inch-x-9-inch-vinyl-bumper-s...\n",
       "76986                                     the-warped-vinyls\n",
       "Name: slug, dtype: object"
      ]
     },
     "execution_count": 35,
     "metadata": {},
     "output_type": "execute_result"
    }
   ],
   "source": [
    "# test tokens\n",
    "data.slug.sample(5)"
   ]
  },
  {
   "cell_type": "code",
   "execution_count": 39,
   "metadata": {},
   "outputs": [
    {
     "data": {
      "text/plain": [
       "'chasing-gold-lined-storms'"
      ]
     },
     "execution_count": 39,
     "metadata": {},
     "output_type": "execute_result"
    }
   ],
   "source": [
    "slugs = [slug for slug in data['slug']]\n",
    "slugs[1]"
   ]
  },
  {
   "cell_type": "code",
   "execution_count": 90,
   "metadata": {},
   "outputs": [],
   "source": [
    "def tokenize_text(docs, logging=False):\n",
    "    texts = []\n",
    "    counter = 1\n",
    "    for doc in docs:\n",
    "        if counter % 1000 == 0 and logging:\n",
    "            print(\"Processed %d out of %d slugs.\" % (counter, len(docs)))\n",
    "        counter += 1\n",
    "        doc = nlp(doc, disable=['parser', 'ner'])\n",
    "        tokens = [tok.pos_ for tok in doc]\n",
    "        tokens = ' '.join(tokens)\n",
    "        texts.append(tokens)\n",
    "    return pd.Series(texts)"
   ]
  },
  {
   "cell_type": "code",
   "execution_count": 96,
   "metadata": {},
   "outputs": [],
   "source": [
    "# tokenize all slugs.\n",
    "\n",
    "slugs_tokenize = tokenize_text(slugs, True)"
   ]
  },
  {
   "cell_type": "code",
   "execution_count": 40,
   "metadata": {},
   "outputs": [
    {
     "data": {
      "text/plain": [
       "'VERB PUNCT NOUN PUNCT VERB PUNCT NOUN'"
      ]
     },
     "execution_count": 40,
     "metadata": {},
     "output_type": "execute_result"
    }
   ],
   "source": [
    "# slugs_tokenize.to_pickle(\"slugs_tokenize\")\n",
    "slugs_tokenize = pd.read_pickle(\"slugs_tokenize\")\n",
    "slugs_tokenize[1]\n"
   ]
  },
  {
   "cell_type": "code",
   "execution_count": 4,
   "metadata": {},
   "outputs": [
    {
     "data": {
      "text/plain": [
       "0.6216216216216216"
      ]
     },
     "execution_count": 4,
     "metadata": {},
     "output_type": "execute_result"
    }
   ],
   "source": [
    "# difference in length and structure sequence\n",
    "difflib.SequenceMatcher(None,slugs_tokenize[10],slugs_tokenize[2]).ratio()\n"
   ]
  },
  {
   "cell_type": "markdown",
   "metadata": {},
   "source": [
    "### Select a random sample randomly to train the classifier\n",
    "Pair-wise similarity matrix for the headlines"
   ]
  },
  {
   "cell_type": "code",
   "execution_count": 23,
   "metadata": {},
   "outputs": [],
   "source": [
    "# 1000 training set\n",
    "np.random.seed(10)\n",
    "sample_size = 1000\n",
    "sample_index = np.random.randint(0, len(slugs_tokenize), sample_size)\n",
    "m = np.zeros((sample_size,sample_size))\n",
    "\n",
    "for i, slug_x in enumerate(slugs_tokenize[sample_index]):\n",
    "    for j, slug_y in enumerate(slug_x):\n",
    "        m[i][j] = difflib.SequenceMatcher(None,slug_x,slug_y).ratio()"
   ]
  },
  {
   "cell_type": "code",
   "execution_count": 24,
   "metadata": {},
   "outputs": [
    {
     "data": {
      "text/plain": [
       "(1000, 1000)"
      ]
     },
     "execution_count": 24,
     "metadata": {},
     "output_type": "execute_result"
    }
   ],
   "source": [
    "m.shape"
   ]
  },
  {
   "cell_type": "markdown",
   "metadata": {},
   "source": [
    "use tSNE to reduce the dimensionality of similarity matrix from 1000 down to 2:"
   ]
  },
  {
   "cell_type": "code",
   "execution_count": 25,
   "metadata": {},
   "outputs": [],
   "source": [
    "from sklearn.manifold import TSNE\n",
    "tsne_model = TSNE(n_components=2, verbose=1, random_state=0)"
   ]
  },
  {
   "cell_type": "code",
   "execution_count": 26,
   "metadata": {},
   "outputs": [
    {
     "name": "stdout",
     "output_type": "stream",
     "text": [
      "[t-SNE] Computing 91 nearest neighbors...\n",
      "[t-SNE] Indexed 1000 samples in 0.028s...\n",
      "[t-SNE] Computed neighbors for 1000 samples in 0.653s...\n",
      "[t-SNE] Computed conditional probabilities for sample 1000 / 1000\n",
      "[t-SNE] Mean sigma: 0.000000\n",
      "[t-SNE] KL divergence after 250 iterations with early exaggeration: 40.082664\n",
      "[t-SNE] Error after 1000 iterations: 0.087015\n"
     ]
    }
   ],
   "source": [
    "tsne = tsne_model.fit_transform(m)"
   ]
  },
  {
   "cell_type": "code",
   "execution_count": 27,
   "metadata": {},
   "outputs": [],
   "source": [
    "from sklearn.cluster import MiniBatchKMeans\n",
    "\n",
    "kmeans_model = MiniBatchKMeans(n_clusters=5, init='k-means++', n_init=1, \n",
    "                         init_size=1000, batch_size=1000, verbose=False, max_iter=1000)\n",
    "kmeans = kmeans_model.fit(m)\n",
    "kmeans_clusters = kmeans.predict(m)\n",
    "kmeans_distances = kmeans.transform(m)"
   ]
  },
  {
   "cell_type": "code",
   "execution_count": 28,
   "metadata": {
    "scrolled": true
   },
   "outputs": [
    {
     "data": {
      "text/plain": [
       "<matplotlib.collections.PathCollection at 0x1a24393160>"
      ]
     },
     "execution_count": 28,
     "metadata": {},
     "output_type": "execute_result"
    },
    {
     "data": {
      "image/png": "[encoded data removed]",
      "text/plain": [
       "<matplotlib.figure.Figure at 0x1a1cc06e48>"
      ]
     },
     "metadata": {},
     "output_type": "display_data"
    }
   ],
   "source": [
    "plt.figure(figsize=(12,10))\n",
    "\n",
    "plt.scatter(tsne[:, 0], tsne[:, 1], c=kmeans_clusters, s=50, cmap='viridis' ,alpha =0.5)\n",
    "centers = kmeans.cluster_centers_\n",
    "plt.scatter(centers[:, 0], centers[:, 1], c='red', s=200,  alpha=0.5)\n"
   ]
  }
 ],
 "metadata": {
  "kernelspec": {
   "display_name": "Python 3",
   "language": "python",
   "name": "python3"
  },
  "language_info": {
   "codemirror_mode": {
    "name": "ipython",
    "version": 3
   },
   "file_extension": ".py",
   "mimetype": "text/x-python",
   "name": "python",
   "nbconvert_exporter": "python",
   "pygments_lexer": "ipython3",
   "version": "3.5.5"
  }
 },
 "nbformat": 4,
 "nbformat_minor": 2
}
