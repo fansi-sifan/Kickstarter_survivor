{
 "cells": [
  {
   "cell_type": "markdown",
   "metadata": {},
   "source": [
    "# Machine Learning"
   ]
  },
  {
   "cell_type": "markdown",
   "metadata": {},
   "source": [
    "## Set up"
   ]
  },
  {
   "cell_type": "code",
   "execution_count": 2,
   "metadata": {},
   "outputs": [],
   "source": [
    "import pandas as pd\n",
    "import numpy as np\n",
    "import seaborn as sns\n",
    "import matplotlib.pyplot as plt\n",
    "%matplotlib inline"
   ]
  },
  {
   "cell_type": "code",
   "execution_count": 2,
   "metadata": {},
   "outputs": [
    {
     "data": {
      "text/html": [
       "<div>\n",
       "<style scoped>\n",
       "    .dataframe tbody tr th:only-of-type {\n",
       "        vertical-align: middle;\n",
       "    }\n",
       "\n",
       "    .dataframe tbody tr th {\n",
       "        vertical-align: top;\n",
       "    }\n",
       "\n",
       "    .dataframe thead th {\n",
       "        text-align: right;\n",
       "    }\n",
       "</style>\n",
       "<table border=\"1\" class=\"dataframe\">\n",
       "  <thead>\n",
       "    <tr style=\"text-align: right;\">\n",
       "      <th></th>\n",
       "      <th>backers_count</th>\n",
       "      <th>goal</th>\n",
       "      <th>pledged</th>\n",
       "      <th>life</th>\n",
       "      <th>duration</th>\n",
       "      <th>prep</th>\n",
       "    </tr>\n",
       "  </thead>\n",
       "  <tbody>\n",
       "    <tr>\n",
       "      <th>count</th>\n",
       "      <td>321706.000000</td>\n",
       "      <td>3.217060e+05</td>\n",
       "      <td>3.217060e+05</td>\n",
       "      <td>321706</td>\n",
       "      <td>321706</td>\n",
       "      <td>321706</td>\n",
       "    </tr>\n",
       "    <tr>\n",
       "      <th>mean</th>\n",
       "      <td>133.651999</td>\n",
       "      <td>4.480449e+04</td>\n",
       "      <td>1.204134e+04</td>\n",
       "      <td>33 days 23:14:38.298614</td>\n",
       "      <td>31 days 14:24:38.233132</td>\n",
       "      <td>43 days 03:14:40.443205</td>\n",
       "    </tr>\n",
       "    <tr>\n",
       "      <th>std</th>\n",
       "      <td>1016.287065</td>\n",
       "      <td>1.132613e+06</td>\n",
       "      <td>1.218443e+05</td>\n",
       "      <td>12 days 18:40:51.197709</td>\n",
       "      <td>14 days 11:46:25.057715</td>\n",
       "      <td>111 days 18:40:51.602311</td>\n",
       "    </tr>\n",
       "    <tr>\n",
       "      <th>min</th>\n",
       "      <td>0.000000</td>\n",
       "      <td>1.000000e-02</td>\n",
       "      <td>0.000000e+00</td>\n",
       "      <td>1 days 00:00:00</td>\n",
       "      <td>-1 days +23:17:57</td>\n",
       "      <td>0 days 00:01:41</td>\n",
       "    </tr>\n",
       "    <tr>\n",
       "      <th>25%</th>\n",
       "      <td>2.000000</td>\n",
       "      <td>2.000000e+03</td>\n",
       "      <td>6.000000e+01</td>\n",
       "      <td>30 days 00:00:00</td>\n",
       "      <td>28 days 13:19:39</td>\n",
       "      <td>2 days 18:20:33</td>\n",
       "    </tr>\n",
       "    <tr>\n",
       "      <th>50%</th>\n",
       "      <td>21.000000</td>\n",
       "      <td>5.000000e+03</td>\n",
       "      <td>1.176000e+03</td>\n",
       "      <td>30 days 00:00:00</td>\n",
       "      <td>30 days 00:00:01</td>\n",
       "      <td>10 days 03:27:52</td>\n",
       "    </tr>\n",
       "    <tr>\n",
       "      <th>75%</th>\n",
       "      <td>77.000000</td>\n",
       "      <td>1.500000e+04</td>\n",
       "      <td>5.715000e+03</td>\n",
       "      <td>36 days 03:17:57</td>\n",
       "      <td>35 days 00:00:00</td>\n",
       "      <td>34 days 03:13:45</td>\n",
       "    </tr>\n",
       "    <tr>\n",
       "      <th>max</th>\n",
       "      <td>219382.000000</td>\n",
       "      <td>1.000000e+08</td>\n",
       "      <td>2.902191e+07</td>\n",
       "      <td>91 days 23:00:00</td>\n",
       "      <td>354 days 19:06:23</td>\n",
       "      <td>2313 days 16:40:37</td>\n",
       "    </tr>\n",
       "  </tbody>\n",
       "</table>\n",
       "</div>"
      ],
      "text/plain": [
       "       backers_count          goal       pledged                     life  \\\n",
       "count  321706.000000  3.217060e+05  3.217060e+05                   321706   \n",
       "mean      133.651999  4.480449e+04  1.204134e+04  33 days 23:14:38.298614   \n",
       "std      1016.287065  1.132613e+06  1.218443e+05  12 days 18:40:51.197709   \n",
       "min         0.000000  1.000000e-02  0.000000e+00          1 days 00:00:00   \n",
       "25%         2.000000  2.000000e+03  6.000000e+01         30 days 00:00:00   \n",
       "50%        21.000000  5.000000e+03  1.176000e+03         30 days 00:00:00   \n",
       "75%        77.000000  1.500000e+04  5.715000e+03         36 days 03:17:57   \n",
       "max    219382.000000  1.000000e+08  2.902191e+07         91 days 23:00:00   \n",
       "\n",
       "                      duration                      prep  \n",
       "count                   321706                    321706  \n",
       "mean   31 days 14:24:38.233132   43 days 03:14:40.443205  \n",
       "std    14 days 11:46:25.057715  111 days 18:40:51.602311  \n",
       "min          -1 days +23:17:57           0 days 00:01:41  \n",
       "25%           28 days 13:19:39           2 days 18:20:33  \n",
       "50%           30 days 00:00:01          10 days 03:27:52  \n",
       "75%           35 days 00:00:00          34 days 03:13:45  \n",
       "max          354 days 19:06:23        2313 days 16:40:37  "
      ]
     },
     "execution_count": 2,
     "metadata": {},
     "output_type": "execute_result"
    }
   ],
   "source": [
    "# load data\n",
    "df = pd.read_pickle(\"sample\")\n",
    "# show numerical values\n",
    "df.describe()"
   ]
  },
  {
   "cell_type": "code",
   "execution_count": 6,
   "metadata": {},
   "outputs": [],
   "source": [
    "# convert duration data to seconds\n",
    "df['life_days'] = df['life'].dt.days\n",
    "df['prep_days'] = df['prep'].dt.days\n",
    "df['launch_month'] = df['launched_at'].dt.month.astype('category')\n",
    "# df['top100'] = df['top100'].fillna(99).astype(int)"
   ]
  },
  {
   "cell_type": "code",
   "execution_count": 7,
   "metadata": {},
   "outputs": [
    {
     "name": "stdout",
     "output_type": "stream",
     "text": [
      "<class 'pandas.core.frame.DataFrame'>\n",
      "RangeIndex: 241717 entries, 0 to 241716\n",
      "Data columns (total 9 columns):\n",
      "goal              241717 non-null float64\n",
      "gender            241717 non-null object\n",
      "category_broad    241717 non-null category\n",
      "state             241717 non-null category\n",
      "slug              241717 non-null object\n",
      "blurb             241714 non-null object\n",
      "life_days         241717 non-null int64\n",
      "prep_days         241717 non-null int64\n",
      "launch_month      241717 non-null category\n",
      "dtypes: category(3), float64(1), int64(2), object(3)\n",
      "memory usage: 11.8+ MB\n"
     ]
    }
   ],
   "source": [
    "# keep only successful / fail projects\n",
    "# keep only US projects\n",
    "data = df[(df.location_country ==\"US\") & ((df.state == \"successful\")|(df.state == \"failed\"))].reset_index(drop = True)\n",
    "\n",
    "# keep only numerical/categorical variables\n",
    "DropCol = ['location_country','location_state','location_localized_name','location_name','creator_name',\n",
    "      'category_name','launched_at','deadline','state_changed_at','life','duration','prep','pledged','backers_count']\n",
    "\n",
    "data = data.drop(DropCol,axis=1)\n",
    "data.info()"
   ]
  },
  {
   "cell_type": "markdown",
   "metadata": {},
   "source": [
    "## Text Analysis \n",
    "### Structure analysis of headline\n",
    "Reference: http://nbviewer.jupyter.org/github/AYLIEN/headline_analysis/blob/06f1223012d285412a650c201a19a1c95859dca1/main-chunks.ipynb#A-primer-on-parse-trees"
   ]
  },
  {
   "cell_type": "markdown",
   "metadata": {},
   "source": [
    "### Sentiment analysis"
   ]
  },
  {
   "cell_type": "code",
   "execution_count": 8,
   "metadata": {},
   "outputs": [
    {
     "name": "stdout",
     "output_type": "stream",
     "text": [
      "215491                   brandon-schotts-crayons-and-angels\n",
      "5904                                  the-skin-i-wish-i-had\n",
      "13347             creator-kits-the-next-step-in-3d-printing\n",
      "53200     dance-aegis-warning-this-piece-contains-dark-t...\n",
      "240513                          puzzle-stones-needs-porting\n",
      "Name: slug, dtype: object\n",
      "Last year, I completed my first novel, The Circumstance of Marriage. Now I need your help to get an editor to get it published!\n"
     ]
    }
   ],
   "source": [
    "print(data.slug.sample(5))\n",
    "print(data.blurb[5])"
   ]
  },
  {
   "cell_type": "code",
   "execution_count": 9,
   "metadata": {},
   "outputs": [
    {
     "data": {
      "text/plain": [
       "Sentiment(polarity=0.15625, subjectivity=0.19999999999999998)"
      ]
     },
     "execution_count": 9,
     "metadata": {},
     "output_type": "execute_result"
    }
   ],
   "source": [
    "from textblob import TextBlob\n",
    "\n",
    "def sentiment_calc(text):\n",
    "    try:\n",
    "        return TextBlob(text).sentiment\n",
    "    except:\n",
    "        return None\n",
    "\n",
    "# test\n",
    "sentiment_calc(data['blurb'][5])"
   ]
  },
  {
   "cell_type": "code",
   "execution_count": 10,
   "metadata": {},
   "outputs": [
    {
     "data": {
      "text/plain": [
       "36678     mother urbans food truck bluesky organic farm\n",
       "110263           happy hands childrens handwashing song\n",
       "141741                               feed your stepdads\n",
       "66856              diep9 genever reviving a lost spirit\n",
       "140657          greg louganis documentary back on board\n",
       "Name: slug, dtype: object"
      ]
     },
     "execution_count": 10,
     "metadata": {},
     "output_type": "execute_result"
    }
   ],
   "source": [
    "data['slug'] = data['slug'].str.replace('-',' ')\n",
    "data.slug.sample(5)"
   ]
  },
  {
   "cell_type": "code",
   "execution_count": 11,
   "metadata": {},
   "outputs": [],
   "source": [
    "data['slug_senti'] =  data['slug'].apply(sentiment_calc)\n",
    "data[['slug_plor','slug_subj']] = data['slug_senti'].apply(pd.Series)\n",
    "\n",
    "data['blurb_senti'] =  data['blurb'].apply(sentiment_calc)\n",
    "data[['blurb_plor','blurb_subj']] = data['blurb_senti'].apply(pd.Series)"
   ]
  },
  {
   "cell_type": "code",
   "execution_count": 12,
   "metadata": {},
   "outputs": [
    {
     "data": {
      "text/html": [
       "<div>\n",
       "<style scoped>\n",
       "    .dataframe tbody tr th:only-of-type {\n",
       "        vertical-align: middle;\n",
       "    }\n",
       "\n",
       "    .dataframe tbody tr th {\n",
       "        vertical-align: top;\n",
       "    }\n",
       "\n",
       "    .dataframe thead th {\n",
       "        text-align: right;\n",
       "    }\n",
       "</style>\n",
       "<table border=\"1\" class=\"dataframe\">\n",
       "  <thead>\n",
       "    <tr style=\"text-align: right;\">\n",
       "      <th></th>\n",
       "      <th>goal</th>\n",
       "      <th>gender</th>\n",
       "      <th>category_broad</th>\n",
       "      <th>state</th>\n",
       "      <th>slug</th>\n",
       "      <th>blurb</th>\n",
       "      <th>life_days</th>\n",
       "      <th>prep_days</th>\n",
       "      <th>launch_month</th>\n",
       "      <th>slug_senti</th>\n",
       "      <th>slug_plor</th>\n",
       "      <th>slug_subj</th>\n",
       "      <th>blurb_senti</th>\n",
       "      <th>blurb_plor</th>\n",
       "      <th>blurb_subj</th>\n",
       "    </tr>\n",
       "  </thead>\n",
       "  <tbody>\n",
       "    <tr>\n",
       "      <th>230352</th>\n",
       "      <td>8000.0</td>\n",
       "      <td>male</td>\n",
       "      <td>music</td>\n",
       "      <td>failed</td>\n",
       "      <td>the dirty concubines</td>\n",
       "      <td>An album by zack korth.</td>\n",
       "      <td>29</td>\n",
       "      <td>0</td>\n",
       "      <td>2</td>\n",
       "      <td>(-0.6, 0.8)</td>\n",
       "      <td>-0.6</td>\n",
       "      <td>0.8</td>\n",
       "      <td>(0.0, 0.0)</td>\n",
       "      <td>0.000000</td>\n",
       "      <td>0.000000</td>\n",
       "    </tr>\n",
       "    <tr>\n",
       "      <th>178104</th>\n",
       "      <td>1300.0</td>\n",
       "      <td>female</td>\n",
       "      <td>crafts</td>\n",
       "      <td>failed</td>\n",
       "      <td>crown city candles october 2014 collection</td>\n",
       "      <td>Certain smells trigger specific memories. Remi...</td>\n",
       "      <td>33</td>\n",
       "      <td>0</td>\n",
       "      <td>4</td>\n",
       "      <td>(0.0, 0.0)</td>\n",
       "      <td>0.0</td>\n",
       "      <td>0.0</td>\n",
       "      <td>(0.2380952380952381, 0.5654761904761905)</td>\n",
       "      <td>0.238095</td>\n",
       "      <td>0.565476</td>\n",
       "    </tr>\n",
       "    <tr>\n",
       "      <th>27527</th>\n",
       "      <td>700.0</td>\n",
       "      <td>unknown</td>\n",
       "      <td>technology</td>\n",
       "      <td>successful</td>\n",
       "      <td>the fancy snarks official website</td>\n",
       "      <td>A new home for gamers like you. A community site.</td>\n",
       "      <td>60</td>\n",
       "      <td>32</td>\n",
       "      <td>12</td>\n",
       "      <td>(0.0, 0.0)</td>\n",
       "      <td>0.0</td>\n",
       "      <td>0.0</td>\n",
       "      <td>(0.13636363636363635, 0.45454545454545453)</td>\n",
       "      <td>0.136364</td>\n",
       "      <td>0.454545</td>\n",
       "    </tr>\n",
       "    <tr>\n",
       "      <th>28219</th>\n",
       "      <td>2999.0</td>\n",
       "      <td>unknown</td>\n",
       "      <td>theater</td>\n",
       "      <td>successful</td>\n",
       "      <td>or what she will</td>\n",
       "      <td>or what she will was invited to the NYC Fringe...</td>\n",
       "      <td>30</td>\n",
       "      <td>11</td>\n",
       "      <td>6</td>\n",
       "      <td>(0.0, 0.0)</td>\n",
       "      <td>0.0</td>\n",
       "      <td>0.0</td>\n",
       "      <td>(0.0, 0.0)</td>\n",
       "      <td>0.000000</td>\n",
       "      <td>0.000000</td>\n",
       "    </tr>\n",
       "    <tr>\n",
       "      <th>77704</th>\n",
       "      <td>40000.0</td>\n",
       "      <td>unknown</td>\n",
       "      <td>music</td>\n",
       "      <td>failed</td>\n",
       "      <td>the rise to success conquering the jungle</td>\n",
       "      <td>One artist journey to create music filled with...</td>\n",
       "      <td>31</td>\n",
       "      <td>89</td>\n",
       "      <td>5</td>\n",
       "      <td>(0.3, 0.0)</td>\n",
       "      <td>0.3</td>\n",
       "      <td>0.0</td>\n",
       "      <td>(0.275, 0.48125)</td>\n",
       "      <td>0.275000</td>\n",
       "      <td>0.481250</td>\n",
       "    </tr>\n",
       "  </tbody>\n",
       "</table>\n",
       "</div>"
      ],
      "text/plain": [
       "           goal   gender category_broad       state  \\\n",
       "230352   8000.0     male          music      failed   \n",
       "178104   1300.0   female         crafts      failed   \n",
       "27527     700.0  unknown     technology  successful   \n",
       "28219    2999.0  unknown        theater  successful   \n",
       "77704   40000.0  unknown          music      failed   \n",
       "\n",
       "                                              slug  \\\n",
       "230352                        the dirty concubines   \n",
       "178104  crown city candles october 2014 collection   \n",
       "27527            the fancy snarks official website   \n",
       "28219                             or what she will   \n",
       "77704    the rise to success conquering the jungle   \n",
       "\n",
       "                                                    blurb  life_days  \\\n",
       "230352                            An album by zack korth.         29   \n",
       "178104  Certain smells trigger specific memories. Remi...         33   \n",
       "27527   A new home for gamers like you. A community site.         60   \n",
       "28219   or what she will was invited to the NYC Fringe...         30   \n",
       "77704   One artist journey to create music filled with...         31   \n",
       "\n",
       "        prep_days launch_month   slug_senti  slug_plor  slug_subj  \\\n",
       "230352          0            2  (-0.6, 0.8)       -0.6        0.8   \n",
       "178104          0            4   (0.0, 0.0)        0.0        0.0   \n",
       "27527          32           12   (0.0, 0.0)        0.0        0.0   \n",
       "28219          11            6   (0.0, 0.0)        0.0        0.0   \n",
       "77704          89            5   (0.3, 0.0)        0.3        0.0   \n",
       "\n",
       "                                       blurb_senti  blurb_plor  blurb_subj  \n",
       "230352                                  (0.0, 0.0)    0.000000    0.000000  \n",
       "178104    (0.2380952380952381, 0.5654761904761905)    0.238095    0.565476  \n",
       "27527   (0.13636363636363635, 0.45454545454545453)    0.136364    0.454545  \n",
       "28219                                   (0.0, 0.0)    0.000000    0.000000  \n",
       "77704                             (0.275, 0.48125)    0.275000    0.481250  "
      ]
     },
     "execution_count": 12,
     "metadata": {},
     "output_type": "execute_result"
    }
   ],
   "source": [
    "data[['blurb_plor','blurb_subj']] = data[['blurb_plor','blurb_subj']].fillna(value=0)\n",
    "data.sample(5)"
   ]
  },
  {
   "cell_type": "markdown",
   "metadata": {},
   "source": [
    "## Remove Outliers"
   ]
  },
  {
   "cell_type": "code",
   "execution_count": 21,
   "metadata": {},
   "outputs": [
    {
     "data": {
      "text/html": [
       "<div>\n",
       "<style scoped>\n",
       "    .dataframe tbody tr th:only-of-type {\n",
       "        vertical-align: middle;\n",
       "    }\n",
       "\n",
       "    .dataframe tbody tr th {\n",
       "        vertical-align: top;\n",
       "    }\n",
       "\n",
       "    .dataframe thead th {\n",
       "        text-align: right;\n",
       "    }\n",
       "</style>\n",
       "<table border=\"1\" class=\"dataframe\">\n",
       "  <thead>\n",
       "    <tr style=\"text-align: right;\">\n",
       "      <th></th>\n",
       "      <th>goal</th>\n",
       "      <th>life_days</th>\n",
       "      <th>prep_days</th>\n",
       "      <th>slug_plor</th>\n",
       "      <th>slug_subj</th>\n",
       "      <th>blurb_plor</th>\n",
       "      <th>blurb_subj</th>\n",
       "    </tr>\n",
       "  </thead>\n",
       "  <tbody>\n",
       "    <tr>\n",
       "      <th>count</th>\n",
       "      <td>2.417170e+05</td>\n",
       "      <td>241717.000000</td>\n",
       "      <td>241717.000000</td>\n",
       "      <td>241717.000000</td>\n",
       "      <td>241717.000000</td>\n",
       "      <td>241717.000000</td>\n",
       "      <td>241717.000000</td>\n",
       "    </tr>\n",
       "    <tr>\n",
       "      <th>mean</th>\n",
       "      <td>3.750493e+04</td>\n",
       "      <td>33.604207</td>\n",
       "      <td>43.820964</td>\n",
       "      <td>0.044745</td>\n",
       "      <td>0.169475</td>\n",
       "      <td>0.144878</td>\n",
       "      <td>0.397224</td>\n",
       "    </tr>\n",
       "    <tr>\n",
       "      <th>std</th>\n",
       "      <td>1.033886e+06</td>\n",
       "      <td>12.837902</td>\n",
       "      <td>114.860399</td>\n",
       "      <td>0.192110</td>\n",
       "      <td>0.275100</td>\n",
       "      <td>0.255678</td>\n",
       "      <td>0.285698</td>\n",
       "    </tr>\n",
       "    <tr>\n",
       "      <th>min</th>\n",
       "      <td>1.000000e-02</td>\n",
       "      <td>1.000000</td>\n",
       "      <td>0.000000</td>\n",
       "      <td>-1.000000</td>\n",
       "      <td>0.000000</td>\n",
       "      <td>-1.000000</td>\n",
       "      <td>0.000000</td>\n",
       "    </tr>\n",
       "    <tr>\n",
       "      <th>25%</th>\n",
       "      <td>2.000000e+03</td>\n",
       "      <td>30.000000</td>\n",
       "      <td>2.000000</td>\n",
       "      <td>0.000000</td>\n",
       "      <td>0.000000</td>\n",
       "      <td>0.000000</td>\n",
       "      <td>0.158333</td>\n",
       "    </tr>\n",
       "    <tr>\n",
       "      <th>50%</th>\n",
       "      <td>5.000000e+03</td>\n",
       "      <td>30.000000</td>\n",
       "      <td>10.000000</td>\n",
       "      <td>0.000000</td>\n",
       "      <td>0.000000</td>\n",
       "      <td>0.100000</td>\n",
       "      <td>0.400000</td>\n",
       "    </tr>\n",
       "    <tr>\n",
       "      <th>75%</th>\n",
       "      <td>1.300000e+04</td>\n",
       "      <td>35.000000</td>\n",
       "      <td>34.000000</td>\n",
       "      <td>0.000000</td>\n",
       "      <td>0.333333</td>\n",
       "      <td>0.290625</td>\n",
       "      <td>0.591667</td>\n",
       "    </tr>\n",
       "    <tr>\n",
       "      <th>max</th>\n",
       "      <td>1.000000e+08</td>\n",
       "      <td>91.000000</td>\n",
       "      <td>2313.000000</td>\n",
       "      <td>1.000000</td>\n",
       "      <td>1.000000</td>\n",
       "      <td>1.000000</td>\n",
       "      <td>1.000000</td>\n",
       "    </tr>\n",
       "  </tbody>\n",
       "</table>\n",
       "</div>"
      ],
      "text/plain": [
       "               goal      life_days      prep_days      slug_plor  \\\n",
       "count  2.417170e+05  241717.000000  241717.000000  241717.000000   \n",
       "mean   3.750493e+04      33.604207      43.820964       0.044745   \n",
       "std    1.033886e+06      12.837902     114.860399       0.192110   \n",
       "min    1.000000e-02       1.000000       0.000000      -1.000000   \n",
       "25%    2.000000e+03      30.000000       2.000000       0.000000   \n",
       "50%    5.000000e+03      30.000000      10.000000       0.000000   \n",
       "75%    1.300000e+04      35.000000      34.000000       0.000000   \n",
       "max    1.000000e+08      91.000000    2313.000000       1.000000   \n",
       "\n",
       "           slug_subj     blurb_plor     blurb_subj  \n",
       "count  241717.000000  241717.000000  241717.000000  \n",
       "mean        0.169475       0.144878       0.397224  \n",
       "std         0.275100       0.255678       0.285698  \n",
       "min         0.000000      -1.000000       0.000000  \n",
       "25%         0.000000       0.000000       0.158333  \n",
       "50%         0.000000       0.100000       0.400000  \n",
       "75%         0.333333       0.290625       0.591667  \n",
       "max         1.000000       1.000000       1.000000  "
      ]
     },
     "execution_count": 21,
     "metadata": {},
     "output_type": "execute_result"
    }
   ],
   "source": [
    "CatCol = ['gender','launch_month','category_broad']\n",
    "NumCol = ['goal','life_days','prep_days','slug_plor','slug_subj','blurb_plor','blurb_subj']\n",
    "\n",
    "data.describe()"
   ]
  },
  {
   "cell_type": "code",
   "execution_count": 14,
   "metadata": {},
   "outputs": [],
   "source": [
    "import collections\n",
    "c = collections.Counter()\n",
    "\n",
    "for feature in NumCol:\n",
    "    \n",
    "    Q1 = np.percentile(data[feature], 25)\n",
    "    Q3 = np.percentile(data[feature], 75)\n",
    "    \n",
    "    step = 1.5 * (Q3 - Q1)\n",
    "    \n",
    "    outlier = data[(~(data[feature] >= Q1 - step) & (data[feature] <= Q3 + step))]\n",
    "    \n",
    "    c.update(outlier.index)"
   ]
  },
  {
   "cell_type": "code",
   "execution_count": 15,
   "metadata": {},
   "outputs": [
    {
     "data": {
      "text/plain": [
       "0.014293574717541589"
      ]
     },
     "execution_count": 15,
     "metadata": {},
     "output_type": "execute_result"
    }
   ],
   "source": [
    "# remove projects that have at least 2 outlier features\n",
    "outliers = []\n",
    "\n",
    "for ind,num in c.items(): \n",
    "    if num >= 2:\n",
    "        outliers.append(ind)\n",
    "        \n",
    "len(outliers)/len(data)"
   ]
  },
  {
   "cell_type": "code",
   "execution_count": 16,
   "metadata": {},
   "outputs": [
    {
     "data": {
      "text/html": [
       "<div>\n",
       "<style scoped>\n",
       "    .dataframe tbody tr th:only-of-type {\n",
       "        vertical-align: middle;\n",
       "    }\n",
       "\n",
       "    .dataframe tbody tr th {\n",
       "        vertical-align: top;\n",
       "    }\n",
       "\n",
       "    .dataframe thead th {\n",
       "        text-align: right;\n",
       "    }\n",
       "</style>\n",
       "<table border=\"1\" class=\"dataframe\">\n",
       "  <thead>\n",
       "    <tr style=\"text-align: right;\">\n",
       "      <th></th>\n",
       "      <th>goal</th>\n",
       "      <th>life_days</th>\n",
       "      <th>prep_days</th>\n",
       "      <th>slug_plor</th>\n",
       "      <th>slug_subj</th>\n",
       "      <th>blurb_plor</th>\n",
       "      <th>blurb_subj</th>\n",
       "    </tr>\n",
       "  </thead>\n",
       "  <tbody>\n",
       "    <tr>\n",
       "      <th>count</th>\n",
       "      <td>2.382620e+05</td>\n",
       "      <td>238262.000000</td>\n",
       "      <td>238262.000000</td>\n",
       "      <td>238262.000000</td>\n",
       "      <td>238262.000000</td>\n",
       "      <td>238262.000000</td>\n",
       "      <td>238262.000000</td>\n",
       "    </tr>\n",
       "    <tr>\n",
       "      <th>mean</th>\n",
       "      <td>3.791276e+04</td>\n",
       "      <td>33.803049</td>\n",
       "      <td>44.008684</td>\n",
       "      <td>0.049413</td>\n",
       "      <td>0.165154</td>\n",
       "      <td>0.149187</td>\n",
       "      <td>0.395252</td>\n",
       "    </tr>\n",
       "    <tr>\n",
       "      <th>std</th>\n",
       "      <td>1.041339e+06</td>\n",
       "      <td>12.766680</td>\n",
       "      <td>115.194444</td>\n",
       "      <td>0.187346</td>\n",
       "      <td>0.272451</td>\n",
       "      <td>0.250891</td>\n",
       "      <td>0.285127</td>\n",
       "    </tr>\n",
       "    <tr>\n",
       "      <th>min</th>\n",
       "      <td>1.000000e-02</td>\n",
       "      <td>1.000000</td>\n",
       "      <td>0.000000</td>\n",
       "      <td>-1.000000</td>\n",
       "      <td>0.000000</td>\n",
       "      <td>-1.000000</td>\n",
       "      <td>0.000000</td>\n",
       "    </tr>\n",
       "    <tr>\n",
       "      <th>25%</th>\n",
       "      <td>2.000000e+03</td>\n",
       "      <td>30.000000</td>\n",
       "      <td>2.000000</td>\n",
       "      <td>0.000000</td>\n",
       "      <td>0.000000</td>\n",
       "      <td>0.000000</td>\n",
       "      <td>0.150000</td>\n",
       "    </tr>\n",
       "    <tr>\n",
       "      <th>50%</th>\n",
       "      <td>5.000000e+03</td>\n",
       "      <td>30.000000</td>\n",
       "      <td>10.000000</td>\n",
       "      <td>0.000000</td>\n",
       "      <td>0.000000</td>\n",
       "      <td>0.100000</td>\n",
       "      <td>0.400000</td>\n",
       "    </tr>\n",
       "    <tr>\n",
       "      <th>75%</th>\n",
       "      <td>1.350000e+04</td>\n",
       "      <td>36.000000</td>\n",
       "      <td>34.000000</td>\n",
       "      <td>0.000000</td>\n",
       "      <td>0.333333</td>\n",
       "      <td>0.293651</td>\n",
       "      <td>0.587500</td>\n",
       "    </tr>\n",
       "    <tr>\n",
       "      <th>max</th>\n",
       "      <td>1.000000e+08</td>\n",
       "      <td>91.000000</td>\n",
       "      <td>2313.000000</td>\n",
       "      <td>1.000000</td>\n",
       "      <td>1.000000</td>\n",
       "      <td>1.000000</td>\n",
       "      <td>1.000000</td>\n",
       "    </tr>\n",
       "  </tbody>\n",
       "</table>\n",
       "</div>"
      ],
      "text/plain": [
       "               goal      life_days      prep_days      slug_plor  \\\n",
       "count  2.382620e+05  238262.000000  238262.000000  238262.000000   \n",
       "mean   3.791276e+04      33.803049      44.008684       0.049413   \n",
       "std    1.041339e+06      12.766680     115.194444       0.187346   \n",
       "min    1.000000e-02       1.000000       0.000000      -1.000000   \n",
       "25%    2.000000e+03      30.000000       2.000000       0.000000   \n",
       "50%    5.000000e+03      30.000000      10.000000       0.000000   \n",
       "75%    1.350000e+04      36.000000      34.000000       0.000000   \n",
       "max    1.000000e+08      91.000000    2313.000000       1.000000   \n",
       "\n",
       "           slug_subj     blurb_plor     blurb_subj  \n",
       "count  238262.000000  238262.000000  238262.000000  \n",
       "mean        0.165154       0.149187       0.395252  \n",
       "std         0.272451       0.250891       0.285127  \n",
       "min         0.000000      -1.000000       0.000000  \n",
       "25%         0.000000       0.000000       0.150000  \n",
       "50%         0.000000       0.100000       0.400000  \n",
       "75%         0.333333       0.293651       0.587500  \n",
       "max         1.000000       1.000000       1.000000  "
      ]
     },
     "execution_count": 16,
     "metadata": {},
     "output_type": "execute_result"
    }
   ],
   "source": [
    "good_data = data.drop(data.index[outliers]).reset_index(drop = True)\n",
    "good_data.describe()"
   ]
  },
  {
   "cell_type": "markdown",
   "metadata": {},
   "source": [
    "## Scaling and normalization"
   ]
  },
  {
   "cell_type": "code",
   "execution_count": 17,
   "metadata": {},
   "outputs": [
    {
     "name": "stdout",
     "output_type": "stream",
     "text": [
      "     goal   gender category_broad  life_days  prep_days launch_month  \\\n",
      "0  2000.0     male     publishing         30         68           12   \n",
      "1  2100.0  unknown     publishing         30         43            1   \n",
      "2   500.0   female     publishing         30          7            1   \n",
      "3   500.0   female     publishing         30          7            1   \n",
      "4   500.0   female     publishing         30          7            1   \n",
      "\n",
      "   slug_plor  slug_subj  blurb_plor  blurb_subj  \n",
      "0  -0.166667   0.333333   -0.003333    0.436667  \n",
      "1  -0.291667   0.541667    0.000000    0.000000  \n",
      "2   0.000000   0.000000    0.156250    0.200000  \n",
      "3   0.000000   0.000000    0.156250    0.200000  \n",
      "4   0.000000   0.000000    0.156250    0.200000  \n",
      "0    1\n",
      "1    1\n",
      "2    1\n",
      "3    1\n",
      "4    1\n",
      "Name: state, dtype: int64\n"
     ]
    }
   ],
   "source": [
    "# split into features and target\n",
    "target = good_data['state'].apply(lambda x: 1 if x == \"successful\" else 0)\n",
    "feature = good_data.drop(['state','slug','blurb','slug_senti','blurb_senti'], axis = 1)\n",
    "\n",
    "print(feature.head())\n",
    "print(target.head())"
   ]
  },
  {
   "cell_type": "code",
   "execution_count": 18,
   "metadata": {},
   "outputs": [],
   "source": [
    "# log data\n",
    "feature[NumCol] = np.log(feature[NumCol]+1.00001)"
   ]
  },
  {
   "cell_type": "code",
   "execution_count": 19,
   "metadata": {},
   "outputs": [],
   "source": [
    "# MinMax Scale\n",
    "from sklearn.preprocessing import MinMaxScaler\n",
    "\n",
    "scaler = MinMaxScaler()\n",
    "feature[NumCol] = scaler.fit_transform(feature[NumCol])\n"
   ]
  },
  {
   "cell_type": "code",
   "execution_count": 20,
   "metadata": {},
   "outputs": [],
   "source": [
    "# pd.plotting.scatter_matrix(feature, alpha = 0.3, figsize = (14,8), diagonal = 'kde');\n",
    "# feature.corr()"
   ]
  },
  {
   "cell_type": "markdown",
   "metadata": {},
   "source": [
    "## One-hot-encoding categorical variables"
   ]
  },
  {
   "cell_type": "code",
   "execution_count": 22,
   "metadata": {},
   "outputs": [
    {
     "name": "stdout",
     "output_type": "stream",
     "text": [
      "<class 'pandas.core.frame.DataFrame'>\n",
      "RangeIndex: 238262 entries, 0 to 238261\n",
      "Data columns (total 37 columns):\n",
      "goal                           238262 non-null float64\n",
      "life_days                      238262 non-null float64\n",
      "prep_days                      238262 non-null float64\n",
      "slug_plor                      238262 non-null float64\n",
      "slug_subj                      238262 non-null float64\n",
      "blurb_plor                     238262 non-null float64\n",
      "blurb_subj                     238262 non-null float64\n",
      "gender_female                  238262 non-null uint8\n",
      "gender_male                    238262 non-null uint8\n",
      "gender_mostly_female           238262 non-null uint8\n",
      "gender_mostly_male             238262 non-null uint8\n",
      "gender_unknown                 238262 non-null uint8\n",
      "launch_month_2                 238262 non-null uint8\n",
      "launch_month_3                 238262 non-null uint8\n",
      "launch_month_4                 238262 non-null uint8\n",
      "launch_month_5                 238262 non-null uint8\n",
      "launch_month_6                 238262 non-null uint8\n",
      "launch_month_7                 238262 non-null uint8\n",
      "launch_month_8                 238262 non-null uint8\n",
      "launch_month_9                 238262 non-null uint8\n",
      "launch_month_10                238262 non-null uint8\n",
      "launch_month_11                238262 non-null uint8\n",
      "launch_month_12                238262 non-null uint8\n",
      "category_broad_comics          238262 non-null uint8\n",
      "category_broad_crafts          238262 non-null uint8\n",
      "category_broad_dance           238262 non-null uint8\n",
      "category_broad_design          238262 non-null uint8\n",
      "category_broad_fashion         238262 non-null uint8\n",
      "category_broad_film & video    238262 non-null uint8\n",
      "category_broad_food            238262 non-null uint8\n",
      "category_broad_games           238262 non-null uint8\n",
      "category_broad_journalism      238262 non-null uint8\n",
      "category_broad_music           238262 non-null uint8\n",
      "category_broad_photography     238262 non-null uint8\n",
      "category_broad_publishing      238262 non-null uint8\n",
      "category_broad_technology      238262 non-null uint8\n",
      "category_broad_theater         238262 non-null uint8\n",
      "dtypes: float64(7), uint8(30)\n",
      "memory usage: 19.5 MB\n"
     ]
    }
   ],
   "source": [
    "feature_final = pd.get_dummies(feature, columns = CatCol,drop_first=True)\n",
    "# feature_final = feature.drop(CatCol, axis = 1)\n",
    "feature_final.info()"
   ]
  },
  {
   "cell_type": "code",
   "execution_count": 23,
   "metadata": {},
   "outputs": [],
   "source": [
    "feature_final.to_pickle('feature_final')\n",
    "target.to_pickle('target')"
   ]
  },
  {
   "cell_type": "code",
   "execution_count": 3,
   "metadata": {},
   "outputs": [],
   "source": [
    "feature_final = pd.read_pickle(\"feature_final\")\n",
    "target = pd.read_pickle(\"target\")"
   ]
  },
  {
   "cell_type": "markdown",
   "metadata": {},
   "source": [
    "## Pipeline"
   ]
  },
  {
   "cell_type": "code",
   "execution_count": 4,
   "metadata": {},
   "outputs": [
    {
     "name": "stdout",
     "output_type": "stream",
     "text": [
      "(190609, 37)\n",
      "(47653, 37)\n"
     ]
    }
   ],
   "source": [
    "# split train-test\n",
    "from sklearn.model_selection import train_test_split\n",
    "\n",
    "# feature_final = feature_final.drop(['category_broad'],axis = 1)\n",
    "\n",
    "\n",
    "X_train, X_test, y_train, y_test = train_test_split(feature_final,\n",
    "                                                   target, \n",
    "                                                   test_size = 0.2,\n",
    "                                                   random_state = 23)\n",
    "print(X_train.shape)\n",
    "print(X_test.shape)"
   ]
  },
  {
   "cell_type": "code",
   "execution_count": 17,
   "metadata": {},
   "outputs": [],
   "source": [
    "from sklearn.metrics import fbeta_score, accuracy_score\n",
    "from time import time\n",
    "\n",
    "def train_predict(learner, sample_size, X_train, y_train, X_test, y_test):\n",
    "    results = {}\n",
    "    \n",
    "    # training\n",
    "    start = time()\n",
    "    learner = learner.fit(X_train[:sample_size], y_train[:sample_size])\n",
    "    end = time()\n",
    "    \n",
    "    results['train_time'] = end - start\n",
    "    \n",
    "    # prediction\n",
    "    \n",
    "    start = time()\n",
    "    predictions_test = learner.predict(X_test)\n",
    "    predictions_train = learner.predict(X_train[:300])\n",
    "    end = time()\n",
    "    \n",
    "    results['pred_time'] = end - start\n",
    "    \n",
    "    results['acc_train'] = accuracy_score(y_train[:300],predictions_train)\n",
    "    results['acc_test'] = accuracy_score(y_test, predictions_test)\n",
    "    \n",
    "    results['f_train'] = fbeta_score(y_train[:300], predictions_train,0.5)\n",
    "    results['f_test'] = fbeta_score(y_test, predictions_test, 0.5)\n",
    "    \n",
    "    print(\"{} trained on {} samples. \".format(learner.__class__.__name__, sample_size))\n",
    "\n",
    "    return results"
   ]
  },
  {
   "cell_type": "code",
   "execution_count": 18,
   "metadata": {},
   "outputs": [
    {
     "name": "stdout",
     "output_type": "stream",
     "text": [
      "Naive Predictor: accuracy: 0.5415, F:0.5962\n"
     ]
    }
   ],
   "source": [
    "# naive score\n",
    "precision = accuracy = np.sum(target)/len(target)\n",
    "\n",
    "recall = 1\n",
    "fscore = (1+0.25)*precision*recall/(0.25*precision+recall)\n",
    "\n",
    "print(\"Naive Predictor: accuracy: {:.4f}, F:{:.4f}\".format(accuracy, fscore))"
   ]
  },
  {
   "cell_type": "markdown",
   "metadata": {},
   "source": [
    "### Training!"
   ]
  },
  {
   "cell_type": "code",
   "execution_count": 19,
   "metadata": {},
   "outputs": [
    {
     "name": "stdout",
     "output_type": "stream",
     "text": [
      "LogisticRegression trained on 1906 samples. \n",
      "LogisticRegression trained on 19060 samples. \n",
      "LogisticRegression trained on 190609 samples. \n",
      "RandomForestClassifier trained on 1906 samples. \n",
      "RandomForestClassifier trained on 19060 samples. \n",
      "RandomForestClassifier trained on 190609 samples. \n",
      "LinearDiscriminantAnalysis trained on 1906 samples. \n",
      "LinearDiscriminantAnalysis trained on 19060 samples. \n",
      "LinearDiscriminantAnalysis trained on 190609 samples. \n"
     ]
    }
   ],
   "source": [
    "# from sklearn.svm import SVC\n",
    "from sklearn.linear_model import LogisticRegression\n",
    "from sklearn.ensemble import RandomForestClassifier\n",
    "from sklearn.discriminant_analysis import LinearDiscriminantAnalysis\n",
    "\n",
    "\n",
    "# clf_S = SVC(random_state = 2)\n",
    "clf_Logit = LogisticRegression(random_state = 25)\n",
    "clf_RF = RandomForestClassifier(random_state = 23)\n",
    "clf_LDA = LinearDiscriminantAnalysis(n_components = 5)\n",
    "\n",
    "samples_100 = len(y_train)\n",
    "samples_10 = int(0.1*samples_100)\n",
    "samples_1 = int(0.01*samples_100)\n",
    "\n",
    "results = {}\n",
    "for clf in [clf_Logit, clf_RF, clf_LDA]:\n",
    "    clf_name = clf.__class__.__name__\n",
    "    results[clf_name] = {}\n",
    "    for i, samples in enumerate([samples_1,samples_10, samples_100]):\n",
    "        results[clf_name][i] = train_predict(clf, samples, X_train, y_train, X_test, y_test)\n"
   ]
  },
  {
   "cell_type": "code",
   "execution_count": 31,
   "metadata": {},
   "outputs": [
    {
     "data": {
      "image/png": "[encoded data removed]",
      "text/plain": [
       "<Figure size 792x504 with 6 Axes>"
      ]
     },
     "metadata": {},
     "output_type": "display_data"
    }
   ],
   "source": [
    "evaluate(results, accuracy, fscore)\n",
    "# print(\"Logit: accuracy score is {:.4f}\".format(results['LogisticRegression']['acc_test']))\n",
    "# print(\"Random Forest : accuracy score is {:.4f}\".format(results['RandomForestClassifier']['acc_test']))\n",
    "# print(\"LDA : accuracy score is {:.4f}\".format(results['LinearDiscriminantAnalysis']['acc_test']))\n",
    "# results"
   ]
  },
  {
   "cell_type": "code",
   "execution_count": 30,
   "metadata": {},
   "outputs": [],
   "source": [
    "import matplotlib.patches as mpatches\n",
    "\n",
    "def evaluate(results, accuracy, f1):\n",
    "    \"\"\"\n",
    "    Visualization code to display results of various learners.\n",
    "    \n",
    "    inputs:\n",
    "      - learners: a list of supervised learners\n",
    "      - stats: a list of dictionaries of the statistic results from 'train_predict()'\n",
    "      - accuracy: The score for the naive predictor\n",
    "      - f1: The score for the naive predictor\n",
    "    \"\"\"\n",
    "  \n",
    "    # Create figure\n",
    "    fig, ax = plt.subplots(2, 3,figsize = (11,7))\n",
    "\n",
    "    # Constants\n",
    "    bar_width = 0.3\n",
    "    colors = ['#A00000','#00A0A0','#00A000']\n",
    "    \n",
    "    # Super loop to plot four panels of data\n",
    "    for k, learner in enumerate(results.keys()):\n",
    "        for j, metric in enumerate(['train_time', 'acc_train', 'f_train', 'pred_time', 'acc_test', 'f_test']):\n",
    "            for i in np.arange(3):\n",
    "                \n",
    "                # Creative plot code\n",
    "                ax[j//3, j%3].bar(i+k*bar_width, results[learner][i][metric], width = bar_width, color = colors[k])\n",
    "                ax[j//3, j%3].set_xticks([0.45, 1.45, 2.45])\n",
    "                ax[j//3, j%3].set_xticklabels([\"1%\", \"10%\", \"100%\"])\n",
    "                ax[j//3, j%3].set_xlabel(\"Training Set Size\")\n",
    "                ax[j//3, j%3].set_xlim((-0.1, 3.0))\n",
    "    \n",
    "    # Add unique y-labels\n",
    "    ax[0, 0].set_ylabel(\"Time (in seconds)\")\n",
    "    ax[0, 1].set_ylabel(\"Accuracy Score\")\n",
    "    ax[0, 2].set_ylabel(\"F-score\")\n",
    "    ax[1, 0].set_ylabel(\"Time (in seconds)\")\n",
    "    ax[1, 1].set_ylabel(\"Accuracy Score\")\n",
    "    ax[1, 2].set_ylabel(\"F-score\")\n",
    "    \n",
    "    # Add titles\n",
    "    ax[0, 0].set_title(\"Model Training\")\n",
    "    ax[0, 1].set_title(\"Accuracy Score on Training Subset\")\n",
    "    ax[0, 2].set_title(\"F-score on Training Subset\")\n",
    "    ax[1, 0].set_title(\"Model Predicting\")\n",
    "    ax[1, 1].set_title(\"Accuracy Score on Testing Set\")\n",
    "    ax[1, 2].set_title(\"F-score on Testing Set\")\n",
    "    \n",
    "    # Add horizontal lines for naive predictors\n",
    "    ax[0, 1].axhline(y = accuracy, xmin = -0.1, xmax = 3.0, linewidth = 1, color = 'k', linestyle = 'dashed')\n",
    "    ax[1, 1].axhline(y = accuracy, xmin = -0.1, xmax = 3.0, linewidth = 1, color = 'k', linestyle = 'dashed')\n",
    "    ax[0, 2].axhline(y = f1, xmin = -0.1, xmax = 3.0, linewidth = 1, color = 'k', linestyle = 'dashed')\n",
    "    ax[1, 2].axhline(y = f1, xmin = -0.1, xmax = 3.0, linewidth = 1, color = 'k', linestyle = 'dashed')\n",
    "    \n",
    "    # Set y-limits for score panels\n",
    "    ax[0, 1].set_ylim((0, 1))\n",
    "    ax[0, 2].set_ylim((0, 1))\n",
    "    ax[1, 1].set_ylim((0, 1))\n",
    "    ax[1, 2].set_ylim((0, 1))\n",
    "    \n",
    "    patches = []\n",
    "    for i, learner in enumerate(results.keys()):\n",
    "        patches.append(mpatches.Patch(color = colors[i], label = learner))\n",
    "    plt.legend(handles = patches)\n",
    " \n",
    "    \n",
    "    # Aesthetics\n",
    "    plt.suptitle(\"Performance Metrics for Three Supervised Learning Models\", fontsize = 16, y = 1.10)\n",
    "    plt.tight_layout()\n",
    "    plt.savefig(\"plots/result.png\")"
   ]
  },
  {
   "cell_type": "markdown",
   "metadata": {},
   "source": [
    "### Tuning"
   ]
  },
  {
   "cell_type": "code",
   "execution_count": 7,
   "metadata": {},
   "outputs": [
    {
     "name": "stdout",
     "output_type": "stream",
     "text": [
      "untuned accuracy:0.8018\n",
      "optimized accuracy:0.8098\n",
      "untuned accuracy:0.8218\n",
      "optimized accuracy:0.8236\n"
     ]
    }
   ],
   "source": [
    "# Random Forest Tuning\n",
    "from sklearn.ensemble import RandomForestClassifier\n",
    "from sklearn.metrics import fbeta_score, accuracy_score\n",
    "from sklearn.model_selection import GridSearchCV\n",
    "from sklearn.metrics import make_scorer\n",
    "\n",
    "clf = RandomForestClassifier(random_state = 23)\n",
    "\n",
    "parameters = {\"n_estimators\": [10, 18, 22],\n",
    "              \"min_samples_split\": [2, 5, 10],\n",
    "              \"min_samples_leaf\": [1, 5, 10]}\n",
    "\n",
    "scorer = make_scorer(fbeta_score, beta = 0.5)\n",
    "grid_obj = GridSearchCV(clf, parameters, scorer)\n",
    "\n",
    "grid_fit = grid_obj.fit(X_train, y_train)\n",
    "\n",
    "best_clf = grid_fit.best_estimator_\n",
    "\n",
    "predictions = (clf.fit(X_train, y_train)).predict(X_test)\n",
    "best_predictions = best_clf.predict(X_test)\n",
    "\n",
    "print(\"untuned accuracy:{:.4f}\".format(accuracy_score(y_test, predictions)))\n",
    "print(\"optimized accuracy:{:.4f}\".format(accuracy_score(y_test, best_predictions)))\n",
    "\n",
    "print(\"untuned accuracy:{:.4f}\".format(fbeta_score(y_test, predictions, beta = 0.5)))\n",
    "print(\"optimized accuracy:{:.4f}\".format(fbeta_score(y_test, best_predictions, beta = 0.5)))\n"
   ]
  },
  {
   "cell_type": "markdown",
   "metadata": {},
   "source": [
    "### Parameters"
   ]
  },
  {
   "cell_type": "code",
   "execution_count": 35,
   "metadata": {},
   "outputs": [],
   "source": [
    "def feature_plot(importances, X_train, y_train):\n",
    "    \n",
    "    # Display the five most important features\n",
    "    indices = np.argsort(importances)[::-1]\n",
    "    columns = X_train.columns.values[indices[:5]]\n",
    "    values = importances[indices][:5]\n",
    "\n",
    "    # Creat the plot\n",
    "    fig = plt.figure(figsize = (9,5))\n",
    "    plt.title(\"Normalized Weights for First Five Most Predictive Features\", fontsize = 16)\n",
    "    plt.bar(np.arange(5), values, width = 0.6, align=\"center\", color = '#00A000', \\\n",
    "          label = \"Feature Weight\")\n",
    "    plt.bar(np.arange(5) - 0.3, np.cumsum(values), width = 0.2, align = \"center\", color = '#00A0A0', \\\n",
    "          label = \"Cumulative Feature Weight\")\n",
    "    plt.xticks(np.arange(5), columns)\n",
    "    plt.xlim((-0.5, 4.5))\n",
    "    plt.ylabel(\"Weight\", fontsize = 12)\n",
    "    plt.xlabel(\"Feature\", fontsize = 12)\n",
    "    \n",
    "    plt.legend(loc = 'upper center')\n",
    "    plt.tight_layout()\n",
    "    plt.savefig('plots/rf_imp.png')  "
   ]
  },
  {
   "cell_type": "code",
   "execution_count": 36,
   "metadata": {},
   "outputs": [
    {
     "data": {
      "image/png": "[encoded data removed]",
      "text/plain": [
       "<Figure size 648x360 with 1 Axes>"
      ]
     },
     "metadata": {},
     "output_type": "display_data"
    }
   ],
   "source": [
    "importances = best_clf.feature_importances_\n",
    "feature_plot(importances, X_train, y_train)\n",
    "# importances"
   ]
  },
  {
   "cell_type": "code",
   "execution_count": 39,
   "metadata": {},
   "outputs": [
    {
     "data": {
      "image/png": "[encoded data removed]",
      "text/plain": [
       "<Figure size 1152x864 with 1 Axes>"
      ]
     },
     "metadata": {},
     "output_type": "display_data"
    }
   ],
   "source": [
    "coeffs = clf_Logit.coef_\n",
    "indices = np.argsort(coeffs)[0][::-1]\n",
    "columns = X_train.columns.values[indices]\n",
    "values = coeffs[0][indices]\n",
    "\n",
    "fig = plt.figure(figsize = (16,12))\n",
    "plt.barh(np.arange(37), values, align=\"center\")\n",
    "plt.yticks(np.arange(37), columns)\n",
    "plt.tight_layout()\n",
    "plt.show()  "
   ]
  },
  {
   "cell_type": "code",
   "execution_count": 44,
   "metadata": {},
   "outputs": [
    {
     "name": "stdout",
     "output_type": "stream",
     "text": [
      "Optimization terminated successfully.\n",
      "         Current function value: 0.600170\n",
      "         Iterations 6\n",
      "                           Logit Regression Results                           \n",
      "==============================================================================\n",
      "Dep. Variable:                  state   No. Observations:               190609\n",
      "Model:                          Logit   Df Residuals:                   190572\n",
      "Method:                           MLE   Df Model:                           36\n",
      "Date:                Mon, 13 Aug 2018   Pseudo R-squ.:                  0.1297\n",
      "Time:                        00:26:32   Log-Likelihood:            -1.1440e+05\n",
      "converged:                       True   LL-Null:                   -1.3144e+05\n",
      "                                        LLR p-value:                     0.000\n",
      "===============================================================================================\n",
      "                                  coef    std err          z      P>|z|      [0.025      0.975]\n",
      "-----------------------------------------------------------------------------------------------\n",
      "goal                           -6.2287      0.069    -90.612      0.000      -6.363      -6.094\n",
      "life_days                      -1.3034      0.053    -24.362      0.000      -1.408      -1.199\n",
      "prep_days                       1.8486      0.026     71.725      0.000       1.798       1.899\n",
      "slug_plor                       1.6692      0.126     13.203      0.000       1.421       1.917\n",
      "slug_subj                       0.2987      0.017     17.238      0.000       0.265       0.333\n",
      "blurb_plor                      1.4147      0.121     11.644      0.000       1.177       1.653\n",
      "blurb_subj                     -0.0235      0.017     -1.362      0.173      -0.057       0.010\n",
      "gender_female                   0.3356      0.050      6.649      0.000       0.237       0.434\n",
      "gender_male                    -0.1434      0.050     -2.893      0.004      -0.241      -0.046\n",
      "gender_mostly_female            0.4490      0.055      8.212      0.000       0.342       0.556\n",
      "gender_mostly_male             -0.0688      0.054     -1.268      0.205      -0.175       0.038\n",
      "gender_unknown                  0.2531      0.050      5.064      0.000       0.155       0.351\n",
      "launch_month_2                  0.1245      0.025      4.917      0.000       0.075       0.174\n",
      "launch_month_3                  0.1706      0.025      6.881      0.000       0.122       0.219\n",
      "launch_month_4                  0.0847      0.025      3.402      0.001       0.036       0.134\n",
      "launch_month_5                  0.0757      0.025      3.068      0.002       0.027       0.124\n",
      "launch_month_6                  0.0408      0.025      1.641      0.101      -0.008       0.090\n",
      "launch_month_7                 -0.1587      0.024     -6.528      0.000      -0.206      -0.111\n",
      "launch_month_8                 -0.1098      0.025     -4.431      0.000      -0.158      -0.061\n",
      "launch_month_9                  0.0656      0.025      2.615      0.009       0.016       0.115\n",
      "launch_month_10                 0.1270      0.025      5.134      0.000       0.078       0.175\n",
      "launch_month_11                 0.1004      0.025      3.986      0.000       0.051       0.150\n",
      "launch_month_12                -0.0517      0.028     -1.876      0.061      -0.106       0.002\n",
      "category_broad_comics           1.2398      0.035     35.788      0.000       1.172       1.308\n",
      "category_broad_crafts          -0.4674      0.038    -12.316      0.000      -0.542      -0.393\n",
      "category_broad_dance            1.9088      0.054     35.618      0.000       1.804       2.014\n",
      "category_broad_design           1.6045      0.034     47.021      0.000       1.538       1.671\n",
      "category_broad_fashion         -0.7141      0.029    -24.605      0.000      -0.771      -0.657\n",
      "category_broad_film & video     0.8775      0.021     41.897      0.000       0.836       0.919\n",
      "category_broad_food            -0.1135      0.026     -4.339      0.000      -0.165      -0.062\n",
      "category_broad_games            0.6375      0.026     24.880      0.000       0.587       0.688\n",
      "category_broad_journalism      -0.7694      0.045    -16.971      0.000      -0.858      -0.681\n",
      "category_broad_music            0.4412      0.021     21.500      0.000       0.401       0.481\n",
      "category_broad_photography      0.3203      0.035      9.179      0.000       0.252       0.389\n",
      "category_broad_publishing      -0.2539      0.022    -11.777      0.000      -0.296      -0.212\n",
      "category_broad_technology      -0.4170      0.026    -16.310      0.000      -0.467      -0.367\n",
      "category_broad_theater          1.6380      0.036     45.054      0.000       1.567       1.709\n",
      "===============================================================================================\n"
     ]
    }
   ],
   "source": [
    "# run statistic model to get result summary\n",
    "import statsmodels.discrete.discrete_model as sm\n",
    "logit = sm.Logit(y_train, X_train)\n",
    "print (logit.fit().summary())"
   ]
  },
  {
   "cell_type": "markdown",
   "metadata": {},
   "source": [
    "## CNN"
   ]
  },
  {
   "cell_type": "code",
   "execution_count": 118,
   "metadata": {},
   "outputs": [
    {
     "name": "stderr",
     "output_type": "stream",
     "text": [
      "Using TensorFlow backend.\n"
     ]
    },
    {
     "name": "stdout",
     "output_type": "stream",
     "text": [
      "[[ 0.54950108  0.71587766  0.          0.93163285  0.51326042  0.93474698\n",
      "   0.52788863  0.          1.          0.          0.          0.          0.\n",
      "   0.          0.          0.          0.          0.          0.          0.\n",
      "   0.          1.          0.          0.          0.          0.          0.\n",
      "   0.        ]\n",
      " [ 0.71221575  0.71587766  0.30953556  0.96149454  0.41503689  0.95286281\n",
      "   0.16992462  0.          0.          0.          1.          0.          1.\n",
      "   0.          0.          0.          0.          0.          0.          1.\n",
      "   0.          0.          0.          0.          0.          0.          0.\n",
      "   0.        ]\n",
      " [ 0.46209125  0.76905557  0.          0.94321336  0.          0.96626827\n",
      "   0.70781876  1.          0.          0.          0.          0.          1.\n",
      "   0.          0.          0.          0.          0.          0.          0.\n",
      "   0.          0.          0.          1.          0.          0.          0.\n",
      "   0.        ]\n",
      " [ 0.40351551  0.71587766  0.33110002  0.94321336  0.          0.96678191\n",
      "   0.64769771  0.          0.          0.          0.          1.          1.\n",
      "   0.          0.          0.          0.          0.          0.          1.\n",
      "   0.          0.          0.          0.          0.          0.          0.\n",
      "   0.        ]\n",
      " [ 0.46209125  0.89267337  0.08947554  0.94321336  0.          0.94321336\n",
      "   0.          0.          0.          0.          0.          1.          1.\n",
      "   0.          0.          0.          0.          0.          0.          1.\n",
      "   0.          0.          0.          0.          0.          0.          0.\n",
      "   0.        ]\n",
      " [ 0.49973493  0.89267337  0.29723228  0.94321336  0.          0.96549171\n",
      "   0.41503689  0.          0.          1.          0.          0.          1.\n",
      "   0.          0.          0.          0.          0.          0.          0.\n",
      "   0.          0.          0.          1.          0.          0.          0.\n",
      "   0.        ]\n",
      " [ 0.52139314  0.7073133   0.67663929  0.94321336  0.          0.94321336\n",
      "   0.          0.          0.          0.          0.          1.          1.\n",
      "   0.          0.          0.          0.          0.          0.          0.\n",
      "   0.          0.          1.          0.          0.          0.          0.\n",
      "   0.        ]\n",
      " [ 0.58142644  0.71587766  0.26842741  0.94321336  0.          0.94321336\n",
      "   0.          0.          0.          0.          0.          1.          0.\n",
      "   0.          0.          0.          0.          0.          0.          0.\n",
      "   0.          1.          0.          0.          0.          0.          0.\n",
      "   0.        ]\n",
      " [ 0.48036404  0.71587766  0.59575006  0.95368619  0.54056777  0.95368619\n",
      "   0.54056777  0.          0.          0.          0.          0.          1.\n",
      "   0.          0.          0.          0.          0.          0.          0.\n",
      "   0.          0.          0.          0.          0.          0.          0.\n",
      "   0.        ]\n",
      " [ 0.64825025  0.88835609  0.17895139  0.9013638   0.48542621  0.97540085\n",
      "   0.65535129  0.          1.          0.          0.          0.          0.\n",
      "   0.          0.          0.          0.          0.          0.          0.\n",
      "   0.          1.          0.          0.          0.          0.          0.\n",
      "   0.        ]]\n",
      "[[1 0]\n",
      " [1 0]\n",
      " [1 0]\n",
      " [1 0]\n",
      " [0 1]\n",
      " [0 1]\n",
      " [1 0]\n",
      " [1 0]\n",
      " [1 0]\n",
      " [1 0]]\n"
     ]
    }
   ],
   "source": [
    "import keras\n",
    "\n",
    "# Separate data and one-hot encode the output\n",
    "# Note: We're also turning the data into numpy arrays, in order to train the model in Keras\n",
    "features = np.array(X_train)\n",
    "targets = np.array(pd.get_dummies(y_train))\n",
    "features_test = np.array(X_test)\n",
    "targets_test = np.array(pd.get_dummies(y_test))\n",
    "\n",
    "print(features[:10])\n",
    "print(targets[:10])"
   ]
  },
  {
   "cell_type": "code",
   "execution_count": 119,
   "metadata": {},
   "outputs": [
    {
     "name": "stdout",
     "output_type": "stream",
     "text": [
      "_________________________________________________________________\n",
      "Layer (type)                 Output Shape              Param #   \n",
      "=================================================================\n",
      "dense_1 (Dense)              (None, 128)               3712      \n",
      "_________________________________________________________________\n",
      "dropout_1 (Dropout)          (None, 128)               0         \n",
      "_________________________________________________________________\n",
      "dense_2 (Dense)              (None, 64)                8256      \n",
      "_________________________________________________________________\n",
      "dropout_2 (Dropout)          (None, 64)                0         \n",
      "_________________________________________________________________\n",
      "dense_3 (Dense)              (None, 2)                 130       \n",
      "=================================================================\n",
      "Total params: 12,098\n",
      "Trainable params: 12,098\n",
      "Non-trainable params: 0\n",
      "_________________________________________________________________\n"
     ]
    }
   ],
   "source": [
    "# Imports\n",
    "\n",
    "from keras.models import Sequential\n",
    "from keras.layers.core import Dense, Dropout, Activation\n",
    "from keras.optimizers import SGD\n",
    "from keras.utils import np_utils\n",
    "\n",
    "# Building the model\n",
    "model = Sequential()\n",
    "model.add(Dense(128, activation='relu', input_shape=(28,)))\n",
    "model.add(Dropout(.2))\n",
    "model.add(Dense(64, activation='sigmoid'))\n",
    "model.add(Dropout(.1))\n",
    "model.add(Dense(2, activation='sigmoid'))\n",
    "\n",
    "# Compiling the model\n",
    "model.compile(loss = 'categorical_crossentropy', optimizer='rmsprop', metrics=['accuracy'])\n",
    "model.summary()"
   ]
  },
  {
   "cell_type": "code",
   "execution_count": 127,
   "metadata": {},
   "outputs": [
    {
     "data": {
      "text/plain": [
       "<keras.callbacks.History at 0x1a18faceb8>"
      ]
     },
     "execution_count": 127,
     "metadata": {},
     "output_type": "execute_result"
    }
   ],
   "source": [
    "# Training the model\n",
    "model.fit(features, targets, epochs=200, batch_size=2000, verbose=0)"
   ]
  },
  {
   "cell_type": "code",
   "execution_count": 128,
   "metadata": {},
   "outputs": [
    {
     "name": "stdout",
     "output_type": "stream",
     "text": [
      "126126/126126 [==============================] - 10s 78us/step\n",
      "\n",
      " Training Accuracy: 0.694004408292\n",
      "31532/31532 [==============================] - 3s 81us/step\n",
      "\n",
      " Testing Accuracy: 0.690695166822\n"
     ]
    }
   ],
   "source": [
    "# Evaluating the model on the training and testing set\n",
    "score = model.evaluate(features, targets)\n",
    "print(\"\\n Training Accuracy:\", score[1])\n",
    "score = model.evaluate(features_test, targets_test)\n",
    "print(\"\\n Testing Accuracy:\", score[1])"
   ]
  },
  {
   "cell_type": "markdown",
   "metadata": {},
   "source": [
    "## SANDBOX"
   ]
  },
  {
   "cell_type": "markdown",
   "metadata": {},
   "source": [
    "### LDA Regression"
   ]
  },
  {
   "cell_type": "code",
   "execution_count": 125,
   "metadata": {},
   "outputs": [
    {
     "name": "stdout",
     "output_type": "stream",
     "text": [
      "untuned accuracy:0.6766\n",
      "optimized accuracy:0.6766\n",
      "untuned accuracy:0.6900\n",
      "optimized accuracy:0.6900\n"
     ]
    }
   ],
   "source": [
    "# LDA Regression\n",
    "from sklearn.model_selection  import GridSearchCV\n",
    "from sklearn.metrics import make_scorer\n",
    "\n",
    "clf = LinearDiscriminantAnalysis()\n",
    "\n",
    "parameters = {'n_components':[2,5,10,15,20,25],\n",
    "             'solver':['svd','lsqr','eigen']}\n",
    "\n",
    "scorer = make_scorer(fbeta_score, beta = 0.5)\n",
    "grid_obj = GridSearchCV(clf, parameters, scorer)\n",
    "\n",
    "grid_fit = grid_obj.fit(X_train, y_train)\n",
    "\n",
    "best_clf = grid_fit.best_estimator_\n",
    "\n",
    "predictions = (clf.fit(X_train, y_train)).predict(X_test)\n",
    "best_predictions = best_clf.predict(X_test)\n",
    "\n",
    "print(\"untuned accuracy:{:.4f}\".format(accuracy_score(y_test, predictions)))\n",
    "print(\"optimized accuracy:{:.4f}\".format(accuracy_score(y_test, best_predictions)))\n",
    "\n",
    "print(\"untuned accuracy:{:.4f}\".format(fbeta_score(y_test, predictions, beta = 0.5)))\n",
    "print(\"optimized accuracy:{:.4f}\".format(fbeta_score(y_test, best_predictions, beta = 0.5)))\n"
   ]
  },
  {
   "cell_type": "code",
   "execution_count": 126,
   "metadata": {},
   "outputs": [
    {
     "data": {
      "text/plain": [
       "array([[-6.25971837, -1.45492172,  1.92071934,  0.76411841,  0.28376298,\n",
       "         0.3314164 , -0.0161366 ,  0.10241837, -0.32302196,  0.22919516,\n",
       "        -0.29781926,  0.0974614 ,  0.29793325,  0.02297696,  1.29525514,\n",
       "        -0.42619425,  1.48884427,  1.55514827, -0.71588503,  0.84891553,\n",
       "        -0.08413024,  0.72978401, -0.78569546,  0.56887739,  0.36317533,\n",
       "        -0.16710109, -0.37789836,  1.39968973]])"
      ]
     },
     "execution_count": 126,
     "metadata": {},
     "output_type": "execute_result"
    }
   ],
   "source": [
    "best_clf.coef_"
   ]
  },
  {
   "cell_type": "markdown",
   "metadata": {},
   "source": [
    "## Feature Importance"
   ]
  },
  {
   "cell_type": "markdown",
   "metadata": {},
   "source": [
    "### Sentence structure analysis"
   ]
  },
  {
   "cell_type": "code",
   "execution_count": 3,
   "metadata": {},
   "outputs": [],
   "source": [
    "# SpaCy for structure analysis\n",
    "import spacy \n",
    "from spacy import displacy\n",
    "import difflib\n",
    "\n",
    "EN = spacy.load(\"en\")\n",
    "nlp = spacy.load('en_core_web_sm')"
   ]
  },
  {
   "cell_type": "code",
   "execution_count": 35,
   "metadata": {},
   "outputs": [
    {
     "data": {
      "text/plain": [
       "699                                        hotel-chicamauga\n",
       "72401                          hearts-and-daggers-new-album\n",
       "153857    help-kickstart-welcome-to-limericks-debut-ep-a...\n",
       "149150    got-emissions-275-inch-x-9-inch-vinyl-bumper-s...\n",
       "76986                                     the-warped-vinyls\n",
       "Name: slug, dtype: object"
      ]
     },
     "execution_count": 35,
     "metadata": {},
     "output_type": "execute_result"
    }
   ],
   "source": [
    "# test tokens\n",
    "data.slug.sample(5)"
   ]
  },
  {
   "cell_type": "code",
   "execution_count": 39,
   "metadata": {},
   "outputs": [
    {
     "data": {
      "text/plain": [
       "'chasing-gold-lined-storms'"
      ]
     },
     "execution_count": 39,
     "metadata": {},
     "output_type": "execute_result"
    }
   ],
   "source": [
    "slugs = [slug for slug in data['slug']]\n",
    "slugs[1]"
   ]
  },
  {
   "cell_type": "code",
   "execution_count": 90,
   "metadata": {},
   "outputs": [],
   "source": [
    "def tokenize_text(docs, logging=False):\n",
    "    texts = []\n",
    "    counter = 1\n",
    "    for doc in docs:\n",
    "        if counter % 1000 == 0 and logging:\n",
    "            print(\"Processed %d out of %d slugs.\" % (counter, len(docs)))\n",
    "        counter += 1\n",
    "        doc = nlp(doc, disable=['parser', 'ner'])\n",
    "        tokens = [tok.pos_ for tok in doc]\n",
    "        tokens = ' '.join(tokens)\n",
    "        texts.append(tokens)\n",
    "    return pd.Series(texts)"
   ]
  },
  {
   "cell_type": "code",
   "execution_count": 96,
   "metadata": {},
   "outputs": [],
   "source": [
    "# tokenize all slugs.\n",
    "\n",
    "slugs_tokenize = tokenize_text(slugs, True)"
   ]
  },
  {
   "cell_type": "code",
   "execution_count": 40,
   "metadata": {},
   "outputs": [
    {
     "data": {
      "text/plain": [
       "'VERB PUNCT NOUN PUNCT VERB PUNCT NOUN'"
      ]
     },
     "execution_count": 40,
     "metadata": {},
     "output_type": "execute_result"
    }
   ],
   "source": [
    "# slugs_tokenize.to_pickle(\"slugs_tokenize\")\n",
    "slugs_tokenize = pd.read_pickle(\"slugs_tokenize\")\n",
    "slugs_tokenize[1]\n"
   ]
  },
  {
   "cell_type": "code",
   "execution_count": 4,
   "metadata": {},
   "outputs": [
    {
     "data": {
      "text/plain": [
       "0.6216216216216216"
      ]
     },
     "execution_count": 4,
     "metadata": {},
     "output_type": "execute_result"
    }
   ],
   "source": [
    "# difference in length and structure sequence\n",
    "difflib.SequenceMatcher(None,slugs_tokenize[10],slugs_tokenize[2]).ratio()\n"
   ]
  },
  {
   "cell_type": "markdown",
   "metadata": {},
   "source": [
    "Select a random sample randomly to train the classifier， calculate Pair-wise similarity matrix for the headlines"
   ]
  },
  {
   "cell_type": "code",
   "execution_count": 23,
   "metadata": {},
   "outputs": [],
   "source": [
    "# 1000 training set\n",
    "np.random.seed(10)\n",
    "sample_size = 1000\n",
    "sample_index = np.random.randint(0, len(slugs_tokenize), sample_size)\n",
    "m = np.zeros((sample_size,sample_size))\n",
    "\n",
    "for i, slug_x in enumerate(slugs_tokenize[sample_index]):\n",
    "    for j, slug_y in enumerate(slug_x):\n",
    "        m[i][j] = difflib.SequenceMatcher(None,slug_x,slug_y).ratio()"
   ]
  },
  {
   "cell_type": "code",
   "execution_count": 24,
   "metadata": {},
   "outputs": [
    {
     "data": {
      "text/plain": [
       "(1000, 1000)"
      ]
     },
     "execution_count": 24,
     "metadata": {},
     "output_type": "execute_result"
    }
   ],
   "source": [
    "m.shape"
   ]
  },
  {
   "cell_type": "markdown",
   "metadata": {},
   "source": [
    "use tSNE to reduce the dimensionality of similarity matrix from 1000 down to 2:"
   ]
  },
  {
   "cell_type": "code",
   "execution_count": 25,
   "metadata": {},
   "outputs": [],
   "source": [
    "from sklearn.manifold import TSNE\n",
    "tsne_model = TSNE(n_components=2, verbose=1, random_state=0)"
   ]
  },
  {
   "cell_type": "code",
   "execution_count": 26,
   "metadata": {},
   "outputs": [
    {
     "name": "stdout",
     "output_type": "stream",
     "text": [
      "[t-SNE] Computing 91 nearest neighbors...\n",
      "[t-SNE] Indexed 1000 samples in 0.028s...\n",
      "[t-SNE] Computed neighbors for 1000 samples in 0.653s...\n",
      "[t-SNE] Computed conditional probabilities for sample 1000 / 1000\n",
      "[t-SNE] Mean sigma: 0.000000\n",
      "[t-SNE] KL divergence after 250 iterations with early exaggeration: 40.082664\n",
      "[t-SNE] Error after 1000 iterations: 0.087015\n"
     ]
    }
   ],
   "source": [
    "tsne = tsne_model.fit_transform(m)"
   ]
  },
  {
   "cell_type": "code",
   "execution_count": 27,
   "metadata": {},
   "outputs": [],
   "source": [
    "from sklearn.cluster import MiniBatchKMeans\n",
    "\n",
    "kmeans_model = MiniBatchKMeans(n_clusters=5, init='k-means++', n_init=1, \n",
    "                         init_size=1000, batch_size=1000, verbose=False, max_iter=1000)\n",
    "kmeans = kmeans_model.fit(m)\n",
    "kmeans_clusters = kmeans.predict(m)\n",
    "kmeans_distances = kmeans.transform(m)"
   ]
  },
  {
   "cell_type": "code",
   "execution_count": 28,
   "metadata": {
    "scrolled": true
   },
   "outputs": [
    {
     "data": {
      "text/plain": [
       "<matplotlib.collections.PathCollection at 0x1a24393160>"
      ]
     },
     "execution_count": 28,
     "metadata": {},
     "output_type": "execute_result"
    },
    {
     "data": {
      "image/png": "[encoded data removed]",
      "text/plain": [
       "<matplotlib.figure.Figure at 0x1a1cc06e48>"
      ]
     },
     "metadata": {},
     "output_type": "display_data"
    }
   ],
   "source": [
    "plt.figure(figsize=(12,10))\n",
    "\n",
    "plt.scatter(tsne[:, 0], tsne[:, 1], c=kmeans_clusters, s=50, cmap='viridis' ,alpha =0.5)\n",
    "centers = kmeans.cluster_centers_\n",
    "plt.scatter(centers[:, 0], centers[:, 1], c='red', s=200,  alpha=0.5)\n"
   ]
  }
 ],
 "metadata": {
  "kernelspec": {
   "display_name": "Python 3",
   "language": "python",
   "name": "python3"
  },
  "language_info": {
   "codemirror_mode": {
    "name": "ipython",
    "version": 3
   },
   "file_extension": ".py",
   "mimetype": "text/x-python",
   "name": "python",
   "nbconvert_exporter": "python",
   "pygments_lexer": "ipython3",
   "version": "3.5.5"
  }
 },
 "nbformat": 4,
 "nbformat_minor": 2
}
